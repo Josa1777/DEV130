{
  "nbformat": 4,
  "nbformat_minor": 0,
  "metadata": {
    "colab": {
      "name": "Python Essential in a Notebook v1.5",
      "provenance": [],
      "collapsed_sections": [
        "le3QAmXkng6p",
        "zdYSrqdXNjJY",
        "w8v0wzbLKCCK",
        "B76hCJaNQ2J_",
        "B3XLKO2NevQa",
        "4WtPKrzklDY9",
        "pXPi49MilGgT",
        "b2UzZkdSlKII",
        "tXSSbwemlPxD",
        "GwgDYwJaSqgB",
        "7ecKUm6jStP5",
        "g60kptSf2x-f",
        "OFt36ocZ2x-i",
        "12U731Cn2-E4"
      ]
    },
    "kernelspec": {
      "name": "python3",
      "display_name": "Python 3"
    }
  },
  "cells": [
    {
      "cell_type": "markdown",
      "metadata": {
        "id": "km7jl7hA4fio"
      },
      "source": [
        "# Python Essential  in A Notebook"
      ]
    },
    {
      "cell_type": "code",
      "metadata": {
        "id": "fP-fBzp-poPW"
      },
      "source": [
        "#Release: 1.2109.1901"
      ],
      "execution_count": null,
      "outputs": []
    },
    {
      "cell_type": "markdown",
      "metadata": {
        "id": "Mhjj6oErlpEn"
      },
      "source": [
        "# 1. Python Basic Syntax"
      ]
    },
    {
      "cell_type": "markdown",
      "metadata": {
        "id": "_EetFAjeq0-c"
      },
      "source": [
        "## Lines and Indentation\n",
        "\n"
      ]
    },
    {
      "cell_type": "markdown",
      "metadata": {
        "id": "N7EZTaODP8DH"
      },
      "source": [
        "Pada Python, setiap statement dipisahkan oleh baris"
      ]
    },
    {
      "cell_type": "code",
      "metadata": {
        "id": "wWXoh-fuP7bM"
      },
      "source": [
        "i = 12\n",
        "j = 2\n",
        "k = i + j\n",
        "print(k)"
      ],
      "execution_count": null,
      "outputs": []
    },
    {
      "cell_type": "markdown",
      "metadata": {
        "id": "deZ_rz5lQhxg"
      },
      "source": [
        "Setiap block statement memiliki indent yang sama"
      ]
    },
    {
      "cell_type": "code",
      "metadata": {
        "id": "Z2vDsXnMoNtl"
      },
      "source": [
        "if i > j:\n",
        "   print(\"True\")\n",
        "   print(\"Nilai i: \", i, \" dan nilai j: \", j)\n",
        "else:\n",
        "   print(\"False\")"
      ],
      "execution_count": null,
      "outputs": []
    },
    {
      "cell_type": "markdown",
      "metadata": {
        "id": "59D15C1UrdFB"
      },
      "source": [
        "Jalankan kode di bawah ini, perhatikan apa yang akan terjadi dan kenapa"
      ]
    },
    {
      "cell_type": "code",
      "metadata": {
        "id": "Qt7GCEogr2L5"
      },
      "source": [
        "if 3 > 2:\n",
        "print(\"True\")\n",
        "else:\n",
        "print(\"False\")"
      ],
      "execution_count": null,
      "outputs": []
    },
    {
      "cell_type": "code",
      "metadata": {
        "id": "WAC1L7gSsELG"
      },
      "source": [
        "if 3 > 4:\n",
        "  print(\"True\")\n",
        "else:\n",
        " print(\"False\")"
      ],
      "execution_count": null,
      "outputs": []
    },
    {
      "cell_type": "code",
      "metadata": {
        "id": "USDSvR7_sVjv"
      },
      "source": [
        "if 3 > 2:\n",
        "   print(\"True\")\n",
        " print(\"False\")"
      ],
      "execution_count": null,
      "outputs": []
    },
    {
      "cell_type": "code",
      "metadata": {
        "id": "PkWy-xRJsEDm"
      },
      "source": [
        "if 3 > 2:\n",
        "   print(\"True\")\n",
        "print(\"False\")"
      ],
      "execution_count": null,
      "outputs": []
    },
    {
      "cell_type": "markdown",
      "metadata": {
        "id": "QCm22d-3tK_F"
      },
      "source": [
        "Semua baris yang memiliki indent  dengan jumlah spasi yang sama akan membentuk blok."
      ]
    },
    {
      "cell_type": "code",
      "metadata": {
        "id": "tN_wVQz9tPY8"
      },
      "source": [
        "a = 11\n",
        "if a > 2:\n",
        "  print(\"Greater than 2\")\n",
        "  if a > 10:\n",
        "    print(\"Greater than 10\")\n",
        "    print(\"A pretty big number\")\n",
        "  else:\n",
        "    print(\"Not greater than 10\")\n",
        "  \n",
        "else:\n",
        " print(\"Not greater than 2\")\n",
        " print(\"Still the same else block\")\n",
        "\n",
        "print(\"Print no matter what\")\n"
      ],
      "execution_count": null,
      "outputs": []
    },
    {
      "cell_type": "markdown",
      "metadata": {
        "id": "cmPue0mYkFwK"
      },
      "source": [
        "## Multiline Statements\n"
      ]
    },
    {
      "cell_type": "markdown",
      "metadata": {
        "id": "EfHAUub6S041"
      },
      "source": [
        "Beberapa cara penulisan untuk multiline statement"
      ]
    },
    {
      "cell_type": "code",
      "metadata": {
        "scrolled": true,
        "id": "_Kpjxt7KkFwS"
      },
      "source": [
        "print(\"This is a \\\n",
        "multiline \\\n",
        "statement\")\n",
        "\n",
        "print(\"This is a \" \n",
        "      \"multiline \"\n",
        "      \"statement \")\n",
        "\n",
        "a = 100 + \\\n",
        "    100 + \\\n",
        "    100\n",
        "a"
      ],
      "execution_count": null,
      "outputs": []
    },
    {
      "cell_type": "markdown",
      "metadata": {
        "id": "GMaaycAGbTIn"
      },
      "source": [
        "## Multiple Statements in A Line"
      ]
    },
    {
      "cell_type": "markdown",
      "metadata": {
        "id": "NkEhMO-wS_wU"
      },
      "source": [
        "Jika ingin menuliskan lebih dari satu statement perbaris, maka digunakan **semicolon (;)** sebagai pemisah antar statement"
      ]
    },
    {
      "cell_type": "code",
      "metadata": {
        "id": "34jjr3y8bW8P"
      },
      "source": [
        "a = 10; b = a + 2; print(b)"
      ],
      "execution_count": null,
      "outputs": []
    },
    {
      "cell_type": "markdown",
      "metadata": {
        "id": "cguNqMKcguaP"
      },
      "source": [
        "## Python Block of Code"
      ]
    },
    {
      "cell_type": "markdown",
      "metadata": {
        "id": "oOKbSyqTTyaW"
      },
      "source": [
        "Berikut contoh penulisan block pada Python"
      ]
    },
    {
      "cell_type": "code",
      "metadata": {
        "id": "SakGmtmD2Nwk"
      },
      "source": [
        "if True:\n",
        "   print(\"Answer:\")\n",
        "   print(\"True\")\n",
        "else:\n",
        "  print(\"Answer:\")\n",
        "  print(\"False\")"
      ],
      "execution_count": null,
      "outputs": []
    },
    {
      "cell_type": "code",
      "metadata": {
        "id": "nL0ucCcMg1wa"
      },
      "source": [
        "if True:\n",
        "    print(\"Answer:\")\n",
        "    print(\"True\")\n",
        "else:\n",
        "    print(\"Answer:\")\n",
        "print(\"False\")"
      ],
      "execution_count": null,
      "outputs": []
    },
    {
      "cell_type": "markdown",
      "metadata": {
        "id": "KxjERrjPhH0y"
      },
      "source": [
        "## Python Comments and Docstring"
      ]
    },
    {
      "cell_type": "markdown",
      "metadata": {
        "id": "wyx5WGNmUAp8"
      },
      "source": [
        "Komentar akan didahului dengan tanda **#**"
      ]
    },
    {
      "cell_type": "code",
      "metadata": {
        "id": "oCtiONlPUMao"
      },
      "source": [
        "# This is a line of comment"
      ],
      "execution_count": null,
      "outputs": []
    },
    {
      "cell_type": "code",
      "metadata": {
        "id": "UWckyL_ahQBe"
      },
      "source": [
        "# This is a comment\n",
        "print(\"Hello Python!\") # This line prints : Hello Python!\n",
        "\n",
        "print(\"This is \" #this is a comment\n",
        "      \"a multiline statement\")\n"
      ],
      "execution_count": null,
      "outputs": []
    },
    {
      "cell_type": "markdown",
      "metadata": {
        "id": "PKSN_LWTUrpk"
      },
      "source": [
        "**docstring** digunakan untuk mendokumentasikan modul, kelas, fungsi, atau metode, sehingga programmer dapat memahami apa yang dilakukannya tanpa harus membaca detail kodenya."
      ]
    },
    {
      "cell_type": "code",
      "metadata": {
        "id": "kVKF1ebAhgfK"
      },
      "source": [
        "def mysqrt(n):     \n",
        "  '''Takes in a number n, returns the square of n'''\n",
        "\n",
        "  return n**2\n",
        "\n",
        "mysqrt.__doc__"
      ],
      "execution_count": null,
      "outputs": []
    },
    {
      "cell_type": "markdown",
      "metadata": {
        "id": "xA8wuLurAU59"
      },
      "source": [
        "## Print"
      ]
    },
    {
      "cell_type": "code",
      "metadata": {
        "id": "F66cic-lATfQ"
      },
      "source": [
        "x = 2\n",
        "print('Value of x:', x)"
      ],
      "execution_count": null,
      "outputs": []
    },
    {
      "cell_type": "markdown",
      "metadata": {
        "id": "pJQ-suj3A9Nx"
      },
      "source": [
        "Format **print** untu nilai integer and float"
      ]
    },
    {
      "cell_type": "code",
      "metadata": {
        "id": "P-66flYDA7vu"
      },
      "source": [
        "# print integer and float value\n",
        "print(\"Total: %2d, Average: %5.2f\" % (1, 05.333))"
      ],
      "execution_count": null,
      "outputs": []
    },
    {
      "cell_type": "code",
      "metadata": {
        "id": "-IHVzUtzBOCT"
      },
      "source": [
        "# print integer value\n",
        "print(\"Total students: -%3d-, Boys : -%3d-\" % (247, 1))"
      ],
      "execution_count": null,
      "outputs": []
    },
    {
      "cell_type": "code",
      "metadata": {
        "id": "4fRGjATdEs49"
      },
      "source": [
        ""
      ],
      "execution_count": null,
      "outputs": []
    },
    {
      "cell_type": "markdown",
      "metadata": {
        "id": "jyNL1nSNEuKz"
      },
      "source": [
        "## Variable"
      ]
    },
    {
      "cell_type": "markdown",
      "metadata": {
        "id": "x_aWXoG6WfmS"
      },
      "source": [
        "setiap variable tidak perlu didefinisikan type-nya terlebih dahulu. Type variable akan mengikuti nilai yang diberikan ke sebuah variabel"
      ]
    },
    {
      "cell_type": "code",
      "metadata": {
        "id": "shoRYgGSE1N0"
      },
      "source": [
        "x = 2\n",
        "type(x)"
      ],
      "execution_count": null,
      "outputs": []
    },
    {
      "cell_type": "code",
      "metadata": {
        "id": "YO0v71ROE56u"
      },
      "source": [
        "x = 'dua'\n",
        "type(x)"
      ],
      "execution_count": null,
      "outputs": []
    },
    {
      "cell_type": "markdown",
      "metadata": {
        "id": "K7Rwx2jz2OVl"
      },
      "source": [
        "#2. Python Numbers\n"
      ]
    },
    {
      "cell_type": "markdown",
      "metadata": {
        "id": "jxBgKRd5Dlu0"
      },
      "source": [
        "## Integer"
      ]
    },
    {
      "cell_type": "code",
      "metadata": {
        "id": "eIP2xZZN2OVl"
      },
      "source": [
        "my_num = 7\n",
        "my_num"
      ],
      "execution_count": null,
      "outputs": []
    },
    {
      "cell_type": "code",
      "metadata": {
        "id": "-rkeWWiDIIPx"
      },
      "source": [
        "print(my_num)"
      ],
      "execution_count": null,
      "outputs": []
    },
    {
      "cell_type": "code",
      "metadata": {
        "id": "YMznP7XoIME-"
      },
      "source": [
        "print('Value:', my_num)"
      ],
      "execution_count": null,
      "outputs": []
    },
    {
      "cell_type": "code",
      "metadata": {
        "id": "JPjUkZxUHi_S"
      },
      "source": [
        "type(my_num)"
      ],
      "execution_count": null,
      "outputs": []
    },
    {
      "cell_type": "code",
      "metadata": {
        "id": "XQGtip7sHmuj"
      },
      "source": [
        "print(isinstance(my_num, int))\n",
        "print(isinstance(my_num, float))"
      ],
      "execution_count": null,
      "outputs": []
    },
    {
      "cell_type": "code",
      "metadata": {
        "id": "fgE1CMbQvwcd"
      },
      "source": [
        "my_num = int('7')\n",
        "print(my_num)\n",
        "print(type(my_num))\n",
        "print(isinstance(my_num, int))"
      ],
      "execution_count": null,
      "outputs": []
    },
    {
      "cell_type": "markdown",
      "metadata": {
        "id": "0o-Nu60R2OVo"
      },
      "source": [
        "## Float"
      ]
    },
    {
      "cell_type": "code",
      "metadata": {
        "id": "iIh12Syz2OVp"
      },
      "source": [
        "my_fnum = 1.0\n",
        "print(my_fnum)\n",
        "print(type(my_fnum))\n",
        "print(isinstance(my_fnum, float))"
      ],
      "execution_count": null,
      "outputs": []
    },
    {
      "cell_type": "code",
      "metadata": {
        "id": "sJbnj1mqv3wQ"
      },
      "source": [
        "my_fnum = float(my_num)\n",
        "print(my_fnum)\n",
        "print(type(my_fnum))\n",
        "print(isinstance(my_fnum, float))"
      ],
      "execution_count": null,
      "outputs": []
    },
    {
      "cell_type": "markdown",
      "metadata": {
        "id": "Ob4ejPxDm-oN"
      },
      "source": [
        "Pembagian type `int` akan menghasilkan `float`"
      ]
    },
    {
      "cell_type": "code",
      "metadata": {
        "id": "ts7JLYuB2OVq"
      },
      "source": [
        "num1 = 4\n",
        "num2 = 2\n",
        "print(type(num1))\n",
        "print(type(num2))"
      ],
      "execution_count": null,
      "outputs": []
    },
    {
      "cell_type": "code",
      "metadata": {
        "id": "vjconkgOFwC2"
      },
      "source": [
        "num3 = num1 / num2\n",
        "print(num3)\n",
        "type(num3)"
      ],
      "execution_count": null,
      "outputs": []
    },
    {
      "cell_type": "code",
      "metadata": {
        "id": "zNCv2adp-YVJ"
      },
      "source": [
        "from fractions import Fraction\n",
        "\n",
        "my_fraction = Fraction(8, -10)\n",
        "print(my_fraction)\n",
        "type(my_fraction)"
      ],
      "execution_count": null,
      "outputs": []
    },
    {
      "cell_type": "markdown",
      "metadata": {
        "id": "Fto9d_q69jQH"
      },
      "source": [
        "# 3. Strings"
      ]
    },
    {
      "cell_type": "markdown",
      "metadata": {
        "id": "dUN7LM_hcaA5"
      },
      "source": [
        "String diidentifikasikan dengan tanda **petik tunggal (')** atau **petik ganda (\")** yang mengapitnya"
      ]
    },
    {
      "cell_type": "code",
      "metadata": {
        "id": "1qjYMHScKP46"
      },
      "source": [
        "str1 = 'Hello world!'\n",
        "str2 = \"This is a Python string.\""
      ],
      "execution_count": null,
      "outputs": []
    },
    {
      "cell_type": "code",
      "metadata": {
        "id": "uO6rTG5fc-Sz"
      },
      "source": [
        "# tampilkan str1 dan str2\n",
        "\n"
      ],
      "execution_count": null,
      "outputs": []
    },
    {
      "cell_type": "code",
      "metadata": {
        "id": "w-Rs45LGdFi1"
      },
      "source": [
        "# tampilkan tipe dari str1 dan str2 dengan menggunakan fungsi type\n",
        "\n"
      ],
      "execution_count": null,
      "outputs": []
    },
    {
      "cell_type": "markdown",
      "metadata": {
        "id": "ciK9YLZEdS9P"
      },
      "source": [
        "Untuk mengetahui panjang string dapat menggunakan fungsi **len**"
      ]
    },
    {
      "cell_type": "code",
      "metadata": {
        "id": "xqmyex08fc_A"
      },
      "source": [
        "# tampilkan panjang str2\n"
      ],
      "execution_count": null,
      "outputs": []
    },
    {
      "cell_type": "markdown",
      "metadata": {
        "id": "6fVK7oeHrihq"
      },
      "source": [
        "Menampilkan tanda petik tunggal atau petik ganda dalam string"
      ]
    },
    {
      "cell_type": "code",
      "metadata": {
        "id": "3MDy_7Wur6ib"
      },
      "source": [
        "print('allows embedded \"double\" quotes')"
      ],
      "execution_count": null,
      "outputs": []
    },
    {
      "cell_type": "code",
      "metadata": {
        "id": "5_aGYaCQfMOA"
      },
      "source": [
        "print(\"allows embedded 'single' quotes\")"
      ],
      "execution_count": null,
      "outputs": []
    },
    {
      "cell_type": "markdown",
      "metadata": {
        "id": "FWirS8k7d_hb"
      },
      "source": [
        "Tanda 3 kali petik dapat digunakan untuk penulisan string yang memiliki lebih dari satu baris"
      ]
    },
    {
      "cell_type": "code",
      "metadata": {
        "id": "uyW1xnKLeAMp"
      },
      "source": [
        "print('''Three single \n",
        "quotes''')\n",
        "\n",
        "print(\"\"\"Three double \n",
        "quotes\"\"\")"
      ],
      "execution_count": null,
      "outputs": []
    },
    {
      "cell_type": "code",
      "metadata": {
        "id": "E-OlYerGtda-"
      },
      "source": [
        "print(\"This is multi\\\n",
        "line statement.\")\n",
        "print(\"\"\"This is multi\n",
        "line string.\"\"\")\n"
      ],
      "execution_count": null,
      "outputs": []
    },
    {
      "cell_type": "markdown",
      "metadata": {
        "id": "9FPH6T4wep8L"
      },
      "source": [
        "Karakter khusus: **tab, newline dan backspace**"
      ]
    },
    {
      "cell_type": "code",
      "metadata": {
        "id": "hw91TvvhsQDV"
      },
      "source": [
        "print(\"this is tab\\t.\")"
      ],
      "execution_count": null,
      "outputs": []
    },
    {
      "cell_type": "code",
      "metadata": {
        "id": "snrX8Bkfe7Ga"
      },
      "source": [
        "print(\"this is new\\nline.\")"
      ],
      "execution_count": null,
      "outputs": []
    },
    {
      "cell_type": "code",
      "metadata": {
        "id": "UpUOiZKse9Ec"
      },
      "source": [
        "print(\"this is backspace\\b.\")"
      ],
      "execution_count": null,
      "outputs": []
    },
    {
      "cell_type": "markdown",
      "metadata": {
        "id": "KiZ2goAu-H6p"
      },
      "source": [
        "Mengakses elemen pada string"
      ]
    },
    {
      "cell_type": "code",
      "metadata": {
        "id": "JLOoHXQR-IaE"
      },
      "source": [
        "mystring = 'Apa kabar dunia!'\n",
        "print(mystring)"
      ],
      "execution_count": null,
      "outputs": []
    },
    {
      "cell_type": "markdown",
      "metadata": {
        "id": "S0fcqsSnYDkQ"
      },
      "source": [
        "Mengakses huruf pertama"
      ]
    },
    {
      "cell_type": "code",
      "metadata": {
        "id": "iZ3SoRLKYTRc"
      },
      "source": [
        "print(mystring[0])"
      ],
      "execution_count": null,
      "outputs": []
    },
    {
      "cell_type": "markdown",
      "metadata": {
        "id": "vd56xbYdY2mn"
      },
      "source": [
        "Mengakses huruf ke 4 sampai 10"
      ]
    },
    {
      "cell_type": "code",
      "metadata": {
        "id": "14Lui2dvYXKc"
      },
      "source": [
        "print(mystring[4:10])"
      ],
      "execution_count": null,
      "outputs": []
    },
    {
      "cell_type": "markdown",
      "metadata": {
        "id": "P99lsRbmZKCR"
      },
      "source": [
        "Mengakses huruf ke 4 hingga terakhir"
      ]
    },
    {
      "cell_type": "code",
      "metadata": {
        "id": "bl0SYwtcYqe1"
      },
      "source": [
        "print(mystring[4:])"
      ],
      "execution_count": null,
      "outputs": []
    },
    {
      "cell_type": "markdown",
      "metadata": {
        "id": "t0pXfddkZaSp"
      },
      "source": [
        "Mengakses huruf pertama hingga 10 dari akhir"
      ]
    },
    {
      "cell_type": "code",
      "metadata": {
        "id": "GqAGHk_oYrIn"
      },
      "source": [
        "print(mystring[:-10])"
      ],
      "execution_count": null,
      "outputs": []
    },
    {
      "cell_type": "markdown",
      "metadata": {
        "id": "sW4kukD-9iTp"
      },
      "source": [
        "##Updating string\n",
        "\n",
        "String pada python adalah **immutable**. Tidak dapat diubah atau diupdate, Untuk mengubahnya harus membuat string yang baru.\n"
      ]
    },
    {
      "cell_type": "code",
      "metadata": {
        "id": "Sgg8ItvvfyfZ"
      },
      "source": [
        "str2 = \"This is a Python string.\"\n",
        "print(str2)"
      ],
      "execution_count": null,
      "outputs": []
    },
    {
      "cell_type": "code",
      "metadata": {
        "id": "3bcw-xNuaE68"
      },
      "source": [
        "print(str2.replace('i','_'))"
      ],
      "execution_count": null,
      "outputs": []
    },
    {
      "cell_type": "code",
      "metadata": {
        "id": "GYRc44IoaGkr"
      },
      "source": [
        "print(str2)"
      ],
      "execution_count": null,
      "outputs": []
    },
    {
      "cell_type": "code",
      "metadata": {
        "id": "pu79JT1wm-DD"
      },
      "source": [
        "A = \"Hello World!\"\n",
        "A[5] = 'a'"
      ],
      "execution_count": null,
      "outputs": []
    },
    {
      "cell_type": "markdown",
      "metadata": {
        "id": "757gPHx7m6Hm"
      },
      "source": [
        "##String Operators"
      ]
    },
    {
      "cell_type": "code",
      "metadata": {
        "id": "Vb1kLtsTm-JF"
      },
      "source": [
        "#checking containments\n",
        "str2 = \"This is a Python string.\"\n",
        "print('x' in str2)\n",
        "print('x' not in str2)"
      ],
      "execution_count": null,
      "outputs": []
    },
    {
      "cell_type": "code",
      "metadata": {
        "id": "YlajpS6ppIhI"
      },
      "source": [
        "#concatenation \n",
        "print(str2 + \" You know.\")\n",
        "print(str2)\n"
      ],
      "execution_count": null,
      "outputs": []
    },
    {
      "cell_type": "code",
      "metadata": {
        "id": "EZsAuWwnpIZl"
      },
      "source": [
        "#multiplication --> adding string to itself n times\n",
        "str1 = 'Hello world!'\n",
        "print(str1 * 3)\n",
        "print(3 * str1)"
      ],
      "execution_count": null,
      "outputs": []
    },
    {
      "cell_type": "code",
      "metadata": {
        "id": "lZfiemkJp6Lp"
      },
      "source": [
        "str1 = 'Hello world!'\n",
        "print(\"Minimun char in str1: \\'\"+ min(str1) + \"\\'\")\n",
        "print(\"Maximun char in str1: \\'\"+ max(str1) + \"\\'\")"
      ],
      "execution_count": null,
      "outputs": []
    },
    {
      "cell_type": "markdown",
      "metadata": {
        "id": "JphWq9A8uXVJ"
      },
      "source": [
        "##String methods\n"
      ]
    },
    {
      "cell_type": "markdown",
      "metadata": {
        "id": "xdBefgZWa_jq"
      },
      "source": [
        "Untuk mengetahui panjang sebuah string dapat menggunakan fungsi **len**"
      ]
    },
    {
      "cell_type": "code",
      "metadata": {
        "id": "AacthBHmapOz"
      },
      "source": [
        "# tampilkan panjang string str2\n"
      ],
      "execution_count": null,
      "outputs": []
    },
    {
      "cell_type": "markdown",
      "metadata": {
        "id": "dzCFtzU5fcO_"
      },
      "source": [
        "Method **count** pada string digunakan untuk mencari jumlah kemunculan sebuah string"
      ]
    },
    {
      "cell_type": "code",
      "metadata": {
        "id": "DNNDSfbVqP7v"
      },
      "source": [
        "# berapa kali 'is' muncul pada str2 ?\n"
      ],
      "execution_count": null,
      "outputs": []
    },
    {
      "cell_type": "markdown",
      "metadata": {
        "id": "yxL5x4pKgbwh"
      },
      "source": [
        "Method **lower** digunakan untuk merubah string menjadi huruf kecil (lower case)"
      ]
    },
    {
      "cell_type": "code",
      "metadata": {
        "id": "6WMjW7EOufPk"
      },
      "source": [
        "# tampilkan str2 sebagai lower case\n"
      ],
      "execution_count": null,
      "outputs": []
    },
    {
      "cell_type": "markdown",
      "metadata": {
        "id": "KcIwa2B8gv2a"
      },
      "source": [
        "Method **find** digunakan untuk mencari posisi pertama kali ditemukannya sebuah substring "
      ]
    },
    {
      "cell_type": "code",
      "metadata": {
        "id": "2zq3toeCv12i"
      },
      "source": [
        "# cari lokasi is pada str2\n",
        "print(str2.find(\"is\"))"
      ],
      "execution_count": null,
      "outputs": []
    },
    {
      "cell_type": "code",
      "metadata": {
        "id": "xct8O6Nihkps"
      },
      "source": [
        "# cari lokasi is pada str2 dimulai dari index ke 3\n",
        "print(str2.find(\"is\",3))"
      ],
      "execution_count": null,
      "outputs": []
    },
    {
      "cell_type": "code",
      "metadata": {
        "id": "efS0Yw43hbfi"
      },
      "source": [
        ""
      ],
      "execution_count": null,
      "outputs": []
    },
    {
      "cell_type": "markdown",
      "metadata": {
        "id": "Fr7uWzYZgArD"
      },
      "source": [
        "List lengkap method pada string --> https://docs.python.org/3/library/stdtypes.html#string-methods "
      ]
    },
    {
      "cell_type": "markdown",
      "metadata": {
        "id": "14cTLcfxrHde"
      },
      "source": [
        "##String Formatting Operators\n",
        "\n",
        "see complete doc in https://docs.python.org/3/library/stdtypes.html#printf-style-string-formatting"
      ]
    },
    {
      "cell_type": "code",
      "metadata": {
        "id": "z8m2pZj1rOAY"
      },
      "source": [
        "planet = 'Earth'\n",
        "radius = 6371\n",
        "print (\"The %s radius is %d km!\" % (planet,  radius)) "
      ],
      "execution_count": null,
      "outputs": []
    },
    {
      "cell_type": "code",
      "metadata": {
        "id": "fv8NCwZ-iI7r"
      },
      "source": [
        "a = 'Mars'; b = 3389.5\n",
        "print (\"The __ radius is __ km!\" % (a,  b))  # b dalam desimal \n",
        "print (\"The __ radius is __ km!\" % (a,  b))  # b dalam float"
      ],
      "execution_count": null,
      "outputs": []
    },
    {
      "cell_type": "code",
      "metadata": {
        "id": "gzW2p0WEw-mG"
      },
      "source": [
        "#the f-string formatter\n",
        "print(f\"The {planet} radius is {radius} km!\")"
      ],
      "execution_count": null,
      "outputs": []
    },
    {
      "cell_type": "code",
      "metadata": {
        "id": "r7nfRBv-xK7O"
      },
      "source": [
        "#the format() method\n",
        "print(\"The {0} radius is {1} km!\".format(planet, radius))\n",
        "print(\"The {a} radius is {b} km!\".format(a=\"Mars\", b=3389.5))"
      ],
      "execution_count": null,
      "outputs": []
    },
    {
      "cell_type": "code",
      "metadata": {
        "id": "erMdybbyyNt0"
      },
      "source": [
        ""
      ],
      "execution_count": null,
      "outputs": []
    },
    {
      "cell_type": "markdown",
      "metadata": {
        "id": "ZxQVkgiS2gcp"
      },
      "source": [
        "#4. List"
      ]
    },
    {
      "cell_type": "markdown",
      "metadata": {
        "id": "iYl6kgTnjK-U"
      },
      "source": [
        "List adalah sekumpulan object yang ditandai dengan **kurung siku**\n",
        "\n",
        "List adalah mutable, sehingga dapat diupdate atau diubah"
      ]
    },
    {
      "cell_type": "code",
      "metadata": {
        "id": "ZXO5SmSd2gcq"
      },
      "source": [
        "list1 = ['apple', 'banana', 'strawberry', 100, 100, 200, 10/3]\n",
        "list1"
      ],
      "execution_count": null,
      "outputs": []
    },
    {
      "cell_type": "code",
      "metadata": {
        "id": "yk0DcPqtlAOs"
      },
      "source": [
        "# tampilkan panjang list1 menggunakan fungsi len\n"
      ],
      "execution_count": null,
      "outputs": []
    },
    {
      "cell_type": "markdown",
      "metadata": {
        "id": "YM-5h_yx2gcs"
      },
      "source": [
        "##Accessing elements"
      ]
    },
    {
      "cell_type": "code",
      "metadata": {
        "id": "ivjnXoYu2gcs"
      },
      "source": [
        "# tampilkan element pertama dari list1\n"
      ],
      "execution_count": null,
      "outputs": []
    },
    {
      "cell_type": "code",
      "metadata": {
        "id": "GRAXa_VzjjDy"
      },
      "source": [
        "# tampilkan semua elemen list1 mulai dari elemen ke 3\n"
      ],
      "execution_count": null,
      "outputs": []
    },
    {
      "cell_type": "code",
      "metadata": {
        "id": "lEl0cCHJjtwu"
      },
      "source": [
        "# tampilkan mulai dari elemen pertama hingga elemen ke 3 dari akhir (dengan notasi -)\n"
      ],
      "execution_count": null,
      "outputs": []
    },
    {
      "cell_type": "markdown",
      "metadata": {
        "id": "kRrHnJLb-BU6"
      },
      "source": [
        "##Updating a list"
      ]
    },
    {
      "cell_type": "code",
      "metadata": {
        "id": "nVCplxxO9w0b"
      },
      "source": [
        "# ubah elemen ke 2 menjadi 'cherry'\n"
      ],
      "execution_count": null,
      "outputs": []
    },
    {
      "cell_type": "markdown",
      "metadata": {
        "id": "PCf_5vC_2gcv"
      },
      "source": [
        "##Deleting element"
      ]
    },
    {
      "cell_type": "code",
      "metadata": {
        "id": "UnotLus1AvKv"
      },
      "source": [
        "#delete by index\n",
        "del list1[2]"
      ],
      "execution_count": null,
      "outputs": []
    },
    {
      "cell_type": "code",
      "metadata": {
        "id": "RzIVAoeJlYcr"
      },
      "source": [
        "list1[2]"
      ],
      "execution_count": null,
      "outputs": []
    },
    {
      "cell_type": "code",
      "metadata": {
        "id": "gocMjV-glXuS"
      },
      "source": [
        "print (\"After deleting value at index 2 : \", list1)"
      ],
      "execution_count": null,
      "outputs": []
    },
    {
      "cell_type": "code",
      "metadata": {
        "id": "uJWr1dt3BI3I"
      },
      "source": [
        "#delete by item\n",
        "list1.remove(100)\n",
        "print (\"After deleting value 100 : \", list1)"
      ],
      "execution_count": null,
      "outputs": []
    },
    {
      "cell_type": "markdown",
      "metadata": {
        "id": "cdxmd4-dA5LD"
      },
      "source": [
        "##Appending list"
      ]
    },
    {
      "cell_type": "code",
      "metadata": {
        "id": "5Y2ydDG7I752"
      },
      "source": [
        "#Appends object obj to list\n",
        "list1.append(\"tomato\")\n",
        "print (\"After append  : \", list1)\n",
        "\n",
        "#Appends the contents of seq to list\n",
        "list2 = ['red', 'green', 'blue']\n",
        "list1.extend(list2)\n",
        "print (\"After appends : \", list1)\n",
        "\n",
        "#Appends list object to list\n",
        "list1.append(list2)\n",
        "print (\"After appends : \", list1)\n",
        "\n"
      ],
      "execution_count": null,
      "outputs": []
    },
    {
      "cell_type": "markdown",
      "metadata": {
        "id": "ouqgzyiWKJCt"
      },
      "source": [
        "# 5. Tuple\n",
        "\n",
        "\n",
        "Tuple is **immutable** collection of objects\n",
        "\n",
        "Tuples use **parentheses**, whereas lists use **square brackets**."
      ]
    },
    {
      "cell_type": "code",
      "metadata": {
        "id": "Kzk__-7tKKN7"
      },
      "source": [
        "col_01 = []\n",
        "col_02 = ()\n",
        "\n",
        "print('Type of collection 01:', type(col_01))\n",
        "print('Type of collection 01:', type(col_02))"
      ],
      "execution_count": null,
      "outputs": []
    },
    {
      "cell_type": "code",
      "metadata": {
        "id": "AOWfPcKELxIJ"
      },
      "source": [
        "tuple01 = ('sun', 'mon', 'tue', 1, 2/7, ['a','b'])\n",
        "tuple01"
      ],
      "execution_count": null,
      "outputs": []
    },
    {
      "cell_type": "markdown",
      "metadata": {
        "id": "xorFXLTLMTGo"
      },
      "source": [
        "##Accessing tuple elements"
      ]
    },
    {
      "cell_type": "code",
      "metadata": {
        "id": "7xZBZb3pME1G"
      },
      "source": [
        "print(tuple01[0])\n",
        "print(tuple01[3:])\n",
        "print(tuple01[:-3])"
      ],
      "execution_count": null,
      "outputs": []
    },
    {
      "cell_type": "markdown",
      "metadata": {
        "id": "gKk6pBDTMhGt"
      },
      "source": [
        "##Updating tuple"
      ]
    },
    {
      "cell_type": "code",
      "metadata": {
        "id": "xdaa3J98Mj-N"
      },
      "source": [
        "#Tuple is immutable, updating is not possible\n",
        "#tup1[1] = 'sat'\n",
        "print(tuple01)\n"
      ],
      "execution_count": null,
      "outputs": []
    },
    {
      "cell_type": "markdown",
      "metadata": {
        "id": "zdYSrqdXNjJY"
      },
      "source": [
        "##Tuple operations"
      ]
    },
    {
      "cell_type": "code",
      "metadata": {
        "id": "ku66xTrvNnFl"
      },
      "source": [
        "#concatenation\n",
        "print(tuple01 + (1,2,3))\n",
        "\n",
        "#multiplication\n",
        "print(tuple01 * 2)\n",
        "\n",
        "#len\n",
        "print(len(tuple01))\n",
        "\n",
        "#check containment\n",
        "print(1 in tuple01)\n",
        "print(1 not in tuple01)"
      ],
      "execution_count": null,
      "outputs": []
    },
    {
      "cell_type": "code",
      "metadata": {
        "id": "IiYiYD-JOjBc"
      },
      "source": [
        ""
      ],
      "execution_count": null,
      "outputs": []
    },
    {
      "cell_type": "markdown",
      "metadata": {
        "id": "eswmGbz-l8Xi"
      },
      "source": [
        "# Sequence Operation\n",
        "\n",
        "\n",
        "Sequence is collection of objects whose contents can be accessed via \"**indexing**\"\n",
        "\n",
        "Most common used sequence: **Strings, Lists, Tupples**"
      ]
    },
    {
      "cell_type": "code",
      "metadata": {
        "id": "WTKBteH0LWRc"
      },
      "source": [
        "a = 'Hello '\n",
        "len(a)"
      ],
      "execution_count": null,
      "outputs": []
    },
    {
      "cell_type": "markdown",
      "metadata": {
        "id": "iJzLV6WUJtbY"
      },
      "source": [
        "### Indexing and Slicing"
      ]
    },
    {
      "cell_type": "code",
      "metadata": {
        "id": "T1d2l_4omjS7"
      },
      "source": [
        "b = [1, 2, 3, 4, 5]\n",
        "len(b)"
      ],
      "execution_count": null,
      "outputs": []
    },
    {
      "cell_type": "code",
      "metadata": {
        "id": "hpxt_p5iMjfx"
      },
      "source": [
        "b[0]"
      ],
      "execution_count": null,
      "outputs": []
    },
    {
      "cell_type": "code",
      "metadata": {
        "id": "NVQUtkSqMngV"
      },
      "source": [
        "b[0:3]"
      ],
      "execution_count": null,
      "outputs": []
    },
    {
      "cell_type": "code",
      "metadata": {
        "id": "bypt2xqLMz33"
      },
      "source": [
        "b[:3]"
      ],
      "execution_count": null,
      "outputs": []
    },
    {
      "cell_type": "code",
      "metadata": {
        "id": "OoyYbE2gMcdv"
      },
      "source": [
        "print( b[3] + b[-4])"
      ],
      "execution_count": null,
      "outputs": []
    },
    {
      "cell_type": "code",
      "metadata": {
        "id": "Hbj8b5PHJrvO"
      },
      "source": [
        "a = 'Hello World!'\n",
        "print( a[-6:] + a[:5])"
      ],
      "execution_count": null,
      "outputs": []
    },
    {
      "cell_type": "code",
      "metadata": {
        "id": "N2dCcp-9JlEJ"
      },
      "source": [
        "#iteration\n",
        "for item in a:\n",
        "  print(item)\n"
      ],
      "execution_count": null,
      "outputs": []
    },
    {
      "cell_type": "markdown",
      "metadata": {
        "id": "Cmm7gcvYLrfL"
      },
      "source": [
        "### Concatenation"
      ]
    },
    {
      "cell_type": "code",
      "metadata": {
        "id": "BeifG0B9mAb3"
      },
      "source": [
        "#concatenation string\n",
        "a = 'Hello '\n",
        "print( a + 'World!' )"
      ],
      "execution_count": null,
      "outputs": []
    },
    {
      "cell_type": "code",
      "metadata": {
        "id": "CE1kNgYaLpom"
      },
      "source": [
        "#concatenation list\n",
        "b = [1 , 2]\n",
        "c = ['a', 'b']\n",
        "print( b + c )"
      ],
      "execution_count": null,
      "outputs": []
    },
    {
      "cell_type": "code",
      "metadata": {
        "id": "Jfuu3ZjIMBkz"
      },
      "source": [
        "type(b)"
      ],
      "execution_count": null,
      "outputs": []
    },
    {
      "cell_type": "code",
      "metadata": {
        "id": "DHFfU6cImPeK"
      },
      "source": [
        "#sequence multiplication\n",
        "a = 'Hello World!'\n",
        "print( a * 3 )\n",
        "\n",
        "b = 1, 2, 3, 4\n",
        "print( b * 2 )"
      ],
      "execution_count": null,
      "outputs": []
    },
    {
      "cell_type": "code",
      "metadata": {
        "id": "ekV26EBDme_o"
      },
      "source": [
        "#membership testing\n",
        "a = 'Hello World!'\n",
        "print( 'Hello' in a )\n",
        "\n",
        "b = [1, 2, 3, 4]\n",
        "print( 7 in b )"
      ],
      "execution_count": null,
      "outputs": []
    },
    {
      "cell_type": "markdown",
      "metadata": {
        "id": "w8v0wzbLKCCK"
      },
      "source": [
        "#6. Conditional Statement\n"
      ]
    },
    {
      "cell_type": "markdown",
      "metadata": {
        "id": "XRiQv1CrTeqD"
      },
      "source": [
        "##Truth value testing"
      ]
    },
    {
      "cell_type": "code",
      "metadata": {
        "id": "e_ghWLJ4IUq1"
      },
      "source": [
        "#python consider Null, empty sequences, and 0 as False and other as True\n",
        "\n",
        "print(\"Nonzero number = {0}, zero number = {1}\".format(bool(1), bool(0)))\n",
        "print(\"String with value = {0}, empty string = {1}\".format(bool('some string'), bool('')))"
      ],
      "execution_count": null,
      "outputs": []
    },
    {
      "cell_type": "code",
      "metadata": {
        "id": "PTcdyjWvSBor"
      },
      "source": [
        "list1 = []; list2 = [1,2]\n",
        "print(\"List with value = {0}, empty list = {1}\".format(bool(list2), bool(list1)))"
      ],
      "execution_count": null,
      "outputs": []
    },
    {
      "cell_type": "code",
      "metadata": {
        "id": "P7aSxdnNSGOd"
      },
      "source": [
        "tuple1 =(); tuple2 = 1,2,3\n",
        "print(\"Tuple with value = {0}, empty tuple = {1}\".format(bool(tuple2), bool(tuple1)))\n",
        "print(\"Null value = {0}\".format(bool(None)))"
      ],
      "execution_count": null,
      "outputs": []
    },
    {
      "cell_type": "markdown",
      "metadata": {
        "id": "B3XLKO2NevQa"
      },
      "source": [
        "##Combining logic statement"
      ]
    },
    {
      "cell_type": "code",
      "metadata": {
        "id": "MKDK3kgley27"
      },
      "source": [
        "stat1 = True\n",
        "stat2 = False\n",
        "stat3 = 247\n",
        "stat4 = []\n",
        "\n",
        "print(\"[1,2,3] != [3,2,1] = {0}\".format([1,2,3] != [3,2,1]))\n",
        "#print(\"{1,2,3\\} != \\{3,2,1\\} = {0}\".format({1,2,3} != {3,2,1}))\n",
        "print(\"True and False = {0}\".format(stat1 and stat2))\n",
        "print(\"True and 247 = {0}\".format(stat3 and stat1))\n",
        "print(\"True and empty list = {0}\".format(stat4 and stat1))\n",
        "\n",
        "print(100 and True and 200)"
      ],
      "execution_count": null,
      "outputs": []
    },
    {
      "cell_type": "markdown",
      "metadata": {
        "id": "4WtPKrzklDY9"
      },
      "source": [
        "##Simple `if` statement"
      ]
    },
    {
      "cell_type": "code",
      "metadata": {
        "id": "aoJWlyHglGBs"
      },
      "source": [
        "statement = True\n",
        "if statement:\n",
        "    print('statement is True')\n",
        "    \n",
        "if not statement:\n",
        "    print('statement is not True')"
      ],
      "execution_count": null,
      "outputs": []
    },
    {
      "cell_type": "code",
      "metadata": {
        "id": "3rOV3QUez_DC"
      },
      "source": [
        "empty_list = []\n",
        "if empty_list:\n",
        "    print('empty list is considered True')\n",
        "    \n",
        "if not empty_list:\n",
        "    print('empty list is considered False')"
      ],
      "execution_count": null,
      "outputs": []
    },
    {
      "cell_type": "markdown",
      "metadata": {
        "id": "pXPi49MilGgT"
      },
      "source": [
        "##`if-else` statement"
      ]
    },
    {
      "cell_type": "code",
      "metadata": {
        "id": "AQJyfpoIlJV0"
      },
      "source": [
        "statement = True\n",
        "if statement:\n",
        "    print('statement is True')\n",
        "else:\n",
        "    print('statement is not True')"
      ],
      "execution_count": null,
      "outputs": []
    },
    {
      "cell_type": "code",
      "metadata": {
        "id": "PKA1OnrQz93y"
      },
      "source": [
        "zero_num = 0\n",
        "if zero_num:\n",
        "    print('zero is considered True')\n",
        "else:\n",
        "    print('zero is considered False')"
      ],
      "execution_count": null,
      "outputs": []
    },
    {
      "cell_type": "code",
      "metadata": {
        "id": "NqNOXIZPz9wD"
      },
      "source": [
        ""
      ],
      "execution_count": null,
      "outputs": []
    },
    {
      "cell_type": "markdown",
      "metadata": {
        "id": "b2UzZkdSlKII"
      },
      "source": [
        "##nested `if` statement"
      ]
    },
    {
      "cell_type": "code",
      "metadata": {
        "id": "Y3u08mlqlPMk"
      },
      "source": [
        "mynum = 6\n",
        "if mynum <= 10:\n",
        "  print(\"Less than or equal to 10\")\n",
        "  if mynum != 5:\n",
        "    if mynum < 5:\n",
        "      print(\"Less than 5\")\n",
        "    else:\n",
        "      print(\"It's either 6, 7, 8, 9 or 10\")\n",
        "  else:\n",
        "    print(\"5\")\n",
        "else:\n",
        "  print(\"Greater than 10\")\n",
        "  if (mynum <= 1000):\n",
        "    print(\"Less than 1000\")\n",
        "  else:\n",
        "    print(\"Pretty big number\")\n",
        "\n",
        "print(\"print anyway\")"
      ],
      "execution_count": null,
      "outputs": []
    },
    {
      "cell_type": "markdown",
      "metadata": {
        "id": "tXSSbwemlPxD"
      },
      "source": [
        "##`elif` statement"
      ]
    },
    {
      "cell_type": "code",
      "metadata": {
        "id": "_3nIi6h_lTF5"
      },
      "source": [
        "mynum = 60\n",
        "if mynum <= 5:\n",
        "  print(\"Less than or equal to 5\")\n",
        "elif mynum <= 10:\n",
        "  print(\"It's either 6, 7, 8, 9 or 10\")\n",
        "elif mynum <= 100:\n",
        "  print(\"Between 11 and 1000\")\n",
        "else:\n",
        "  print(\"Pretty big number\")\n"
      ],
      "execution_count": null,
      "outputs": []
    },
    {
      "cell_type": "markdown",
      "metadata": {
        "id": "GwgDYwJaSqgB"
      },
      "source": [
        "#7. Looping and Iteration\n"
      ]
    },
    {
      "cell_type": "markdown",
      "metadata": {
        "id": "IKxKm2zvT9OU"
      },
      "source": [
        "##`while` loop"
      ]
    },
    {
      "cell_type": "code",
      "metadata": {
        "id": "kIfyUPPySstj"
      },
      "source": [
        "a = 0\n",
        "while a <= 10:\n",
        "  print(\"current a : %d\" % a)\n",
        "  a = a + 1"
      ],
      "execution_count": null,
      "outputs": []
    },
    {
      "cell_type": "markdown",
      "metadata": {
        "id": "7ecKUm6jStP5"
      },
      "source": [
        "##`for` loop"
      ]
    },
    {
      "cell_type": "code",
      "metadata": {
        "id": "5r2hpqGhSyhZ"
      },
      "source": [
        "my_fruit = ['apple', 'banana', 'strawberry', 'cherry', 'grape']\n",
        "for i in my_fruit:\n",
        "  print(\"Let's eat %s!\" % i) "
      ],
      "execution_count": null,
      "outputs": []
    },
    {
      "cell_type": "code",
      "metadata": {
        "id": "wE84cnf4S48R"
      },
      "source": [
        ""
      ],
      "execution_count": null,
      "outputs": []
    },
    {
      "cell_type": "markdown",
      "metadata": {
        "id": "P76HWbY7S6C6"
      },
      "source": [
        "Nested loop for handling list of lists"
      ]
    },
    {
      "cell_type": "code",
      "metadata": {
        "id": "DhBcZ25oTA2h"
      },
      "source": [
        "transportations = [['plane', 'helicopter', 'hot air balloon'], \n",
        "         ['bus', 'train', 'truck', 'car'],\n",
        "         ['ship', 'boat', 'canoe', 'raft']]\n",
        "\n",
        "for i in transportations:\n",
        "  print('these are belong in the same group:')\n",
        "  for y in i:\n",
        "    print('\\t- %s' % y)"
      ],
      "execution_count": null,
      "outputs": []
    },
    {
      "cell_type": "code",
      "metadata": {
        "id": "P1cBRyg-2xd_"
      },
      "source": [
        ""
      ],
      "execution_count": null,
      "outputs": []
    },
    {
      "cell_type": "markdown",
      "metadata": {
        "id": "12U731Cn2-E4"
      },
      "source": [
        "#8. Function\n",
        "##Simple Function"
      ]
    },
    {
      "cell_type": "code",
      "metadata": {
        "id": "qjecDnUODm3k"
      },
      "source": [
        "#simple function\n",
        "def hello_world():\n",
        "  print(\"Hello World!\")\n",
        "\n",
        "#call the function\n",
        "hello_world()"
      ],
      "execution_count": null,
      "outputs": []
    },
    {
      "cell_type": "code",
      "metadata": {
        "id": "2msf7rrj4vnN"
      },
      "source": [
        "#function with 1 parameter\n",
        "def hello(name):\n",
        "  \"\"\"This function prints out greeting. \n",
        "  It received 1 parameter\"\"\"\n",
        "  print(\"Hello %s!\" % name)\n",
        "\n",
        "#call the function\n",
        "hello(\"World\")\n",
        "hello(\"there\")"
      ],
      "execution_count": null,
      "outputs": []
    },
    {
      "cell_type": "code",
      "metadata": {
        "id": "0Xd9mpw3CSN6"
      },
      "source": [
        "#function return value\n",
        "def plus(num1, num2):\n",
        "  result = num1 + num2\n",
        "  print(\"{0} + {1} = {2}\".format(num1,num2,result))\n",
        "  return result\n",
        "\n",
        "#call the function\n",
        "plus(10,3)"
      ],
      "execution_count": null,
      "outputs": []
    },
    {
      "cell_type": "code",
      "metadata": {
        "id": "53Hb9F9aDVpX"
      },
      "source": [
        "#lambda function\n",
        "def adds(a,b): \n",
        "    return a+b\n",
        "\n",
        "lambda_adds = lambda a,b: a+b\n",
        "\n",
        "print(adds(4,5)) # using def function\n",
        "print(lambda_adds(4,5)) # using lambda function\n",
        "print((lambda a,b: a+b)(4,5)) # using anonymous lambda function\n",
        "\n"
      ],
      "execution_count": null,
      "outputs": []
    },
    {
      "cell_type": "markdown",
      "metadata": {
        "id": "SP5_HgSB3Kt5"
      },
      "source": [
        "#9. File Handling"
      ]
    },
    {
      "cell_type": "code",
      "metadata": {
        "id": "tZgUyu2h3k53"
      },
      "source": [
        "import os\n",
        "os.getcwd()\n",
        "os.listdir('sample_data')"
      ],
      "execution_count": null,
      "outputs": []
    },
    {
      "cell_type": "code",
      "metadata": {
        "id": "xHgeZUTK3k55"
      },
      "source": [
        "my_file = open('sample_data/README.md')\n",
        "my_file"
      ],
      "execution_count": null,
      "outputs": []
    },
    {
      "cell_type": "code",
      "metadata": {
        "id": "tapCVwaz3k56"
      },
      "source": [
        "try:\n",
        "  my_file=open('sample_data/README.md')\n",
        "finally:\n",
        "  my_file.close()\n",
        "  print(\"close\")"
      ],
      "execution_count": null,
      "outputs": []
    },
    {
      "cell_type": "code",
      "metadata": {
        "id": "oxKZiiA_Ybdf"
      },
      "source": [
        "with open('sample_data/README.md') as my_file:  #use 'with' statement to make sure file handle closed after finish\n",
        "  print(my_file.read(30)) #read 30 bytes from the last position\n",
        "  print(my_file.tell()) #show position in file\n",
        "  print(my_file.seek(30)) #go to position 30 \n",
        "  print(my_file.read(35)) #read 35 bytes from the last position\n",
        "  print(my_file.tell())\n",
        "\n",
        "  print(my_file.readline()) #read a line (read until finding newline)\n",
        "\n",
        "  #my_file.seek(0) #go to the beginning of the file\n",
        "  lines = my_file.readlines()\n",
        "  for line in lines:\n",
        "    print(line, end='')"
      ],
      "execution_count": null,
      "outputs": []
    },
    {
      "cell_type": "markdown",
      "metadata": {
        "id": "M82uojvMp4ij"
      },
      "source": [
        "# Revision History"
      ]
    },
    {
      "cell_type": "markdown",
      "metadata": {
        "id": "AkiqEvC-qItm"
      },
      "source": [
        "Release: 1.2109.1901\n",
        "\n",
        "* Code cleanup\n"
      ]
    }
  ]
}