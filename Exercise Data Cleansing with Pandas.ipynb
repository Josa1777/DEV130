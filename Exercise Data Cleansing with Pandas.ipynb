{
  "nbformat": 4,
  "nbformat_minor": 0,
  "metadata": {
    "colab": {
      "name": "Exercise - Data Cleansing with Pandas.ipynb",
      "provenance": [],
      "collapsed_sections": []
    },
    "kernelspec": {
      "name": "python3",
      "display_name": "Python 3"
    },
    "language_info": {
      "name": "python"
    }
  },
  "cells": [
    {
      "cell_type": "markdown",
      "metadata": {
        "id": "V_dI-kMZq9xr"
      },
      "source": [
        "#Dataset Description"
      ]
    },
    {
      "cell_type": "markdown",
      "metadata": {
        "id": "dxqaQfdUcG9g"
      },
      "source": [
        "We will load and process a car price dataset, based on UCI's machine learning dataset https://archive.ics.uci.edu/ml/datasets/automobile \n",
        "The dataset column name and type : \n",
        "1. `symboling`: -3, -2, -1, 0, 1, 2, 3.\n",
        "2. `normalized_losses`: continuous from 65 to 256.\n",
        "3. `make`: alfa-romero, audi, bmw, chevrolet, dodge, honda, isuzu, jaguar, mazda, mercedes-benz, mercury, mitsubishi, nissan, peugot, plymouth, porsche, renault, saab, subaru, toyota, volkswagen, volvo\n",
        "4. `fuel_type`: diesel, gas.\n",
        "5. `aspiration`: std, turbo.\n",
        "6. `num_of_doors`: four, two.\n",
        "7. `body_style`: hardtop, wagon, sedan, hatchback, convertible.\n",
        "8. `drive_wheels`: 4wd, fwd, rwd.\n",
        "9. `engine_location`: front, rear.\n",
        "10. `wheel_base`: continuous from 86.6 120.9.\n",
        "11. `length`: continuous from 141.1 to 208.1.\n",
        "12. `width`: continuous from 60.3 to 72.3.\n",
        "13. `height`: continuous from 47.8 to 59.8.\n",
        "14. `curb_weight`: continuous from 1488 to 4066.\n",
        "15. `engine_type`: dohc, dohcv, l, ohc, ohcf, ohcv, rotor.\n",
        "16. `num_of_cylinders`: eight, five, four, six, three, twelve, two.\n",
        "17. `engine_size`: continuous from 61 to 326.\n",
        "18. `fuel_system`: 1bbl, 2bbl, 4bbl, idi, mfi, mpfi, spdi, spfi.\n",
        "19. `bore`: continuous from 2.54 to 3.94.\n",
        "20. `stroke`: continuous from 2.07 to 4.17.\n",
        "21. `compression_ratio`: continuous from 7 to 23.\n",
        "22. `horsepower`: continuous from 48 to 288.\n",
        "23. `peak_rpm`: continuous from 4150 to 6600.\n",
        "24. `city_mpg`: continuous from 13 to 49.\n",
        "25. `highway_mpg`: continuous from 16 to 54.\n",
        "26. `price`: continuous from 5118 to 45400\n"
      ]
    },
    {
      "cell_type": "code",
      "metadata": {
        "id": "BTRANFjWb65T"
      },
      "source": [
        "#import the necessary packages\n",
        "import pandas as pd\n",
        "import numpy as np"
      ],
      "execution_count": null,
      "outputs": []
    },
    {
      "cell_type": "markdown",
      "metadata": {
        "id": "LutWggaScejU"
      },
      "source": [
        "Copy the dataset "
      ]
    },
    {
      "cell_type": "code",
      "metadata": {
        "id": "2f-p01uEcBHh",
        "colab": {
          "base_uri": "https://localhost:8080/"
        },
        "outputId": "18c3793e-c098-4190-ea63-d7c72d434a89"
      },
      "source": [
        "!wget https://www.dropbox.com/s/4ljhg9kq2o0uvt4/auto_price_raw.csv"
      ],
      "execution_count": null,
      "outputs": [
        {
          "output_type": "stream",
          "name": "stdout",
          "text": [
            "--2021-09-14 14:21:11--  https://www.dropbox.com/s/4ljhg9kq2o0uvt4/auto_price_raw.csv\n",
            "Resolving www.dropbox.com (www.dropbox.com)... 162.125.5.18, 2620:100:601d:18::a27d:512\n",
            "Connecting to www.dropbox.com (www.dropbox.com)|162.125.5.18|:443... connected.\n",
            "HTTP request sent, awaiting response... 301 Moved Permanently\n",
            "Location: /s/raw/4ljhg9kq2o0uvt4/auto_price_raw.csv [following]\n",
            "--2021-09-14 14:21:11--  https://www.dropbox.com/s/raw/4ljhg9kq2o0uvt4/auto_price_raw.csv\n",
            "Reusing existing connection to www.dropbox.com:443.\n",
            "HTTP request sent, awaiting response... 302 Found\n",
            "Location: https://uc1567ceb013d5d38628f3c2a912.dl.dropboxusercontent.com/cd/0/inline/BWI1FZB6eFzIX0LJEbLvQ2v9d1PPpV6HN2X9mJXpKo47xL-ElJ-ETpw2W3Bg5frOrcWWlotm7AENEZm4L3aFp6SF0RuPDJMMOxkTTec9av78OTXeadkutCjVcg3BhybLR77Jw47-ocI64qw5882VcgCw/file# [following]\n",
            "--2021-09-14 14:21:12--  https://uc1567ceb013d5d38628f3c2a912.dl.dropboxusercontent.com/cd/0/inline/BWI1FZB6eFzIX0LJEbLvQ2v9d1PPpV6HN2X9mJXpKo47xL-ElJ-ETpw2W3Bg5frOrcWWlotm7AENEZm4L3aFp6SF0RuPDJMMOxkTTec9av78OTXeadkutCjVcg3BhybLR77Jw47-ocI64qw5882VcgCw/file\n",
            "Resolving uc1567ceb013d5d38628f3c2a912.dl.dropboxusercontent.com (uc1567ceb013d5d38628f3c2a912.dl.dropboxusercontent.com)... 162.125.5.15, 2620:100:601d:15::a27d:50f\n",
            "Connecting to uc1567ceb013d5d38628f3c2a912.dl.dropboxusercontent.com (uc1567ceb013d5d38628f3c2a912.dl.dropboxusercontent.com)|162.125.5.15|:443... connected.\n",
            "HTTP request sent, awaiting response... 200 OK\n",
            "Length: 26218 (26K) [text/plain]\n",
            "Saving to: ‘auto_price_raw.csv’\n",
            "\n",
            "auto_price_raw.csv  100%[===================>]  25.60K  --.-KB/s    in 0.02s   \n",
            "\n",
            "2021-09-14 14:21:12 (1.34 MB/s) - ‘auto_price_raw.csv’ saved [26218/26218]\n",
            "\n"
          ]
        }
      ]
    },
    {
      "cell_type": "markdown",
      "metadata": {
        "id": "wShDaN4hhpZr"
      },
      "source": [
        "##Load data into dataframe"
      ]
    },
    {
      "cell_type": "code",
      "metadata": {
        "id": "FIUbx-2shvBf"
      },
      "source": [
        ""
      ],
      "execution_count": null,
      "outputs": []
    },
    {
      "cell_type": "markdown",
      "metadata": {
        "id": "JkVRMw_8cFTe"
      },
      "source": [
        "##Quick check the dataset"
      ]
    },
    {
      "cell_type": "code",
      "metadata": {
        "id": "ShCncqhcco7Z"
      },
      "source": [
        ""
      ],
      "execution_count": null,
      "outputs": []
    },
    {
      "cell_type": "markdown",
      "metadata": {
        "id": "CuNcCrOQx76N"
      },
      "source": [
        "##Missing Values"
      ]
    },
    {
      "cell_type": "markdown",
      "metadata": {
        "id": "tuLAk38lcp-c"
      },
      "source": [
        "Find any missing/invalid data. Missing data in this dataset is represented with '?'.\n",
        "Replace them with NaN."
      ]
    },
    {
      "cell_type": "code",
      "metadata": {
        "id": "6FVCQScdc-ho"
      },
      "source": [
        ""
      ],
      "execution_count": null,
      "outputs": []
    },
    {
      "cell_type": "markdown",
      "metadata": {
        "id": "bUzh2awbstge"
      },
      "source": [
        "Refer to dataset description, and convert the columns with continuous data type that loaded as Pandas `object` into `float` type"
      ]
    },
    {
      "cell_type": "code",
      "metadata": {
        "id": "1eZ428qPtrqu"
      },
      "source": [
        ""
      ],
      "execution_count": null,
      "outputs": []
    },
    {
      "cell_type": "markdown",
      "metadata": {
        "id": "Ds_vzlevvG4z"
      },
      "source": [
        "Recheck the dataset statistics"
      ]
    },
    {
      "cell_type": "code",
      "metadata": {
        "id": "l32kjT2ZvOi3"
      },
      "source": [
        ""
      ],
      "execution_count": null,
      "outputs": []
    },
    {
      "cell_type": "markdown",
      "metadata": {
        "id": "XjDabMKXqUJU"
      },
      "source": [
        "Remove `normalized_losses` column, since it has too many missing value "
      ]
    },
    {
      "cell_type": "code",
      "metadata": {
        "id": "wFx88RwiqdQe"
      },
      "source": [
        ""
      ],
      "execution_count": null,
      "outputs": []
    },
    {
      "cell_type": "markdown",
      "metadata": {
        "id": "pjADvXCSc-1p"
      },
      "source": [
        "Remove all rows with NaN"
      ]
    },
    {
      "cell_type": "code",
      "metadata": {
        "id": "9eaqfVWOftSu"
      },
      "source": [
        ""
      ],
      "execution_count": null,
      "outputs": []
    },
    {
      "cell_type": "markdown",
      "metadata": {
        "id": "u7LYqJqfyFgJ"
      },
      "source": [
        "##Invalid Values"
      ]
    },
    {
      "cell_type": "markdown",
      "metadata": {
        "id": "GqBJ6jJehhk7"
      },
      "source": [
        "Check the `fuel_type` and `body_style` column and replace the invalid data accordingly."
      ]
    },
    {
      "cell_type": "code",
      "metadata": {
        "id": "73FomsHFhgph"
      },
      "source": [
        ""
      ],
      "execution_count": null,
      "outputs": []
    },
    {
      "cell_type": "markdown",
      "metadata": {
        "id": "-expTZAvxuNq"
      },
      "source": [
        "##Recheck the dataframe after cleansing"
      ]
    },
    {
      "cell_type": "code",
      "metadata": {
        "id": "zkYc_lM_xxoN"
      },
      "source": [
        ""
      ],
      "execution_count": null,
      "outputs": []
    },
    {
      "cell_type": "markdown",
      "metadata": {
        "id": "K9-FFIhwyKnx"
      },
      "source": [
        "##Save the dataframe"
      ]
    },
    {
      "cell_type": "markdown",
      "metadata": {
        "id": "DI7M1pxOftj8"
      },
      "source": [
        "Save to `auto_price_cleaned.csv` file"
      ]
    },
    {
      "cell_type": "code",
      "metadata": {
        "id": "COb-vQmJjZ6F"
      },
      "source": [
        ""
      ],
      "execution_count": null,
      "outputs": []
    }
  ]
}