{
  "nbformat": 4,
  "nbformat_minor": 0,
  "metadata": {
    "colab": {
      "name": "Pandas Basic in a Notebook - 1.2109.1901.ipynb",
      "provenance": [],
      "collapsed_sections": []
    },
    "kernelspec": {
      "name": "python3",
      "display_name": "Python 3"
    },
    "language_info": {
      "name": "python"
    }
  },
  "cells": [
    {
      "cell_type": "markdown",
      "metadata": {
        "id": "B3Cpp4fNrkeo"
      },
      "source": [
        "# Pandas Basic in A Notebook"
      ]
    },
    {
      "cell_type": "code",
      "metadata": {
        "id": "6JUooS-1rqzY"
      },
      "source": [
        "#Release: 1.2109.1901"
      ],
      "execution_count": null,
      "outputs": []
    },
    {
      "cell_type": "code",
      "metadata": {
        "id": "L2X_GI91OcDz"
      },
      "source": [
        "import pandas as pd\n",
        "import numpy as np"
      ],
      "execution_count": null,
      "outputs": []
    },
    {
      "cell_type": "markdown",
      "metadata": {
        "id": "mUELxuT6SFiQ"
      },
      "source": [
        "#Series"
      ]
    },
    {
      "cell_type": "markdown",
      "metadata": {
        "id": "lFfaw3Nf0MUQ"
      },
      "source": [
        "Pandas series adalah kumpulan object satu dimensi yang mirip dengan array"
      ]
    },
    {
      "cell_type": "markdown",
      "metadata": {
        "id": "JIpc86C4SNeN"
      },
      "source": [
        "##Creating Series"
      ]
    },
    {
      "cell_type": "markdown",
      "metadata": {
        "id": "5SgVqAWbz21z"
      },
      "source": [
        "Deklarasi pandas series menggunakan list"
      ]
    },
    {
      "cell_type": "code",
      "metadata": {
        "id": "Skst9EK0R79_"
      },
      "source": [
        "s = pd.Series([1, 'Hello', 3.14, 'World!', True])\n",
        "s"
      ],
      "execution_count": null,
      "outputs": []
    },
    {
      "cell_type": "markdown",
      "metadata": {
        "id": "J6SqSgEg0f3C"
      },
      "source": [
        "Deklarasi pandas series menggunakan dictionary"
      ]
    },
    {
      "cell_type": "code",
      "metadata": {
        "id": "Z46-2wMeSA9e"
      },
      "source": [
        "f = {\"apples\": 10, \"bananas\": 20, \"cherries\": 50, \"pears\": 30}\n",
        "fs = pd.Series(f)\n",
        "fs"
      ],
      "execution_count": null,
      "outputs": []
    },
    {
      "cell_type": "markdown",
      "metadata": {
        "id": "EIG5jRCVSKy0"
      },
      "source": [
        "##Series Operation"
      ]
    },
    {
      "cell_type": "code",
      "metadata": {
        "id": "JTRPexodSIP4"
      },
      "source": [
        "print(fs['bananas'])      #accessing item"
      ],
      "execution_count": null,
      "outputs": []
    },
    {
      "cell_type": "code",
      "metadata": {
        "id": "uFV4DoaVaVwb"
      },
      "source": [
        "print(fs[:2])             #accessing items with index slicing\n"
      ],
      "execution_count": null,
      "outputs": []
    },
    {
      "cell_type": "code",
      "metadata": {
        "id": "o-1w0x2UacTR"
      },
      "source": [
        "fs['cherries']+=5         #updating an item\n",
        "print(fs)         \n",
        "\n"
      ],
      "execution_count": null,
      "outputs": []
    },
    {
      "cell_type": "code",
      "metadata": {
        "id": "2uqm2BHBad8i"
      },
      "source": [
        "print('grapes' in fs)    #check membership\n",
        "print('pears' in fs)     #check membership"
      ],
      "execution_count": null,
      "outputs": []
    },
    {
      "cell_type": "code",
      "metadata": {
        "id": "vMfFceJRahKj"
      },
      "source": [
        "print(fs/10)              #math operation\n"
      ],
      "execution_count": null,
      "outputs": []
    },
    {
      "cell_type": "markdown",
      "metadata": {
        "id": "lL1cJjs-SjB3"
      },
      "source": [
        "#DataFrames"
      ]
    },
    {
      "cell_type": "markdown",
      "metadata": {
        "id": "BPXNZVti09Is"
      },
      "source": [
        "Pandas DataFrame adalah kumpulan object berbentuk tabular yang memiliki struktur kolom dan baris, mirip pada database"
      ]
    },
    {
      "cell_type": "markdown",
      "metadata": {
        "id": "plESK0aQSmQ2"
      },
      "source": [
        "##Creating DataFrames"
      ]
    },
    {
      "cell_type": "markdown",
      "metadata": {
        "id": "wjm_C9bgXTsJ"
      },
      "source": [
        "###Create from series"
      ]
    },
    {
      "cell_type": "code",
      "metadata": {
        "id": "atEmLF_fSRjw"
      },
      "source": [
        "# Dataframe from Series\n",
        "fruits = {\"apples\": 10, \"bananas\": 20, \"cherries\": 50, \"pears\": 30}\n",
        "quantity = pd.Series(fruits)\n",
        "\n",
        "prices = {\"apples\": 1000, \"bananas\": 500, \"cherries\": 750, \"pears\": 900}\n",
        "price = pd.Series(prices)\n",
        "\n",
        "df = pd.DataFrame({'quantity':quantity, 'price':price})"
      ],
      "execution_count": null,
      "outputs": []
    },
    {
      "cell_type": "code",
      "metadata": {
        "id": "VuoiEA161d5Y"
      },
      "source": [
        "# tampilkan df"
      ],
      "execution_count": null,
      "outputs": []
    },
    {
      "cell_type": "markdown",
      "metadata": {
        "id": "BngFrIevXV0N"
      },
      "source": [
        "###Create from dictionary"
      ]
    },
    {
      "cell_type": "code",
      "metadata": {
        "id": "1AnmMRjoSwTb"
      },
      "source": [
        "#Dataframe from dictionary\n",
        "f = {'name':[\"apples\", \"bananas\", \"cherries\", \"pears\", \"pears\"],\n",
        "    'quantity':[20, 20, 50, 30, 40],\n",
        "    'price':[1000,500,750,900,950]}\n",
        "    \n",
        "df = pd.DataFrame(f)"
      ],
      "execution_count": null,
      "outputs": []
    },
    {
      "cell_type": "code",
      "metadata": {
        "id": "vh7hyhVT1irj"
      },
      "source": [
        "# tampilkan df"
      ],
      "execution_count": null,
      "outputs": []
    },
    {
      "cell_type": "markdown",
      "metadata": {
        "id": "OIGnhlWkXYq4"
      },
      "source": [
        "###Create from csv file\n",
        "\n",
        "Fungsi **read_csv** dapat digunakan untuk membaca file csv ke dalam pandas dataframe"
      ]
    },
    {
      "cell_type": "code",
      "metadata": {
        "id": "-th7ijvXTMgY"
      },
      "source": [
        "# load the california housing csv file from sample_data\n",
        "df_housing = __"
      ],
      "execution_count": null,
      "outputs": []
    },
    {
      "cell_type": "code",
      "metadata": {
        "id": "EA9uRNaI2awD"
      },
      "source": [
        "# tampilkan df_housing\n"
      ],
      "execution_count": null,
      "outputs": []
    },
    {
      "cell_type": "markdown",
      "metadata": {
        "id": "XnAKFD8fXcKV"
      },
      "source": [
        "###Create from JSON file\n",
        "\n",
        "Fungsi **read_json** dapat digunakan untuk membaca file csv ke dalam pandas dataframe"
      ]
    },
    {
      "cell_type": "code",
      "metadata": {
        "id": "WYnuhfSQXeT4"
      },
      "source": [
        "# load Anscombe's quartet data from sample_data\n",
        "df_anscombe = __"
      ],
      "execution_count": null,
      "outputs": []
    },
    {
      "cell_type": "code",
      "metadata": {
        "id": "6bumCpCy2rfq"
      },
      "source": [
        "# tampilkan df_anscombe"
      ],
      "execution_count": null,
      "outputs": []
    },
    {
      "cell_type": "markdown",
      "metadata": {
        "id": "MRZbyBB7Ynvu"
      },
      "source": [
        "##Accessing DataFrame "
      ]
    },
    {
      "cell_type": "markdown",
      "metadata": {
        "id": "59qWXDxAdEBW"
      },
      "source": [
        "###DataFrame quick checking\n",
        "\n",
        "some useful commands to quick check a dataframe : `info(), head(), tail(), sample(), describe()`"
      ]
    },
    {
      "cell_type": "code",
      "metadata": {
        "id": "4QRW2WKGbly-"
      },
      "source": [
        "# tampilkan struktur df menggunakan fungsi info\n"
      ],
      "execution_count": null,
      "outputs": []
    },
    {
      "cell_type": "code",
      "metadata": {
        "id": "Xz0giFHMYY9r"
      },
      "source": [
        "# tampilkan 10 record pertama dari df menggunakan fungsi head\n"
      ],
      "execution_count": null,
      "outputs": []
    },
    {
      "cell_type": "code",
      "metadata": {
        "id": "24dEU-zedKSM"
      },
      "source": [
        "# tampilkan 10 record terakhir df menggunakan fungsi tail\n"
      ],
      "execution_count": null,
      "outputs": []
    },
    {
      "cell_type": "code",
      "metadata": {
        "id": "TgYXBGtFdNVP"
      },
      "source": [
        "# tampilkan sample records secara acak menggunakan fungsi sample\n"
      ],
      "execution_count": null,
      "outputs": []
    },
    {
      "cell_type": "code",
      "metadata": {
        "id": "JT2HyW0ZdPYo"
      },
      "source": [
        "# tampilkan nilai statistik df dengan fungsi describe\n"
      ],
      "execution_count": null,
      "outputs": []
    },
    {
      "cell_type": "code",
      "metadata": {
        "id": "ZA_2ihx1djpT"
      },
      "source": [
        "# untuk memudahkan pembacaan dapat menambahkan fungsi transpose\n",
        "df.describe().transpose()"
      ],
      "execution_count": null,
      "outputs": []
    },
    {
      "cell_type": "markdown",
      "metadata": {
        "id": "5y4gJ7n1call"
      },
      "source": [
        "###Selecting rows or columns"
      ]
    },
    {
      "cell_type": "code",
      "metadata": {
        "id": "jVTz3-aMYhg6"
      },
      "source": [
        "# mengakses data menggunakan index --> [idx:pos]\n",
        "df[2:4]"
      ],
      "execution_count": null,
      "outputs": []
    },
    {
      "cell_type": "code",
      "metadata": {
        "id": "0lD86GJecdNT"
      },
      "source": [
        "# kolom dapat dianggap sebagai sebuah atribut\n",
        "df.price"
      ],
      "execution_count": null,
      "outputs": []
    },
    {
      "cell_type": "code",
      "metadata": {
        "id": "CyCq766xcnu1"
      },
      "source": [
        "# menampilkan kolom berdasarkan nama\n",
        "df[[\"price\"]]   #accessing column by name"
      ],
      "execution_count": null,
      "outputs": []
    },
    {
      "cell_type": "code",
      "metadata": {
        "id": "HQQg_nukYxDt"
      },
      "source": [
        "# menampilkan lebih dari satu kolom\n",
        "df[['name','price']] "
      ],
      "execution_count": null,
      "outputs": []
    },
    {
      "cell_type": "code",
      "metadata": {
        "id": "eem4jokXY0Vq"
      },
      "source": [
        "df[df['quantity'] > 20]     #filtering/select rows"
      ],
      "execution_count": null,
      "outputs": []
    },
    {
      "cell_type": "code",
      "metadata": {
        "id": "1KuS-RYvY2J0"
      },
      "source": [
        "# filter untuk nama = 'pears' atau price > 900\n",
        "df[(df.name == 'pears') | (df.price > 900)]"
      ],
      "execution_count": null,
      "outputs": []
    },
    {
      "cell_type": "code",
      "metadata": {
        "id": "LMSrh2IEbYAD"
      },
      "source": [
        "# filter untuk price antara 900 dan 1000\n",
        "df[(df.price > 900) & (df.price < 1000)]"
      ],
      "execution_count": null,
      "outputs": []
    },
    {
      "cell_type": "code",
      "metadata": {
        "id": "PAvBt4326cEg"
      },
      "source": [
        "# tampilkan data dengan kolom name dan price yang memiliki harga > 750\n"
      ],
      "execution_count": null,
      "outputs": []
    },
    {
      "cell_type": "markdown",
      "metadata": {
        "id": "ikglC2Dvo1Uv"
      },
      "source": [
        "###Select unique values"
      ]
    },
    {
      "cell_type": "code",
      "metadata": {
        "id": "iplU8TwXhvsm"
      },
      "source": [
        "# menampilkan nilai unik dari nama\n",
        "df['name'].unique()"
      ],
      "execution_count": null,
      "outputs": []
    },
    {
      "cell_type": "markdown",
      "metadata": {
        "id": "BTeg_rn2o5zD"
      },
      "source": [
        "###Sorting rows"
      ]
    },
    {
      "cell_type": "code",
      "metadata": {
        "id": "Kh5cCQzTpX3B"
      },
      "source": [
        "df.sort_values(\"quantity\")"
      ],
      "execution_count": null,
      "outputs": []
    },
    {
      "cell_type": "code",
      "metadata": {
        "id": "xZV5NICm8m80"
      },
      "source": [
        "# mengurutkan dari yang terbesar dengan menset parameter ascending = False\n",
        "df.sort_values(\"quantity\", ascending = False)"
      ],
      "execution_count": null,
      "outputs": []
    },
    {
      "cell_type": "code",
      "metadata": {
        "id": "f6I6ytV_o-W2"
      },
      "source": [
        "df.sort_values([\"quantity\",\"price\"]) #sort by multiple columns value"
      ],
      "execution_count": null,
      "outputs": []
    },
    {
      "cell_type": "code",
      "metadata": {
        "id": "gj0Yrsb19B66"
      },
      "source": [
        "df.sort_values([\"quantity\",\"price\"], ascending=[1, 0])"
      ],
      "execution_count": null,
      "outputs": []
    },
    {
      "cell_type": "markdown",
      "metadata": {
        "id": "t2azv9j3bTSE"
      },
      "source": [
        "##Updating a DataFrame"
      ]
    },
    {
      "cell_type": "markdown",
      "metadata": {
        "id": "3t6p0y1Fisjo"
      },
      "source": [
        "###Adding rows"
      ]
    },
    {
      "cell_type": "code",
      "metadata": {
        "id": "WUFTaTxxjp68"
      },
      "source": [
        "#append a row from dictionary\n",
        "\n",
        "new_rec = {'name': \"grapes\", \n",
        "        'quantity': 30,\n",
        "        'price':1200}\n",
        "df1 = df.append(new_rec, ignore_index=True)\n",
        "df1"
      ],
      "execution_count": null,
      "outputs": []
    },
    {
      "cell_type": "markdown",
      "metadata": {
        "id": "E_Lc3hJelKyR"
      },
      "source": [
        "Append multiple rows --> combine dataframes"
      ]
    },
    {
      "cell_type": "code",
      "metadata": {
        "id": "xXl_UdLIiyVy"
      },
      "source": [
        "new_rec = {'name':[\"apples\", \"grapes\", \"oranges\"],\n",
        "        'quantity':[25, 30, 20],\n",
        "        'price':[800,1200,700]}\n",
        "\n",
        "dfnew = pd.DataFrame(new_rec,index=[6, 7, 8])"
      ],
      "execution_count": null,
      "outputs": []
    },
    {
      "cell_type": "code",
      "metadata": {
        "id": "eRf7Vt9v9xaY"
      },
      "source": [
        "dfnew"
      ],
      "execution_count": null,
      "outputs": []
    },
    {
      "cell_type": "code",
      "metadata": {
        "id": "J4CwlZAT90W-"
      },
      "source": [
        "df2 = df1.append(dfnew)\n",
        "df2"
      ],
      "execution_count": null,
      "outputs": []
    },
    {
      "cell_type": "markdown",
      "metadata": {
        "id": "roFsh8U9fGoq"
      },
      "source": [
        "###Adding columns"
      ]
    },
    {
      "cell_type": "code",
      "metadata": {
        "id": "WzrQ1tBKe8l_"
      },
      "source": [
        "df2['total'] = df2['price'] * df2['quantity']\n",
        "df2"
      ],
      "execution_count": null,
      "outputs": []
    },
    {
      "cell_type": "markdown",
      "metadata": {
        "id": "p6pOOvuvg7UR"
      },
      "source": [
        "###Deleting columns or rows"
      ]
    },
    {
      "cell_type": "markdown",
      "metadata": {
        "id": "3GkoKAphfbi9"
      },
      "source": [
        "**Deleting a column**"
      ]
    },
    {
      "cell_type": "code",
      "metadata": {
        "id": "ymzaGRfbfacL"
      },
      "source": [
        "df2.drop('total', axis = 1) #set the parameter axis = 1"
      ],
      "execution_count": null,
      "outputs": []
    },
    {
      "cell_type": "code",
      "metadata": {
        "id": "kXVwcJ6_gNe4"
      },
      "source": [
        "df2"
      ],
      "execution_count": null,
      "outputs": []
    },
    {
      "cell_type": "markdown",
      "metadata": {
        "id": "5pE5hhMAga__"
      },
      "source": [
        "To delete column in the original dataframe, set `inplace = True`\n"
      ]
    },
    {
      "cell_type": "code",
      "metadata": {
        "id": "h2-P6P7pgUeK"
      },
      "source": [
        "df2.drop('total', axis = 1, inplace = True) #set the parameter axis = 1\n",
        "df2"
      ],
      "execution_count": null,
      "outputs": []
    },
    {
      "cell_type": "markdown",
      "metadata": {
        "id": "rDI94_o3gI1W"
      },
      "source": [
        "Deleting a row by index"
      ]
    },
    {
      "cell_type": "code",
      "metadata": {
        "id": "EU2WcvLxgrpD"
      },
      "source": [
        "df2.drop(4) "
      ],
      "execution_count": null,
      "outputs": []
    },
    {
      "cell_type": "code",
      "metadata": {
        "id": "zaWjNr0ug3RH"
      },
      "source": [
        "df2"
      ],
      "execution_count": null,
      "outputs": []
    },
    {
      "cell_type": "markdown",
      "metadata": {
        "id": "BHKyPGblmU80"
      },
      "source": [
        "Deleting rows by condition"
      ]
    },
    {
      "cell_type": "code",
      "metadata": {
        "id": "kw9atfI--Qyj"
      },
      "source": [
        "df2.drop(df2[df2.quantity < 30].index)"
      ],
      "execution_count": null,
      "outputs": []
    },
    {
      "cell_type": "markdown",
      "metadata": {
        "id": "KhV1aIfUnNdJ"
      },
      "source": [
        "###Updating a column"
      ]
    },
    {
      "cell_type": "code",
      "metadata": {
        "id": "__NsVdMLnQBD"
      },
      "source": [
        "df2['quantity'] = df2['quantity'] * 1000\n",
        "df2"
      ],
      "execution_count": null,
      "outputs": []
    },
    {
      "cell_type": "markdown",
      "metadata": {
        "id": "xRAA9s28YBOj"
      },
      "source": [
        "###Updating rows"
      ]
    },
    {
      "cell_type": "code",
      "metadata": {
        "id": "9gJbigMxYFsB"
      },
      "source": [
        "#update rows based on some conditions\n",
        "df2.loc[df2['name'] == 'pears', 'quantity'] = 60000 \n",
        "\n",
        "df2"
      ],
      "execution_count": null,
      "outputs": []
    },
    {
      "cell_type": "markdown",
      "metadata": {
        "id": "FKvESMA7ZEjh"
      },
      "source": [
        "##Combining DataFrame - Join by columns"
      ]
    },
    {
      "cell_type": "code",
      "metadata": {
        "id": "r9hQoFCcZHKJ"
      },
      "source": [
        "colors = pd.DataFrame({'name':[\"apples\", \"bananas\", \"pears\", \"grapes\", \"cherries\", \"plum\"], \n",
        "                       'color':['red', 'yellow', 'green', 'purple', 'red', 'purple']})\n",
        "colors"
      ],
      "execution_count": null,
      "outputs": []
    },
    {
      "cell_type": "code",
      "metadata": {
        "id": "fdCrX8kIZTvZ"
      },
      "source": [
        "pd.merge(df2, colors, on='name', how='inner')"
      ],
      "execution_count": null,
      "outputs": []
    },
    {
      "cell_type": "code",
      "metadata": {
        "id": "m2sTQ1oA9RBY"
      },
      "source": [
        "df3 = pd.merge(df2, colors, on='name', how='outer')\n",
        "df3"
      ],
      "execution_count": null,
      "outputs": []
    },
    {
      "cell_type": "markdown",
      "metadata": {
        "id": "uctaDPMV-3Xh"
      },
      "source": [
        "# Revision History\n"
      ]
    },
    {
      "cell_type": "markdown",
      "metadata": {
        "id": "oV7Zt3bQ_Dms"
      },
      "source": [
        "Release: 1.2109.1901\n",
        "\n",
        "* Code cleanup"
      ]
    }
  ]
}