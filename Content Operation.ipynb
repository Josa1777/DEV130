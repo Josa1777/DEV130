{
  "nbformat": 4,
  "nbformat_minor": 0,
  "metadata": {
    "kernelspec": {
      "display_name": "Python 3",
      "language": "python",
      "name": "python3"
    },
    "language_info": {
      "codemirror_mode": {
        "name": "ipython",
        "version": 3
      },
      "file_extension": ".py",
      "mimetype": "text/x-python",
      "name": "python",
      "nbconvert_exporter": "python",
      "pygments_lexer": "ipython3",
      "version": "3.9.1"
    },
    "colab": {
      "name": "Content Operation.ipynb",
      "provenance": []
    }
  },
  "cells": [
    {
      "cell_type": "code",
      "metadata": {
        "id": "r3viDlkDIqQA"
      },
      "source": [
        "! whoami"
      ],
      "execution_count": null,
      "outputs": []
    },
    {
      "cell_type": "code",
      "metadata": {
        "id": "HMAI7lw8IqQC"
      },
      "source": [
        "! hostname"
      ],
      "execution_count": null,
      "outputs": []
    },
    {
      "cell_type": "code",
      "metadata": {
        "id": "3RcaCqKyIqQD"
      },
      "source": [
        "! pwd"
      ],
      "execution_count": null,
      "outputs": []
    },
    {
      "cell_type": "code",
      "metadata": {
        "id": "CB1nvqCKIqQE"
      },
      "source": [
        "! date"
      ],
      "execution_count": null,
      "outputs": []
    },
    {
      "cell_type": "markdown",
      "metadata": {
        "id": "LEJ6NgvxIqQE"
      },
      "source": [
        "### View File Content"
      ]
    },
    {
      "cell_type": "code",
      "metadata": {
        "id": "OWLvqXN4DUTK"
      },
      "source": [
        "! wget https://www.dropbox.com/s/76z6nqjum7bqocu/student-data.csv"
      ],
      "execution_count": null,
      "outputs": []
    },
    {
      "cell_type": "markdown",
      "metadata": {
        "id": "dNYAlBQpIqQG"
      },
      "source": [
        "The **head** command reads the **first 10 lines** of a any given file name"
      ]
    },
    {
      "cell_type": "code",
      "metadata": {
        "id": "w_Mu2Zg1IqQG"
      },
      "source": [
        "! head student-data.csv"
      ],
      "execution_count": null,
      "outputs": []
    },
    {
      "cell_type": "markdown",
      "metadata": {
        "id": "5raPeLVzIqQH"
      },
      "source": [
        "The following command will display first 5 lines"
      ]
    },
    {
      "cell_type": "code",
      "metadata": {
        "id": "O1kSvmF1IqQH"
      },
      "source": [
        "! head -n5 student-data.csv"
      ],
      "execution_count": null,
      "outputs": []
    },
    {
      "cell_type": "code",
      "metadata": {
        "id": "NF28N-arIqQI"
      },
      "source": [
        "! head -5 student-data.csv"
      ],
      "execution_count": null,
      "outputs": []
    },
    {
      "cell_type": "markdown",
      "metadata": {
        "id": "Lx19FGRQIqQI"
      },
      "source": [
        "The **tail** command allows you to display last ten lines of any text file. Similar to the head command above, tail command also support options  ‘n‘ number of lines and ‘n‘ number of characters"
      ]
    },
    {
      "cell_type": "code",
      "metadata": {
        "id": "7aEzq4FhIqQJ"
      },
      "source": [
        "! tail -5 student-data.csv"
      ],
      "execution_count": null,
      "outputs": []
    },
    {
      "cell_type": "markdown",
      "metadata": {
        "id": "s2sue9R7IqQJ"
      },
      "source": [
        "cat command is to read the contents of files"
      ]
    },
    {
      "cell_type": "code",
      "metadata": {
        "id": "9ylsuzCfIqQK"
      },
      "source": [
        "! cat student-data.csv"
      ],
      "execution_count": null,
      "outputs": []
    },
    {
      "cell_type": "markdown",
      "metadata": {
        "id": "u7bzYRy0IqQK"
      },
      "source": [
        "### Count number of line"
      ]
    },
    {
      "cell_type": "code",
      "metadata": {
        "id": "ZSbTpwiJIqQK"
      },
      "source": [
        "! wc -l student-data.csv"
      ],
      "execution_count": null,
      "outputs": []
    },
    {
      "cell_type": "markdown",
      "metadata": {
        "id": "oqbVWG8YIqQK"
      },
      "source": [
        "Using ‘-w‘ argument with ‘wc‘ command prints the number of words in a file"
      ]
    },
    {
      "cell_type": "code",
      "metadata": {
        "id": "EFXuzcQaIqQL"
      },
      "source": [
        "! echo \"hello world\" | wc -w"
      ],
      "execution_count": null,
      "outputs": []
    },
    {
      "cell_type": "markdown",
      "metadata": {
        "id": "pY709dmsIqQM"
      },
      "source": [
        "### Filtering or Searching Content"
      ]
    },
    {
      "cell_type": "code",
      "metadata": {
        "id": "7ESFDNlRIqQM"
      },
      "source": [
        "! head student-data.csv"
      ],
      "execution_count": null,
      "outputs": []
    },
    {
      "cell_type": "code",
      "metadata": {
        "id": "21VGziCwIqQN"
      },
      "source": [
        "! grep \"Dorie Barcus\" student-data.csv"
      ],
      "execution_count": null,
      "outputs": []
    },
    {
      "cell_type": "markdown",
      "metadata": {
        "id": "X3DLe7Y4IqQN"
      },
      "source": [
        " The -i option enables to search for a string case insensitively in the give file"
      ]
    },
    {
      "cell_type": "code",
      "metadata": {
        "id": "IuXRoOcfIqQN"
      },
      "source": [
        "! grep -i \"dorie\" student-data.csv"
      ],
      "execution_count": null,
      "outputs": []
    },
    {
      "cell_type": "markdown",
      "metadata": {
        "id": "0jUL4s1jIqQO"
      },
      "source": [
        "We can find the number of lines that matches the given string/pattern"
      ]
    },
    {
      "cell_type": "code",
      "metadata": {
        "id": "tXl2h1XTIqQO"
      },
      "source": [
        "! grep -c -i \"west\" student-data.csv"
      ],
      "execution_count": null,
      "outputs": []
    },
    {
      "cell_type": "markdown",
      "metadata": {
        "id": "ZEaebUzXIqQO"
      },
      "source": [
        "To show the line number of file with the line matched"
      ]
    },
    {
      "cell_type": "code",
      "metadata": {
        "id": "q00ztuoHIqQO"
      },
      "source": [
        "! grep -n -i \"west\" student-data.csv"
      ],
      "execution_count": null,
      "outputs": []
    },
    {
      "cell_type": "markdown",
      "metadata": {
        "id": "W6snvnDUIqQO"
      },
      "source": [
        "You can display the lines that are not matched with the specified search string pattern using the -v option"
      ]
    },
    {
      "cell_type": "code",
      "metadata": {
        "id": "fu6enDwhIqQO"
      },
      "source": [
        "! grep -cv -i \"west\" student-data.csv"
      ],
      "execution_count": null,
      "outputs": []
    },
    {
      "cell_type": "code",
      "metadata": {
        "id": "kyaaVhz9IqQO"
      },
      "source": [
        "! wc -l student-data.csv"
      ],
      "execution_count": null,
      "outputs": []
    },
    {
      "cell_type": "markdown",
      "metadata": {
        "id": "I9iplWRhIqQO"
      },
      "source": [
        "The ^ regular expression pattern specifies at the beginning of a line"
      ]
    },
    {
      "cell_type": "code",
      "metadata": {
        "id": "36ud969tIqQO"
      },
      "source": [
        "! grep \"^20200700\" student-data.csv"
      ],
      "execution_count": null,
      "outputs": []
    },
    {
      "cell_type": "markdown",
      "metadata": {
        "id": "r3ua7QHfIqQP"
      },
      "source": [
        "### Sorting"
      ]
    },
    {
      "cell_type": "code",
      "metadata": {
        "id": "CxRXyP21IqQP"
      },
      "source": [
        "! sort student-data.csv"
      ],
      "execution_count": null,
      "outputs": []
    },
    {
      "cell_type": "markdown",
      "metadata": {
        "id": "hawmq9DoIqQP"
      },
      "source": [
        "Sorting descending (bigger first)"
      ]
    },
    {
      "cell_type": "code",
      "metadata": {
        "id": "9F8dpL-_IqQP"
      },
      "source": [
        "! sort -r student-data.csv"
      ],
      "execution_count": null,
      "outputs": []
    },
    {
      "cell_type": "markdown",
      "metadata": {
        "id": "3ojMlj0gIqQP"
      },
      "source": [
        "Sort a column with specified delimiter"
      ]
    },
    {
      "cell_type": "code",
      "metadata": {
        "id": "gr4aOabcIqQR"
      },
      "source": [
        "! sort -t$'\\t' -k3 student-data.csv"
      ],
      "execution_count": null,
      "outputs": []
    },
    {
      "cell_type": "code",
      "metadata": {
        "id": "Z6aBIZKzM6S4"
      },
      "source": [
        ""
      ],
      "execution_count": null,
      "outputs": []
    },
    {
      "cell_type": "markdown",
      "metadata": {
        "id": "I1J_b3dXIqQR"
      },
      "source": [
        "Sort as numeric format"
      ]
    },
    {
      "cell_type": "code",
      "metadata": {
        "id": "P6SghWFWPACG"
      },
      "source": [
        "! head student-data.csv"
      ],
      "execution_count": null,
      "outputs": []
    },
    {
      "cell_type": "code",
      "metadata": {
        "id": "HU-wD-HqIqQR"
      },
      "source": [
        "! sort -t$'\\t' -nk10 student-data.csv"
      ],
      "execution_count": null,
      "outputs": []
    },
    {
      "cell_type": "markdown",
      "metadata": {
        "id": "uRjP1esUN0Pc"
      },
      "source": [
        "The trick for sorting file content with header"
      ]
    },
    {
      "cell_type": "code",
      "metadata": {
        "id": "G5DkKGOnNLbK"
      },
      "source": [
        "! head -1 student-data.csv ; sed -n '2,$p' student-data.csv | sort -t$'\\t' -k3"
      ],
      "execution_count": null,
      "outputs": []
    },
    {
      "cell_type": "markdown",
      "metadata": {
        "id": "zdtJSHXIIqQR"
      },
      "source": [
        "### Extracting Pattern with AWK"
      ]
    },
    {
      "cell_type": "code",
      "metadata": {
        "id": "w-UfRxXmQOij"
      },
      "source": [
        "! head /etc/passwd"
      ],
      "execution_count": null,
      "outputs": []
    },
    {
      "cell_type": "markdown",
      "metadata": {
        "id": "Y0ZlgJN_IqQR"
      },
      "source": [
        "The awk command provides a scripting language for text processing"
      ]
    },
    {
      "cell_type": "code",
      "metadata": {
        "id": "hiWluN6gIqQR"
      },
      "source": [
        "! awk -F: '{print $1}' /etc/passwd "
      ],
      "execution_count": null,
      "outputs": []
    },
    {
      "cell_type": "code",
      "metadata": {
        "id": "BW9cRONRIqQR"
      },
      "source": [
        "! awk -F: '{ print \"The second field:\", $2}' /etc/passwd"
      ],
      "execution_count": null,
      "outputs": []
    },
    {
      "cell_type": "markdown",
      "metadata": {
        "id": "YtIdzOAJIqQR"
      },
      "source": [
        "Get number of column"
      ]
    },
    {
      "cell_type": "code",
      "metadata": {
        "id": "EQt6f8kgIqQR"
      },
      "source": [
        "! awk -F: '{ print NF }' /etc/passwd"
      ],
      "execution_count": null,
      "outputs": []
    },
    {
      "cell_type": "markdown",
      "metadata": {
        "id": "gIMXJubCIqQS"
      },
      "source": [
        "Calculating total value column 3"
      ]
    },
    {
      "cell_type": "code",
      "metadata": {
        "id": "KhV8EPx4IqQS"
      },
      "source": [
        "! awk -F: '{ sum += $3 } END{ printf \"Total vaule the third field: %d\\n\", sum }' /etc/passwd"
      ],
      "execution_count": null,
      "outputs": []
    },
    {
      "cell_type": "markdown",
      "metadata": {
        "id": "zOaC5dnuIqQS"
      },
      "source": [
        "Calculate number of missing value in column 5"
      ]
    },
    {
      "cell_type": "code",
      "metadata": {
        "id": "pmUArr0SIqQS"
      },
      "source": [
        "! awk -F\":\" '{ if($5==\"\") {N++} } END{ print N }' /etc/passwd"
      ],
      "execution_count": null,
      "outputs": []
    },
    {
      "cell_type": "code",
      "metadata": {
        "id": "Te8Dw75CIqQT"
      },
      "source": [
        "! awk -F\":\" '$5==\"\"{N++} END{print N}' /etc/passwd"
      ],
      "execution_count": null,
      "outputs": []
    },
    {
      "cell_type": "markdown",
      "metadata": {
        "id": "UD7NRyP7IqQT"
      },
      "source": [
        "Filter records for column 3 less than 10"
      ]
    },
    {
      "cell_type": "code",
      "metadata": {
        "id": "kLCKG60gIqQT"
      },
      "source": [
        "! awk -F\":\" '{ if ($3 < 10) { print $1, \"\\t\", $2, \"\\t\", $3 } }' /etc/passwd"
      ],
      "execution_count": null,
      "outputs": []
    },
    {
      "cell_type": "markdown",
      "metadata": {
        "id": "GXdJ7akBIqQT"
      },
      "source": [
        "Transform column 3 by adding with 5 and change output separator to \"\\t\""
      ]
    },
    {
      "cell_type": "code",
      "metadata": {
        "id": "vEf9a_GzIqQU"
      },
      "source": [
        "! awk -F\":\" '{ OFS = \"\\t\"; $3 = $3 + 5; { print } }' /etc/passwd"
      ],
      "execution_count": null,
      "outputs": []
    },
    {
      "cell_type": "markdown",
      "metadata": {
        "id": "gUs_38l6IqQU"
      },
      "source": [
        "### Data Pipeline"
      ]
    },
    {
      "cell_type": "code",
      "metadata": {
        "id": "zkesuxNfIqQU"
      },
      "source": [
        "! awk -F: '{print $1}' /etc/passwd | sort "
      ],
      "execution_count": null,
      "outputs": []
    },
    {
      "cell_type": "markdown",
      "metadata": {
        "id": "Z5C50_nHIqQU"
      },
      "source": [
        "### Getting Output Stream"
      ]
    },
    {
      "cell_type": "code",
      "metadata": {
        "id": "KMfUxVQ4IqQV"
      },
      "source": [
        "! echo \"First line\" > test.txt"
      ],
      "execution_count": null,
      "outputs": []
    },
    {
      "cell_type": "code",
      "metadata": {
        "id": "i3PTNkAsIqQV"
      },
      "source": [
        "! cat test.txt"
      ],
      "execution_count": null,
      "outputs": []
    },
    {
      "cell_type": "code",
      "metadata": {
        "id": "hHixalOMIqQV"
      },
      "source": [
        "! echo \"Second line\" >> test.txt"
      ],
      "execution_count": null,
      "outputs": []
    },
    {
      "cell_type": "code",
      "metadata": {
        "id": "-XPHRYaUIqQV"
      },
      "source": [
        "! cat test.txt"
      ],
      "execution_count": null,
      "outputs": []
    },
    {
      "cell_type": "markdown",
      "metadata": {
        "id": "ahtJ-peUIqQV"
      },
      "source": [
        "Combining with data pipeline"
      ]
    },
    {
      "cell_type": "code",
      "metadata": {
        "id": "qGlIbgKAIqQW"
      },
      "source": [
        "! tail student-data.csv | awk -F\"\\t\" '{ if ($4 == \"east\") { print $1, \"\\t\", $2, \"\\t\", $3, \"\\t\", $4 } }' > last-10.tsv"
      ],
      "execution_count": null,
      "outputs": []
    },
    {
      "cell_type": "code",
      "metadata": {
        "id": "avI3kkGRIqQW"
      },
      "source": [
        "! cat last-10.tsv"
      ],
      "execution_count": null,
      "outputs": []
    },
    {
      "cell_type": "code",
      "metadata": {
        "id": "MhmaCs5FIqQW"
      },
      "source": [
        "! tail student-data.csv"
      ],
      "execution_count": null,
      "outputs": []
    },
    {
      "cell_type": "code",
      "metadata": {
        "id": "yoBKbxHwSE8x"
      },
      "source": [
        ""
      ],
      "execution_count": null,
      "outputs": []
    }
  ]
}