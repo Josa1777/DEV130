{
  "nbformat": 4,
  "nbformat_minor": 0,
  "metadata": {
    "kernelspec": {
      "display_name": "Python 3",
      "language": "python",
      "name": "python3"
    },
    "language_info": {
      "codemirror_mode": {
        "name": "ipython",
        "version": 3
      },
      "file_extension": ".py",
      "mimetype": "text/x-python",
      "name": "python",
      "nbconvert_exporter": "python",
      "pygments_lexer": "ipython3",
      "version": "3.9.1"
    },
    "colab": {
      "name": "File Operation.ipynb",
      "provenance": []
    }
  },
  "cells": [
    {
      "cell_type": "code",
      "metadata": {
        "id": "gxjHbUVhDUTF"
      },
      "source": [
        "!whoami"
      ],
      "execution_count": null,
      "outputs": []
    },
    {
      "cell_type": "code",
      "metadata": {
        "id": "DOtJ_-JGDUTH"
      },
      "source": [
        "!hostname"
      ],
      "execution_count": null,
      "outputs": []
    },
    {
      "cell_type": "code",
      "metadata": {
        "id": "XWM-RasfDUTJ"
      },
      "source": [
        "!pwd"
      ],
      "execution_count": null,
      "outputs": []
    },
    {
      "cell_type": "code",
      "metadata": {
        "id": "xHbDa9t4DUTJ"
      },
      "source": [
        "! date"
      ],
      "execution_count": null,
      "outputs": []
    },
    {
      "cell_type": "markdown",
      "metadata": {
        "id": "b61x97zSDUTJ"
      },
      "source": [
        "## Download file"
      ]
    },
    {
      "cell_type": "code",
      "metadata": {
        "id": "OWLvqXN4DUTK"
      },
      "source": [
        "! wget https://www.dropbox.com/s/76z6nqjum7bqocu/student-data.csv"
      ],
      "execution_count": null,
      "outputs": []
    },
    {
      "cell_type": "markdown",
      "metadata": {
        "id": "Qhpy9nCVDUTL"
      },
      "source": [
        "## List all file in current directory"
      ]
    },
    {
      "cell_type": "code",
      "metadata": {
        "id": "T_RVIr3QDUTM"
      },
      "source": [
        "! ls"
      ],
      "execution_count": null,
      "outputs": []
    },
    {
      "cell_type": "markdown",
      "metadata": {
        "id": "6LJi-AUXDUTM"
      },
      "source": [
        "You can use ls command with argument -l to get more advance information related files and directories like permissions, owner, group, size, created and modified month, date and time, file name"
      ]
    },
    {
      "cell_type": "code",
      "metadata": {
        "id": "nW7QS97-DUTN"
      },
      "source": [
        "! ls -l"
      ],
      "execution_count": null,
      "outputs": []
    },
    {
      "cell_type": "code",
      "metadata": {
        "id": "4O_9hTLnDUTN"
      },
      "source": [
        "! ls -lh"
      ],
      "execution_count": null,
      "outputs": []
    },
    {
      "cell_type": "markdown",
      "metadata": {
        "id": "Kk8YtP5ZDUTO"
      },
      "source": [
        "To list details of a particular file refer the below command"
      ]
    },
    {
      "cell_type": "code",
      "metadata": {
        "id": "a94qaufZDUTO"
      },
      "source": [
        "! ls -lh student-data.csv"
      ],
      "execution_count": null,
      "outputs": []
    },
    {
      "cell_type": "markdown",
      "metadata": {
        "id": "VAxHoMqsDUTP"
      },
      "source": [
        "You can check hidden files and directories by using Linux ls command with argument **-a**"
      ]
    },
    {
      "cell_type": "code",
      "metadata": {
        "id": "R6P5lf2YDUTP"
      },
      "source": [
        "! ls -lah"
      ],
      "execution_count": null,
      "outputs": []
    },
    {
      "cell_type": "markdown",
      "metadata": {
        "id": "40vgQHLLDUTP"
      },
      "source": [
        "Print the index number of each file"
      ]
    },
    {
      "cell_type": "code",
      "metadata": {
        "id": "2lSbdJ5EDUTQ"
      },
      "source": [
        "! ls -lih"
      ],
      "execution_count": null,
      "outputs": []
    },
    {
      "cell_type": "markdown",
      "metadata": {
        "id": "ZSNal12YDUTQ"
      },
      "source": [
        "## Create Directory"
      ]
    },
    {
      "cell_type": "code",
      "metadata": {
        "id": "5NX_p3t0DUTQ"
      },
      "source": [
        "! mkdir dataset"
      ],
      "execution_count": null,
      "outputs": []
    },
    {
      "cell_type": "code",
      "metadata": {
        "id": "gpyEew5hDUTR"
      },
      "source": [
        "! ls -lh"
      ],
      "execution_count": null,
      "outputs": []
    },
    {
      "cell_type": "markdown",
      "metadata": {
        "id": "gPluCZ1LDUTR"
      },
      "source": [
        "To create parent directories as necessary, use argument -p. If the directories exist, no error is specified. "
      ]
    },
    {
      "cell_type": "code",
      "metadata": {
        "id": "YPFCe5GRDUTR"
      },
      "source": [
        "! mkdir -p dataset/first/second/third"
      ],
      "execution_count": null,
      "outputs": []
    },
    {
      "cell_type": "code",
      "metadata": {
        "id": "r8MjIq-8DUTR"
      },
      "source": [
        "! ls -lh dataset/first"
      ],
      "execution_count": null,
      "outputs": []
    },
    {
      "cell_type": "code",
      "metadata": {
        "id": "CW6bADIKDUTS"
      },
      "source": [
        "! ls -Rlh dataset"
      ],
      "execution_count": null,
      "outputs": []
    },
    {
      "cell_type": "markdown",
      "metadata": {
        "id": "k9x8O38UDUTS"
      },
      "source": [
        "## Copy File"
      ]
    },
    {
      "cell_type": "code",
      "metadata": {
        "id": "1FrHBakMDUTS"
      },
      "source": [
        "! cp student-data.csv dataset"
      ],
      "execution_count": null,
      "outputs": []
    },
    {
      "cell_type": "code",
      "metadata": {
        "id": "lW-Z9cToDUTS"
      },
      "source": [
        "! ls -lh dataset"
      ],
      "execution_count": null,
      "outputs": []
    },
    {
      "cell_type": "code",
      "metadata": {
        "id": "iszndeOnDUTT"
      },
      "source": [
        "! cp student-data.csv dataset/student-002.cvs"
      ],
      "execution_count": null,
      "outputs": []
    },
    {
      "cell_type": "code",
      "metadata": {
        "id": "sVmi4RnrDUTT"
      },
      "source": [
        "! ls -lh dataset"
      ],
      "execution_count": null,
      "outputs": []
    },
    {
      "cell_type": "markdown",
      "metadata": {
        "id": "Q52NIqVXDUTT"
      },
      "source": [
        "## Move File"
      ]
    },
    {
      "cell_type": "code",
      "metadata": {
        "id": "J57FW6yjDUTT"
      },
      "source": [
        "! mv dataset/student-002.cvs ."
      ],
      "execution_count": null,
      "outputs": []
    },
    {
      "cell_type": "code",
      "metadata": {
        "id": "BSn4k1sVDUTT"
      },
      "source": [
        "! ls -lh student*"
      ],
      "execution_count": null,
      "outputs": []
    },
    {
      "cell_type": "markdown",
      "metadata": {
        "id": "U9zpLvKxDUTU"
      },
      "source": [
        "## Rename File"
      ]
    },
    {
      "cell_type": "code",
      "metadata": {
        "id": "3QWHsD2DDUTU"
      },
      "source": [
        "! mv student-002.cvs student-003.cvs"
      ],
      "execution_count": null,
      "outputs": []
    },
    {
      "cell_type": "code",
      "metadata": {
        "id": "A6-38xfRDUTU"
      },
      "source": [
        "! ls -lh stu*"
      ],
      "execution_count": null,
      "outputs": []
    },
    {
      "cell_type": "markdown",
      "metadata": {
        "id": "SD4koXo5DUTV"
      },
      "source": [
        "## Delete File"
      ]
    },
    {
      "cell_type": "code",
      "metadata": {
        "id": "gxtoEwxTDUTV"
      },
      "source": [
        "! rm -f student-003.cvs"
      ],
      "execution_count": null,
      "outputs": []
    },
    {
      "cell_type": "code",
      "metadata": {
        "id": "BAE87ISEDUTV"
      },
      "source": [
        "! ls -lh stu*"
      ],
      "execution_count": null,
      "outputs": []
    },
    {
      "cell_type": "markdown",
      "metadata": {
        "id": "9clRjXcnDUTV"
      },
      "source": [
        "## Delete Directory"
      ]
    },
    {
      "cell_type": "code",
      "metadata": {
        "id": "m51y245nDUTV"
      },
      "source": [
        "! ls -Rlh dataset"
      ],
      "execution_count": null,
      "outputs": []
    },
    {
      "cell_type": "code",
      "metadata": {
        "id": "eACU6es-DUTW"
      },
      "source": [
        "! rm -rf dataset/first/second"
      ],
      "execution_count": null,
      "outputs": []
    },
    {
      "cell_type": "code",
      "metadata": {
        "id": "86F9Q35_DUTW"
      },
      "source": [
        "! ls -Rlh dataset"
      ],
      "execution_count": null,
      "outputs": []
    },
    {
      "cell_type": "code",
      "metadata": {
        "id": "yvmTTs4UDUTW"
      },
      "source": [
        "! rmdir dataset/first"
      ],
      "execution_count": null,
      "outputs": []
    },
    {
      "cell_type": "code",
      "metadata": {
        "id": "X9oAvxrQDUTW"
      },
      "source": [
        "! ls -Rlh dataset"
      ],
      "execution_count": null,
      "outputs": []
    },
    {
      "cell_type": "markdown",
      "metadata": {
        "id": "E_lEn3dzDUTW"
      },
      "source": [
        "## Compression"
      ]
    },
    {
      "cell_type": "markdown",
      "metadata": {
        "id": "0AN6c8PpDUTW"
      },
      "source": [
        "To create tar.gz file named dataset.tar.gz for directory called dataset/"
      ]
    },
    {
      "cell_type": "code",
      "metadata": {
        "id": "3iRIsSkcDUTW"
      },
      "source": [
        "! ls -l dataset"
      ],
      "execution_count": null,
      "outputs": []
    },
    {
      "cell_type": "code",
      "metadata": {
        "id": "EgFY32L2DUTW"
      },
      "source": [
        "! tar -czvf dataset.tar.gz dataset/"
      ],
      "execution_count": null,
      "outputs": []
    },
    {
      "cell_type": "code",
      "metadata": {
        "id": "4DY3BPV1DUTX"
      },
      "source": [
        "! ls -lh"
      ],
      "execution_count": null,
      "outputs": []
    },
    {
      "cell_type": "markdown",
      "metadata": {
        "id": "xNqUh0ZbDUTX"
      },
      "source": [
        "Extract files in a given directory such as dataset/extracted"
      ]
    },
    {
      "cell_type": "code",
      "metadata": {
        "id": "FgJGJ5CoDUTX"
      },
      "source": [
        "! mkdir -p dataset/extracted"
      ],
      "execution_count": null,
      "outputs": []
    },
    {
      "cell_type": "code",
      "metadata": {
        "id": "ig1u_rbhDUTX"
      },
      "source": [
        "! ls -lh dataset/extracted"
      ],
      "execution_count": null,
      "outputs": []
    },
    {
      "cell_type": "code",
      "metadata": {
        "id": "nacZbl86DUTY"
      },
      "source": [
        "! tar -xzvf dataset.tar.gz -C dataset/extracted"
      ],
      "execution_count": null,
      "outputs": []
    },
    {
      "cell_type": "code",
      "metadata": {
        "id": "uDzF1yIvDUTY"
      },
      "source": [
        "! ls -lh dataset/extracted"
      ],
      "execution_count": null,
      "outputs": []
    },
    {
      "cell_type": "code",
      "metadata": {
        "id": "5pfH6uSWDUTY"
      },
      "source": [
        ""
      ],
      "execution_count": null,
      "outputs": []
    }
  ]
}