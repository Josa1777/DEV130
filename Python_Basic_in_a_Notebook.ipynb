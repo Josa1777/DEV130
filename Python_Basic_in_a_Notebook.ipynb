{
  "nbformat": 4,
  "nbformat_minor": 0,
  "metadata": {
    "colab": {
      "name": "Python Basic in a Notebook",
      "provenance": [],
      "collapsed_sections": [
        "le3QAmXkng6p",
        "zdYSrqdXNjJY",
        "w8v0wzbLKCCK",
        "B76hCJaNQ2J_",
        "B3XLKO2NevQa",
        "4WtPKrzklDY9",
        "pXPi49MilGgT",
        "b2UzZkdSlKII",
        "tXSSbwemlPxD",
        "GwgDYwJaSqgB",
        "7ecKUm6jStP5",
        "g60kptSf2x-f",
        "OFt36ocZ2x-i",
        "12U731Cn2-E4"
      ],
      "toc_visible": true
    },
    "kernelspec": {
      "name": "python3",
      "display_name": "Python 3"
    }
  },
  "cells": [
    {
      "cell_type": "markdown",
      "metadata": {
        "id": "km7jl7hA4fio"
      },
      "source": [
        "Python basics in a notebook"
      ]
    },
    {
      "cell_type": "markdown",
      "metadata": {
        "id": "Mhjj6oErlpEn"
      },
      "source": [
        "#1. Python Basic Syntax"
      ]
    },
    {
      "cell_type": "markdown",
      "metadata": {
        "id": "_EetFAjeq0-c"
      },
      "source": [
        "## Lines and Indentation\n",
        "\n",
        "The number of spaces in the indentation is variable, but all statements within the block must be indented the same amount\n"
      ]
    },
    {
      "cell_type": "code",
      "metadata": {
        "id": "Z2vDsXnMoNtl",
        "colab": {
          "base_uri": "https://localhost:8080/",
          "height": 35
        },
        "outputId": "78b9f7ec-a39b-49fe-fc74-5e45675b8c88"
      },
      "source": [
        "if 3 > 2:\n",
        "   print(\"True\")\n",
        "else:\n",
        "   print(\"False\")"
      ],
      "execution_count": null,
      "outputs": [
        {
          "output_type": "stream",
          "text": [
            "True\n"
          ],
          "name": "stdout"
        }
      ]
    },
    {
      "cell_type": "markdown",
      "metadata": {
        "id": "59D15C1UrdFB"
      },
      "source": [
        "Run the following codes to see the different outputs and why : "
      ]
    },
    {
      "cell_type": "code",
      "metadata": {
        "id": "Qt7GCEogr2L5",
        "colab": {
          "base_uri": "https://localhost:8080/",
          "height": 134
        },
        "outputId": "6e559cc8-9475-404d-f474-ae63f297842d"
      },
      "source": [
        "if 3 > 2:\n",
        "print(\"True\")\n",
        "else:\n",
        "print(\"False\")"
      ],
      "execution_count": null,
      "outputs": [
        {
          "output_type": "error",
          "ename": "IndentationError",
          "evalue": "ignored",
          "traceback": [
            "\u001b[0;36m  File \u001b[0;32m\"<ipython-input-14-bf25ca9e478e>\"\u001b[0;36m, line \u001b[0;32m2\u001b[0m\n\u001b[0;31m    print(\"True\")\u001b[0m\n\u001b[0m        ^\u001b[0m\n\u001b[0;31mIndentationError\u001b[0m\u001b[0;31m:\u001b[0m expected an indented block\n"
          ]
        }
      ]
    },
    {
      "cell_type": "code",
      "metadata": {
        "id": "WAC1L7gSsELG",
        "colab": {
          "base_uri": "https://localhost:8080/",
          "height": 35
        },
        "outputId": "a4291dfe-3179-495c-c894-8700ac663004"
      },
      "source": [
        "if 3 > 2:\n",
        "  print(\"True\")\n",
        "else:\n",
        " print(\"False\")"
      ],
      "execution_count": null,
      "outputs": [
        {
          "output_type": "stream",
          "text": [
            "True\n"
          ],
          "name": "stdout"
        }
      ]
    },
    {
      "cell_type": "code",
      "metadata": {
        "id": "PkWy-xRJsEDm",
        "colab": {
          "base_uri": "https://localhost:8080/",
          "height": 53
        },
        "outputId": "f337c462-1aa7-4e41-81ea-2c4dea86eee0"
      },
      "source": [
        "if 3 > 2:\n",
        "   print(\"True\")\n",
        "print(\"False\")"
      ],
      "execution_count": null,
      "outputs": [
        {
          "output_type": "stream",
          "text": [
            "True\n",
            "False\n"
          ],
          "name": "stdout"
        }
      ]
    },
    {
      "cell_type": "code",
      "metadata": {
        "id": "USDSvR7_sVjv",
        "colab": {
          "base_uri": "https://localhost:8080/",
          "height": 134
        },
        "outputId": "81d3ed77-984f-4382-b9e7-82c5097939c6"
      },
      "source": [
        "if 3 > 2:\n",
        "   print(\"True\")\n",
        " print(\"False\")"
      ],
      "execution_count": null,
      "outputs": [
        {
          "output_type": "error",
          "ename": "IndentationError",
          "evalue": "ignored",
          "traceback": [
            "\u001b[0;36m  File \u001b[0;32m\"<ipython-input-24-bd0c3aef30ff>\"\u001b[0;36m, line \u001b[0;32m3\u001b[0m\n\u001b[0;31m    print(\"False\")\u001b[0m\n\u001b[0m                  ^\u001b[0m\n\u001b[0;31mIndentationError\u001b[0m\u001b[0;31m:\u001b[0m unindent does not match any outer indentation level\n"
          ]
        }
      ]
    },
    {
      "cell_type": "markdown",
      "metadata": {
        "id": "QCm22d-3tK_F"
      },
      "source": [
        "All the continuous lines indented with same number of spaces would form a block."
      ]
    },
    {
      "cell_type": "code",
      "metadata": {
        "id": "tN_wVQz9tPY8",
        "colab": {
          "base_uri": "https://localhost:8080/",
          "height": 90
        },
        "outputId": "e884280b-715c-4e75-970b-2255cd59bef3"
      },
      "source": [
        "a = 11\n",
        "if a > 2:\n",
        "  print(\"Greater than 2\")\n",
        "  if a > 10:\n",
        "    print(\"Greater than 10\")\n",
        "    print(\"A pretty big number\")\n",
        "  else:\n",
        "    print(\"Not greater than 10\")\n",
        "  \n",
        "else:\n",
        " print(\"Not greater than 2\")\n",
        " print(\"Still the same else block\")\n",
        "\n",
        "print(\"Print no matter what\")\n"
      ],
      "execution_count": null,
      "outputs": [
        {
          "output_type": "stream",
          "text": [
            "Greater than 2\n",
            "Greater than 10\n",
            "A pretty big number\n",
            "Print no matter what\n"
          ],
          "name": "stdout"
        }
      ]
    },
    {
      "cell_type": "markdown",
      "metadata": {
        "id": "cmPue0mYkFwK"
      },
      "source": [
        "#Multiline Statements\n"
      ]
    },
    {
      "cell_type": "code",
      "metadata": {
        "scrolled": true,
        "id": "_Kpjxt7KkFwS",
        "colab": {
          "base_uri": "https://localhost:8080/"
        },
        "outputId": "ce01d3e8-3dc7-48ac-d454-fa8ba77054d2"
      },
      "source": [
        "print(\"This is a \\\n",
        "multiline \\\n",
        "statement\")\n",
        "\n",
        "print(\"This is a \" \n",
        "      \"multiline \"\n",
        "      \"statement \")\n",
        "\n",
        "a = 100 + \\\n",
        "    100 + \\\n",
        "    100\n",
        "a"
      ],
      "execution_count": null,
      "outputs": [
        {
          "output_type": "stream",
          "text": [
            "This is a multiline statement\n",
            "This is a multiline statement \n"
          ],
          "name": "stdout"
        },
        {
          "output_type": "execute_result",
          "data": {
            "text/plain": [
              "300"
            ]
          },
          "metadata": {
            "tags": []
          },
          "execution_count": 16
        }
      ]
    },
    {
      "cell_type": "markdown",
      "metadata": {
        "id": "GMaaycAGbTIn"
      },
      "source": [
        "#Multiple statements in a line"
      ]
    },
    {
      "cell_type": "code",
      "metadata": {
        "id": "34jjr3y8bW8P",
        "colab": {
          "base_uri": "https://localhost:8080/",
          "height": 35
        },
        "outputId": "4ee1b977-9742-47c3-b562-851e2c51b868"
      },
      "source": [
        "a = 10; b = a + 2; print(b)"
      ],
      "execution_count": null,
      "outputs": [
        {
          "output_type": "stream",
          "text": [
            "12\n"
          ],
          "name": "stdout"
        }
      ]
    },
    {
      "cell_type": "markdown",
      "metadata": {
        "id": "cguNqMKcguaP"
      },
      "source": [
        "##Python Block of Code"
      ]
    },
    {
      "cell_type": "code",
      "metadata": {
        "id": "SakGmtmD2Nwk",
        "colab": {
          "base_uri": "https://localhost:8080/"
        },
        "outputId": "44fcc340-eaa2-4e7c-c1f3-66219148632d"
      },
      "source": [
        "if True:\r\n",
        "   print(\"Answer:\")\r\n",
        "   print(\"True\")\r\n",
        "else:\r\n",
        "  print(\"Answer:\")\r\n",
        "  print(\"False\")"
      ],
      "execution_count": null,
      "outputs": [
        {
          "output_type": "stream",
          "text": [
            "Answer:\n",
            "True\n"
          ],
          "name": "stdout"
        }
      ]
    },
    {
      "cell_type": "code",
      "metadata": {
        "colab": {
          "base_uri": "https://localhost:8080/"
        },
        "id": "nL0ucCcMg1wa",
        "outputId": "adcbd1c6-ef90-4b83-915d-389479124441"
      },
      "source": [
        "if True:\r\n",
        "    print(\"Answer:\")\r\n",
        "    print(\"True\")\r\n",
        "else:\r\n",
        "    print(\"Answer:\")\r\n",
        "print(\"False\")"
      ],
      "execution_count": null,
      "outputs": [
        {
          "output_type": "stream",
          "text": [
            "Answer:\n",
            "True\n",
            "False\n"
          ],
          "name": "stdout"
        }
      ]
    },
    {
      "cell_type": "markdown",
      "metadata": {
        "id": "KxjERrjPhH0y"
      },
      "source": [
        "##Python Comments and Docstring"
      ]
    },
    {
      "cell_type": "code",
      "metadata": {
        "colab": {
          "base_uri": "https://localhost:8080/"
        },
        "id": "UWckyL_ahQBe",
        "outputId": "508b91e5-1c20-4f0d-ae5a-623094ace6d0"
      },
      "source": [
        "# This is a comment\r\n",
        "print(\"Hello Python!\") # This line prints : Hello Python!\r\n",
        "\r\n",
        "print(\"This is \" #this is a comment\r\n",
        "      \"a multiline statement\")\r\n"
      ],
      "execution_count": null,
      "outputs": [
        {
          "output_type": "stream",
          "text": [
            "Hello Python!\n",
            "This is a multiline statement\n"
          ],
          "name": "stdout"
        }
      ]
    },
    {
      "cell_type": "code",
      "metadata": {
        "colab": {
          "base_uri": "https://localhost:8080/",
          "height": 36
        },
        "id": "kVKF1ebAhgfK",
        "outputId": "390243ba-4dac-4ff9-829b-331cafdd60be"
      },
      "source": [
        "def mysqrt(n):     \r\n",
        "  '''Takes in a number n, returns the square of n'''\r\n",
        "  return n**2\r\n",
        "\r\n",
        "mysqrt.__doc__"
      ],
      "execution_count": null,
      "outputs": [
        {
          "output_type": "execute_result",
          "data": {
            "application/vnd.google.colaboratory.intrinsic+json": {
              "type": "string"
            },
            "text/plain": [
              "'Takes in a number n, returns the square of n'"
            ]
          },
          "metadata": {
            "tags": []
          },
          "execution_count": 8
        }
      ]
    },
    {
      "cell_type": "markdown",
      "metadata": {
        "id": "K7Rwx2jz2OVl"
      },
      "source": [
        "#2. Python Numbers\n",
        "##Integer"
      ]
    },
    {
      "cell_type": "code",
      "metadata": {
        "colab": {
          "base_uri": "https://localhost:8080/",
          "height": 90
        },
        "id": "eIP2xZZN2OVl",
        "outputId": "084a6472-f408-45ba-8992-816f72afadd7"
      },
      "source": [
        "my_num = 7\n",
        "print(my_num)\n",
        "print(type(my_num))\n",
        "print(isinstance(my_num, int))\n",
        "print(isinstance(my_num, float))"
      ],
      "execution_count": null,
      "outputs": [
        {
          "output_type": "stream",
          "text": [
            "7\n",
            "<class 'int'>\n",
            "True\n",
            "False\n"
          ],
          "name": "stdout"
        }
      ]
    },
    {
      "cell_type": "code",
      "metadata": {
        "id": "fgE1CMbQvwcd",
        "colab": {
          "base_uri": "https://localhost:8080/",
          "height": 72
        },
        "outputId": "8c2ec430-c698-49af-fe50-031f929b66ce"
      },
      "source": [
        "my_num = int('7')\n",
        "print(my_num)\n",
        "print(type(my_num))\n",
        "print(isinstance(my_num, int))"
      ],
      "execution_count": null,
      "outputs": [
        {
          "output_type": "stream",
          "text": [
            "7\n",
            "<class 'int'>\n",
            "True\n"
          ],
          "name": "stdout"
        }
      ]
    },
    {
      "cell_type": "markdown",
      "metadata": {
        "id": "0o-Nu60R2OVo"
      },
      "source": [
        "##Float"
      ]
    },
    {
      "cell_type": "code",
      "metadata": {
        "colab": {
          "base_uri": "https://localhost:8080/",
          "height": 72
        },
        "id": "iIh12Syz2OVp",
        "outputId": "fd54b8f9-b95e-48e2-cb8a-9ed0cd42f99b"
      },
      "source": [
        "my_fnum = 1.0\n",
        "print(my_fnum)\n",
        "print(type(my_fnum))\n",
        "print(isinstance(my_fnum, float))"
      ],
      "execution_count": null,
      "outputs": [
        {
          "output_type": "stream",
          "text": [
            "1.0\n",
            "<class 'float'>\n",
            "True\n"
          ],
          "name": "stdout"
        }
      ]
    },
    {
      "cell_type": "code",
      "metadata": {
        "id": "sJbnj1mqv3wQ",
        "colab": {
          "base_uri": "https://localhost:8080/",
          "height": 72
        },
        "outputId": "57477af9-d168-4fad-c77a-8dead445c0f0"
      },
      "source": [
        "my_fnum = float(my_num)\n",
        "print(my_fnum)\n",
        "print(type(my_fnum))\n",
        "print(isinstance(my_fnum, float))"
      ],
      "execution_count": null,
      "outputs": [
        {
          "output_type": "stream",
          "text": [
            "7.0\n",
            "<class 'float'>\n",
            "True\n"
          ],
          "name": "stdout"
        }
      ]
    },
    {
      "cell_type": "markdown",
      "metadata": {
        "id": "Ob4ejPxDm-oN"
      },
      "source": [
        "Division of `int` numbers produces `float`"
      ]
    },
    {
      "cell_type": "code",
      "metadata": {
        "colab": {
          "base_uri": "https://localhost:8080/",
          "height": 90
        },
        "id": "ts7JLYuB2OVq",
        "outputId": "6b6a1dbf-46fe-4ef9-c703-99207e7582d0"
      },
      "source": [
        "num1 = 4\n",
        "num2 = 2\n",
        "print(type(num1))\n",
        "print(type(num2))\n",
        "num3 = num1 / num2\n",
        "print(num3)\n",
        "print(type(num3))\n"
      ],
      "execution_count": null,
      "outputs": [
        {
          "output_type": "stream",
          "text": [
            "<class 'int'>\n",
            "<class 'int'>\n",
            "2.0\n",
            "<class 'float'>\n"
          ],
          "name": "stdout"
        }
      ]
    },
    {
      "cell_type": "markdown",
      "metadata": {
        "id": "ypX5dJbb-UmS"
      },
      "source": [
        "##fractions.Fraction"
      ]
    },
    {
      "cell_type": "code",
      "metadata": {
        "id": "zNCv2adp-YVJ",
        "colab": {
          "base_uri": "https://localhost:8080/",
          "height": 53
        },
        "outputId": "771e86d3-0f5c-41d9-883c-3b4aa33579c8"
      },
      "source": [
        "from fractions import Fraction\n",
        "my_fraction = Fraction(8, -10)\n",
        "print(my_fraction)\n",
        "print(type(my_fraction))"
      ],
      "execution_count": null,
      "outputs": [
        {
          "output_type": "stream",
          "text": [
            "-4/5\n",
            "<class 'fractions.Fraction'>\n"
          ],
          "name": "stdout"
        }
      ]
    },
    {
      "cell_type": "markdown",
      "metadata": {
        "id": "le3QAmXkng6p"
      },
      "source": [
        "##decimal.Decimal\n",
        "\n"
      ]
    },
    {
      "cell_type": "code",
      "metadata": {
        "colab": {
          "base_uri": "https://localhost:8080/",
          "height": 53
        },
        "id": "D2-MNFlg2OVt",
        "outputId": "7607e50e-7fbb-455c-f39c-80cfaa2e329f"
      },
      "source": [
        "from decimal import Decimal\n",
        "dec_from_float = Decimal(0.1)\n",
        "dec_from_string = Decimal('0.1')\n",
        "print(dec_from_float)\n",
        "print(dec_from_string)"
      ],
      "execution_count": null,
      "outputs": [
        {
          "output_type": "stream",
          "text": [
            "0.1000000000000000055511151231257827021181583404541015625\n",
            "0.1\n"
          ],
          "name": "stdout"
        }
      ]
    },
    {
      "cell_type": "markdown",
      "metadata": {
        "id": "oDJkJyE6MDa-"
      },
      "source": [
        "##Floating Point Arithmetic: Issues and Limitations"
      ]
    },
    {
      "cell_type": "code",
      "metadata": {
        "id": "s0R6Nzp9LIFK",
        "colab": {
          "base_uri": "https://localhost:8080/",
          "height": 126
        },
        "outputId": "8212c612-4486-4da3-888d-2dd9be2b04c4"
      },
      "source": [
        "my_float = float('0.3')\n",
        "my_sumoffloat = my_float + my_float + my_float\n",
        "print(my_sumoffloat)\n",
        "print(my_sumoffloat == Decimal('0.9'))\n",
        "\n",
        "\n",
        "my_dec = Decimal(.3)\n",
        "my_sumofdec = my_dec + my_dec + my_dec\n",
        "print(my_sumofdec)\n",
        "print(my_sumofdec == Decimal('0.9'))\n",
        "\n",
        "\n",
        "my_dec = Decimal('0.3')\n",
        "my_sumofdec = my_dec + my_dec + my_dec\n",
        "print(my_sumofdec)\n",
        "print(my_sumofdec == Decimal('0.9'))\n"
      ],
      "execution_count": null,
      "outputs": [
        {
          "output_type": "stream",
          "text": [
            "0.8999999999999999\n",
            "False\n",
            "0.8999999999999999666933092612\n",
            "False\n",
            "0.9\n",
            "True\n"
          ],
          "name": "stdout"
        }
      ]
    },
    {
      "cell_type": "code",
      "metadata": {
        "id": "lGUZrlpP2Pr3"
      },
      "source": [
        ""
      ],
      "execution_count": null,
      "outputs": []
    },
    {
      "cell_type": "markdown",
      "metadata": {
        "id": "eswmGbz-l8Xi"
      },
      "source": [
        "##Sequence Operations"
      ]
    },
    {
      "cell_type": "code",
      "metadata": {
        "colab": {
          "base_uri": "https://localhost:8080/"
        },
        "id": "BeifG0B9mAb3",
        "outputId": "5672938f-1d1d-48b5-ed54-ddf8b88faec1"
      },
      "source": [
        "#concatenation\r\n",
        "a = 'Hello '\r\n",
        "print( a + 'World!' )\r\n",
        "\r\n",
        "b = [1 , 2]; c = ['a', 'b']\r\n",
        "print( b + c )"
      ],
      "execution_count": null,
      "outputs": [
        {
          "output_type": "stream",
          "text": [
            "Hello World!\n",
            "[1, 2, 'a', 'b']\n"
          ],
          "name": "stdout"
        }
      ]
    },
    {
      "cell_type": "code",
      "metadata": {
        "colab": {
          "base_uri": "https://localhost:8080/"
        },
        "id": "DHFfU6cImPeK",
        "outputId": "c7501cbc-ea33-4493-89c4-e4f168b00bae"
      },
      "source": [
        "#sequence multiplication\r\n",
        "a = 'Hello World!'\r\n",
        "print( a * 3 )\r\n",
        "\r\n",
        "b = 1, 2, 3, 4\r\n",
        "print( b * 2 )"
      ],
      "execution_count": null,
      "outputs": [
        {
          "output_type": "stream",
          "text": [
            "Hello World!Hello World!Hello World!\n",
            "(1, 2, 3, 4, 1, 2, 3, 4)\n"
          ],
          "name": "stdout"
        }
      ]
    },
    {
      "cell_type": "code",
      "metadata": {
        "colab": {
          "base_uri": "https://localhost:8080/"
        },
        "id": "ekV26EBDme_o",
        "outputId": "d608a05e-4539-4aa0-f93f-3eb885cb1d37"
      },
      "source": [
        "#membership testing\r\n",
        "a = 'Hello World!'\r\n",
        "print( 'Hello' in a )\r\n",
        "\r\n",
        "b = [1, 2, 3, 4]\r\n",
        "print( 7 in b )"
      ],
      "execution_count": null,
      "outputs": [
        {
          "output_type": "stream",
          "text": [
            "True\n",
            "False\n"
          ],
          "name": "stdout"
        }
      ]
    },
    {
      "cell_type": "code",
      "metadata": {
        "colab": {
          "base_uri": "https://localhost:8080/"
        },
        "id": "T1d2l_4omjS7",
        "outputId": "e5ed5a49-9ebf-4eba-8bdc-f581d788c758"
      },
      "source": [
        "#indexing and slicing\r\n",
        "b = [1, 2, 3, 4]\r\n",
        "print( b[3] + b[-4])\r\n",
        "\r\n",
        "a = 'Hello World!'\r\n",
        "print( a[-6:] + a[:5])"
      ],
      "execution_count": null,
      "outputs": [
        {
          "output_type": "stream",
          "text": [
            "5\n",
            "World!Hello\n"
          ],
          "name": "stdout"
        }
      ]
    },
    {
      "cell_type": "markdown",
      "metadata": {
        "id": "Fto9d_q69jQH"
      },
      "source": [
        "# 3. Strings"
      ]
    },
    {
      "cell_type": "code",
      "metadata": {
        "id": "1qjYMHScKP46",
        "colab": {
          "base_uri": "https://localhost:8080/"
        },
        "outputId": "f70959d5-0aa4-4f0d-b2d8-6beae7beee8d"
      },
      "source": [
        "str1 = 'Hello world!'\n",
        "str2 = \"This is a Python string.\"\n",
        "print(str1)\n",
        "print(str2)\n",
        "print(type(str1))"
      ],
      "execution_count": null,
      "outputs": [
        {
          "output_type": "stream",
          "text": [
            "Hello world!\n",
            "This is a Python string.\n",
            "<class 'str'>\n"
          ],
          "name": "stdout"
        }
      ]
    },
    {
      "cell_type": "code",
      "metadata": {
        "id": "xqmyex08fc_A",
        "colab": {
          "base_uri": "https://localhost:8080/",
          "height": 35
        },
        "outputId": "2e0afd6a-b2a5-4310-fbbe-f951bb82c129"
      },
      "source": [
        "len(str2)"
      ],
      "execution_count": null,
      "outputs": [
        {
          "output_type": "execute_result",
          "data": {
            "text/plain": [
              "24"
            ]
          },
          "metadata": {
            "tags": []
          },
          "execution_count": 10
        }
      ]
    },
    {
      "cell_type": "markdown",
      "metadata": {
        "id": "6fVK7oeHrihq"
      },
      "source": [
        "String quotes and escape characters"
      ]
    },
    {
      "cell_type": "code",
      "metadata": {
        "id": "3MDy_7Wur6ib",
        "colab": {
          "base_uri": "https://localhost:8080/",
          "height": 181
        },
        "outputId": "c8d5f396-4e31-4bb4-83b9-aa9a745837fc"
      },
      "source": [
        "#string quotes\n",
        "print('allows embedded \"double\" quotes')\n",
        "print(\"allows embedded 'single' quotes\")\n",
        "print('''Three single \n",
        "quotes''')\n",
        "print(\"\"\"Three double \n",
        "quotes\"\"\")"
      ],
      "execution_count": null,
      "outputs": [
        {
          "output_type": "stream",
          "text": [
            "allows embedded \"double\" quotes\n",
            "allows embedded 'single' quotes\n",
            "Three single \n",
            "quotes\n",
            "Three double \n",
            "quotes\n",
            "This is multiline statement.\n",
            "This is multi\n",
            "line string.\n"
          ],
          "name": "stdout"
        }
      ]
    },
    {
      "cell_type": "code",
      "metadata": {
        "id": "E-OlYerGtda-",
        "colab": {
          "base_uri": "https://localhost:8080/",
          "height": 72
        },
        "outputId": "03e4991f-2c7f-430a-e8bb-401fafd1e232"
      },
      "source": [
        "print(\"This is multi\\\n",
        "line statement.\")\n",
        "print(\"\"\"This is multi\n",
        "line string.\"\"\")\n"
      ],
      "execution_count": null,
      "outputs": [
        {
          "output_type": "stream",
          "text": [
            "This is multiline statement.\n",
            "This is multi\n",
            "line string.\n"
          ],
          "name": "stdout"
        }
      ]
    },
    {
      "cell_type": "code",
      "metadata": {
        "id": "hw91TvvhsQDV",
        "colab": {
          "base_uri": "https://localhost:8080/",
          "height": 90
        },
        "outputId": "75cdf129-98ea-4e99-97d5-11ca45c0531d"
      },
      "source": [
        "print(\"this is tab\\t.\")\n",
        "print(\"this is new\\nline.\")\n",
        "print(\"this is backspace\\b.\")"
      ],
      "execution_count": null,
      "outputs": [
        {
          "output_type": "stream",
          "text": [
            "this is tab\t.\n",
            "this is new\n",
            "line.\n",
            "this is backspace\b.\n"
          ],
          "name": "stdout"
        }
      ]
    },
    {
      "cell_type": "markdown",
      "metadata": {
        "id": "KiZ2goAu-H6p"
      },
      "source": [
        "Accessing elements/substring"
      ]
    },
    {
      "cell_type": "code",
      "metadata": {
        "id": "JLOoHXQR-IaE",
        "colab": {
          "base_uri": "https://localhost:8080/"
        },
        "outputId": "dcd44013-e6aa-4feb-fc63-a9dc2567d741"
      },
      "source": [
        "str1 = 'Hello world!'\n",
        "\n",
        "print(str1[0])\n",
        "print(str2[10:15])\n",
        "print(str2[10:])\n",
        "print(str2[:-10])"
      ],
      "execution_count": null,
      "outputs": [
        {
          "output_type": "stream",
          "text": [
            "H\n",
            "Pytho\n",
            "Python string.\n",
            "This is a Pyth\n"
          ],
          "name": "stdout"
        }
      ]
    },
    {
      "cell_type": "markdown",
      "metadata": {
        "id": "sW4kukD-9iTp"
      },
      "source": [
        "##Updating string\n",
        "\n",
        "Python string is immutable. Updating a string produces new string.\n"
      ]
    },
    {
      "cell_type": "code",
      "metadata": {
        "id": "Sgg8ItvvfyfZ",
        "colab": {
          "base_uri": "https://localhost:8080/"
        },
        "outputId": "269908e0-ad3a-4952-e037-4289e62711cb"
      },
      "source": [
        "str2 = \"This is a Python string.\"\n",
        "print(str2.replace('i','_'))\n",
        "print(str2)"
      ],
      "execution_count": null,
      "outputs": [
        {
          "output_type": "stream",
          "text": [
            "Th_s _s a Python str_ng.\n",
            "This is a Python string.\n"
          ],
          "name": "stdout"
        }
      ]
    },
    {
      "cell_type": "code",
      "metadata": {
        "id": "pu79JT1wm-DD"
      },
      "source": [
        "A = \"Hello World!\"\r\n",
        "A[5] = 'a'    #this is error"
      ],
      "execution_count": null,
      "outputs": []
    },
    {
      "cell_type": "markdown",
      "metadata": {
        "id": "757gPHx7m6Hm"
      },
      "source": [
        "##String Operators"
      ]
    },
    {
      "cell_type": "code",
      "metadata": {
        "id": "Vb1kLtsTm-JF",
        "colab": {
          "base_uri": "https://localhost:8080/"
        },
        "outputId": "e593da93-31fb-4dd4-be39-33cd9c964aaf"
      },
      "source": [
        "#checking containments\n",
        "str2 = \"This is a Python string.\"\n",
        "print('x' in str2)\n",
        "print('x' not in str2)"
      ],
      "execution_count": null,
      "outputs": [
        {
          "output_type": "stream",
          "text": [
            "False\n",
            "True\n"
          ],
          "name": "stdout"
        }
      ]
    },
    {
      "cell_type": "code",
      "metadata": {
        "id": "YlajpS6ppIhI",
        "colab": {
          "base_uri": "https://localhost:8080/"
        },
        "outputId": "800b4f2d-3eb1-45df-e5e3-e1aefd0ef116"
      },
      "source": [
        "#concatenation \n",
        "print(str2 + \" You know.\")\n",
        "print(str2)\n"
      ],
      "execution_count": null,
      "outputs": [
        {
          "output_type": "stream",
          "text": [
            "This is a Python string. You know.\n",
            "This is a Python string.\n"
          ],
          "name": "stdout"
        }
      ]
    },
    {
      "cell_type": "code",
      "metadata": {
        "id": "EZsAuWwnpIZl",
        "colab": {
          "base_uri": "https://localhost:8080/"
        },
        "outputId": "fef7d6ff-1d04-4c7d-8fea-151968a47c96"
      },
      "source": [
        "#multiplication --> adding string to itself n times\n",
        "str1 = 'Hello world!'\n",
        "print(str1 * 3)\n",
        "print(3 * str1)"
      ],
      "execution_count": null,
      "outputs": [
        {
          "output_type": "stream",
          "text": [
            "Hello world!Hello world!Hello world!\n",
            "Hello world!Hello world!Hello world!\n"
          ],
          "name": "stdout"
        }
      ]
    },
    {
      "cell_type": "code",
      "metadata": {
        "id": "lZfiemkJp6Lp",
        "colab": {
          "base_uri": "https://localhost:8080/"
        },
        "outputId": "20dd5a23-4846-4f1d-9d7b-dabadb310533"
      },
      "source": [
        "str1 = 'Hello world!'\n",
        "print(\"Minimun char in str1: \\'\"+ min(str1) + \"\\'\")\n",
        "print(\"Maximun char in str1: \\'\"+ max(str1) + \"\\'\")"
      ],
      "execution_count": null,
      "outputs": [
        {
          "output_type": "stream",
          "text": [
            "Minimun char in str1: ' '\n",
            "Maximun char in str1: 'w'\n"
          ],
          "name": "stdout"
        }
      ]
    },
    {
      "cell_type": "markdown",
      "metadata": {
        "id": "JphWq9A8uXVJ"
      },
      "source": [
        "##String methods\n",
        "\n",
        "See complete list of methods in https://docs.python.org/3/library/stdtypes.html#string-methods "
      ]
    },
    {
      "cell_type": "code",
      "metadata": {
        "id": "DNNDSfbVqP7v",
        "colab": {
          "base_uri": "https://localhost:8080/"
        },
        "outputId": "f5004f65-0b9c-440e-b966-5220fbe2ffed"
      },
      "source": [
        "#count occurence\n",
        "str2.count('is')"
      ],
      "execution_count": null,
      "outputs": [
        {
          "output_type": "execute_result",
          "data": {
            "text/plain": [
              "2"
            ]
          },
          "metadata": {
            "tags": []
          },
          "execution_count": 39
        }
      ]
    },
    {
      "cell_type": "code",
      "metadata": {
        "id": "6WMjW7EOufPk",
        "colab": {
          "base_uri": "https://localhost:8080/",
          "height": 36
        },
        "outputId": "c040d130-3b7a-4c27-cb4c-436bc81e4101"
      },
      "source": [
        "#change into lowercase\n",
        "str2.lower()"
      ],
      "execution_count": null,
      "outputs": [
        {
          "output_type": "execute_result",
          "data": {
            "application/vnd.google.colaboratory.intrinsic+json": {
              "type": "string"
            },
            "text/plain": [
              "'this is a python string.'"
            ]
          },
          "metadata": {
            "tags": []
          },
          "execution_count": 40
        }
      ]
    },
    {
      "cell_type": "code",
      "metadata": {
        "id": "2zq3toeCv12i",
        "colab": {
          "base_uri": "https://localhost:8080/"
        },
        "outputId": "17c60fbe-193e-425d-e699-62bb40b18c2c"
      },
      "source": [
        "#finding first substring occurence\n",
        "print(str2.find(\"is\"))\n",
        "print(str2.find(\"is\",5))"
      ],
      "execution_count": null,
      "outputs": [
        {
          "output_type": "stream",
          "text": [
            "2\n",
            "5\n"
          ],
          "name": "stdout"
        }
      ]
    },
    {
      "cell_type": "markdown",
      "metadata": {
        "id": "14cTLcfxrHde"
      },
      "source": [
        "##String Formatting Operators\n",
        "\n",
        "see complete doc in https://docs.python.org/3/library/stdtypes.html#printf-style-string-formatting"
      ]
    },
    {
      "cell_type": "code",
      "metadata": {
        "id": "z8m2pZj1rOAY",
        "colab": {
          "base_uri": "https://localhost:8080/",
          "height": 72
        },
        "outputId": "22b0a306-92d2-4509-c21d-bfdcbf829cb7"
      },
      "source": [
        "planet = 'Earth'\n",
        "radius = 6371\n",
        "print (\"The %s radius is %d km!\" % (planet,  radius)) \n",
        "a = 'Mars'; b = 3389.5\n",
        "print (\"The %s radius is %d km!\" % (a,  b)) \n",
        "print (\"The %s radius is %f km!\" % (a,  b)) "
      ],
      "execution_count": null,
      "outputs": [
        {
          "output_type": "stream",
          "text": [
            "The Earth radius is 6371 km!\n",
            "The Mars radius is 3389 km!\n",
            "The Mars radius is 3.389500e+03 km!\n"
          ],
          "name": "stdout"
        }
      ]
    },
    {
      "cell_type": "code",
      "metadata": {
        "id": "gzW2p0WEw-mG",
        "colab": {
          "base_uri": "https://localhost:8080/",
          "height": 35
        },
        "outputId": "723235eb-8495-4387-c0f0-acc329e26ab6"
      },
      "source": [
        "#the f-string formatter\n",
        "print(f\"The {planet} radius is {radius} km!\")"
      ],
      "execution_count": null,
      "outputs": [
        {
          "output_type": "stream",
          "text": [
            "The Earth radius is 6371 km!\n"
          ],
          "name": "stdout"
        }
      ]
    },
    {
      "cell_type": "code",
      "metadata": {
        "id": "r7nfRBv-xK7O",
        "colab": {
          "base_uri": "https://localhost:8080/",
          "height": 53
        },
        "outputId": "0dfc70ca-6d9a-4d3b-c207-90f3632f89b6"
      },
      "source": [
        "#the format() method\n",
        "print(\"The {0} radius is {1} km!\".format(planet, radius))\n",
        "print(\"The {a} radius is {b} km!\".format(a=\"Mars\", b=3389.5))"
      ],
      "execution_count": null,
      "outputs": [
        {
          "output_type": "stream",
          "text": [
            "The Earth radius is 6371 km!\n",
            "The Mars radius is 3389.5 km!\n"
          ],
          "name": "stdout"
        }
      ]
    },
    {
      "cell_type": "code",
      "metadata": {
        "id": "erMdybbyyNt0"
      },
      "source": [
        ""
      ],
      "execution_count": null,
      "outputs": []
    },
    {
      "cell_type": "markdown",
      "metadata": {
        "id": "ZxQVkgiS2gcp"
      },
      "source": [
        "#4. List"
      ]
    },
    {
      "cell_type": "code",
      "metadata": {
        "colab": {
          "base_uri": "https://localhost:8080/",
          "height": 35
        },
        "id": "ZXO5SmSd2gcq",
        "outputId": "3b60ad2a-285d-47b3-a252-6719f8b1c1ca"
      },
      "source": [
        "list1 = ['apple', 'banana', 'strawberry', 100, 100, 200, 10/3];\n",
        "list1"
      ],
      "execution_count": null,
      "outputs": [
        {
          "output_type": "execute_result",
          "data": {
            "text/plain": [
              "['apple', 'banana', 'strawberry', 100, 100, 200, 3.3333333333333335]"
            ]
          },
          "metadata": {
            "tags": []
          },
          "execution_count": 13
        }
      ]
    },
    {
      "cell_type": "markdown",
      "metadata": {
        "id": "YM-5h_yx2gcs"
      },
      "source": [
        "##Accessing elements"
      ]
    },
    {
      "cell_type": "code",
      "metadata": {
        "colab": {
          "base_uri": "https://localhost:8080/",
          "height": 72
        },
        "id": "ivjnXoYu2gcs",
        "outputId": "62744c65-8af8-46e1-e411-6aef90d0c1de"
      },
      "source": [
        "print(list1[0])\n",
        "print(list1[3:])\n",
        "print(list1[:-3])"
      ],
      "execution_count": null,
      "outputs": [
        {
          "output_type": "stream",
          "text": [
            "apple\n",
            "[100, 100, 200, 3.3333333333333335]\n",
            "['apple', 'banana', 'strawberry', 100]\n"
          ],
          "name": "stdout"
        }
      ]
    },
    {
      "cell_type": "markdown",
      "metadata": {
        "id": "kRrHnJLb-BU6"
      },
      "source": [
        "##Updating a list"
      ]
    },
    {
      "cell_type": "code",
      "metadata": {
        "id": "nVCplxxO9w0b",
        "colab": {
          "base_uri": "https://localhost:8080/",
          "height": 35
        },
        "outputId": "8fe654a0-1f50-4f83-bcc5-79080597ec97"
      },
      "source": [
        "list1[1] = 'cherry'\n",
        "list1"
      ],
      "execution_count": null,
      "outputs": [
        {
          "output_type": "execute_result",
          "data": {
            "text/plain": [
              "['apple', 'cherry', 'strawberry', 100, 100, 200, 3.3333333333333335]"
            ]
          },
          "metadata": {
            "tags": []
          },
          "execution_count": 15
        }
      ]
    },
    {
      "cell_type": "markdown",
      "metadata": {
        "id": "PCf_5vC_2gcv"
      },
      "source": [
        "##Deleting element"
      ]
    },
    {
      "cell_type": "code",
      "metadata": {
        "id": "UnotLus1AvKv",
        "colab": {
          "base_uri": "https://localhost:8080/",
          "height": 35
        },
        "outputId": "7825c8eb-bc20-4d63-d674-deb606cd7516"
      },
      "source": [
        "#delete by index\n",
        "del list1[2]\n",
        "print (\"After deleting value at index 2 : \", list1)"
      ],
      "execution_count": null,
      "outputs": [
        {
          "output_type": "stream",
          "text": [
            "After deleting value at index 2 :  ['apple', 'cherry', 100, 100, 200, 3.3333333333333335]\n"
          ],
          "name": "stdout"
        }
      ]
    },
    {
      "cell_type": "code",
      "metadata": {
        "id": "uJWr1dt3BI3I",
        "colab": {
          "base_uri": "https://localhost:8080/",
          "height": 35
        },
        "outputId": "494786d4-d68e-4a94-fc4a-20398bb58936"
      },
      "source": [
        "#delete by item\n",
        "list1.remove(100)\n",
        "print (\"After deleting value 100 : \", list1)"
      ],
      "execution_count": null,
      "outputs": [
        {
          "output_type": "stream",
          "text": [
            "After deleting value 100 :  ['apple', 'cherry', 100, 200, 3.3333333333333335]\n"
          ],
          "name": "stdout"
        }
      ]
    },
    {
      "cell_type": "markdown",
      "metadata": {
        "id": "cdxmd4-dA5LD"
      },
      "source": [
        "##Appending list"
      ]
    },
    {
      "cell_type": "code",
      "metadata": {
        "id": "5Y2ydDG7I752",
        "colab": {
          "base_uri": "https://localhost:8080/",
          "height": 72
        },
        "outputId": "407ecb74-baba-4ab9-bd17-d2b32720fe33"
      },
      "source": [
        "#Appends object obj to list\n",
        "list1.append(\"tomato\")\n",
        "print (\"After append  : \", list1)\n",
        "\n",
        "#Appends the contents of seq to list\n",
        "list2 = ['red', 'green', 'blue']\n",
        "list1.extend(list2)\n",
        "print (\"After appends : \", list1)\n",
        "\n",
        "#Appends list object to list\n",
        "list1.append(list2)\n",
        "print (\"After appends : \", list1)\n",
        "\n"
      ],
      "execution_count": null,
      "outputs": [
        {
          "output_type": "stream",
          "text": [
            "After append  :  ['apple', 'cherry', 100, 200, 3.3333333333333335, 'tomato']\n",
            "After appends :  ['apple', 'cherry', 100, 200, 3.3333333333333335, 'tomato', 'red', 'green', 'blue']\n",
            "After appends :  ['apple', 'cherry', 100, 200, 3.3333333333333335, 'tomato', 'red', 'green', 'blue', ['red', 'green', 'blue']]\n"
          ],
          "name": "stdout"
        }
      ]
    },
    {
      "cell_type": "markdown",
      "metadata": {
        "id": "ouqgzyiWKJCt"
      },
      "source": [
        "#5. Tuple"
      ]
    },
    {
      "cell_type": "code",
      "metadata": {
        "id": "Kzk__-7tKKN7",
        "colab": {
          "base_uri": "https://localhost:8080/",
          "height": 53
        },
        "outputId": "1668ec39-4f1b-40be-a6ab-478bfe09b109"
      },
      "source": [
        "seq1 = []\n",
        "seq2 = ()\n",
        "\n",
        "print(\"Type of seq1 is %s\" \\\n",
        "      \"\\nType of seq2 is %s\" % (type(seq1),type(seq2)))"
      ],
      "execution_count": null,
      "outputs": [
        {
          "output_type": "stream",
          "text": [
            "Type of seq1 is <class 'list'>\n",
            "Type of seq2 is <class 'tuple'>\n"
          ],
          "name": "stdout"
        }
      ]
    },
    {
      "cell_type": "code",
      "metadata": {
        "id": "AOWfPcKELxIJ",
        "colab": {
          "base_uri": "https://localhost:8080/",
          "height": 35
        },
        "outputId": "4ed26df7-73ea-4c8e-b3b0-44c1a4206d74"
      },
      "source": [
        "tup1 = 'sun', 'mon', 'tue', 1, 2/7, ['a','b']\n",
        "tup1"
      ],
      "execution_count": null,
      "outputs": [
        {
          "output_type": "execute_result",
          "data": {
            "text/plain": [
              "('sun', 'mon', 'tue', 1, 0.2857142857142857, ['a', 'b'])"
            ]
          },
          "metadata": {
            "tags": []
          },
          "execution_count": 24
        }
      ]
    },
    {
      "cell_type": "markdown",
      "metadata": {
        "id": "xorFXLTLMTGo"
      },
      "source": [
        "##Accessing tuple elements"
      ]
    },
    {
      "cell_type": "code",
      "metadata": {
        "id": "7xZBZb3pME1G",
        "colab": {
          "base_uri": "https://localhost:8080/",
          "height": 72
        },
        "outputId": "e50d5a44-34c5-458f-a825-de779625b428"
      },
      "source": [
        "print(tup1[0])\n",
        "print(tup1[3:])\n",
        "print(tup1[:-3])"
      ],
      "execution_count": null,
      "outputs": [
        {
          "output_type": "stream",
          "text": [
            "sun\n",
            "(1, 0.2857142857142857, ['a', 'b'])\n",
            "('sun', 'mon', 'tue')\n"
          ],
          "name": "stdout"
        }
      ]
    },
    {
      "cell_type": "markdown",
      "metadata": {
        "id": "gKk6pBDTMhGt"
      },
      "source": [
        "##Updating tuple"
      ]
    },
    {
      "cell_type": "code",
      "metadata": {
        "id": "xdaa3J98Mj-N",
        "colab": {
          "base_uri": "https://localhost:8080/",
          "height": 35
        },
        "outputId": "cb5d6eaa-1a84-444b-a1e2-7eb812580525"
      },
      "source": [
        "#Tuple is immutable, updating is not possible\n",
        "#tup1[1] = 'sat'\n",
        "print(tup1)\n"
      ],
      "execution_count": null,
      "outputs": [
        {
          "output_type": "stream",
          "text": [
            "('sun', 'mon', 'tue', 1, 0.2857142857142857, ['a', 'b'])\n"
          ],
          "name": "stdout"
        }
      ]
    },
    {
      "cell_type": "markdown",
      "metadata": {
        "id": "zdYSrqdXNjJY"
      },
      "source": [
        "##Tuple operations"
      ]
    },
    {
      "cell_type": "code",
      "metadata": {
        "id": "ku66xTrvNnFl",
        "colab": {
          "base_uri": "https://localhost:8080/",
          "height": 108
        },
        "outputId": "7b91bab1-6adf-4e1f-cf48-3bbb58d52e2e"
      },
      "source": [
        "#concatenation\n",
        "print(tup1 + (1,2,3))\n",
        "\n",
        "#multiplication\n",
        "print(tup1 * 2)\n",
        "\n",
        "#len\n",
        "print(len(tup1))\n",
        "\n",
        "#check containment\n",
        "print(1 in tup1)\n",
        "print(1 not in tup1)"
      ],
      "execution_count": null,
      "outputs": [
        {
          "output_type": "stream",
          "text": [
            "('sun', 'mon', 'tue', 1, 0.2857142857142857, ['a', 'b'], 1, 2, 3)\n",
            "('sun', 'mon', 'tue', 1, 0.2857142857142857, ['a', 'b'], 'sun', 'mon', 'tue', 1, 0.2857142857142857, ['a', 'b'])\n",
            "6\n",
            "True\n",
            "False\n"
          ],
          "name": "stdout"
        }
      ]
    },
    {
      "cell_type": "code",
      "metadata": {
        "id": "IiYiYD-JOjBc"
      },
      "source": [
        ""
      ],
      "execution_count": null,
      "outputs": []
    },
    {
      "cell_type": "markdown",
      "metadata": {
        "id": "w8v0wzbLKCCK"
      },
      "source": [
        "#6. Conditional Statement\n",
        "##Truth value testing"
      ]
    },
    {
      "cell_type": "code",
      "metadata": {
        "id": "e_ghWLJ4IUq1",
        "colab": {
          "base_uri": "https://localhost:8080/",
          "height": 108
        },
        "outputId": "d287a826-8349-4270-eb33-70c274e3b408"
      },
      "source": [
        "#python consider Null, empty sequences, and 0 as False and other as True\n",
        "\n",
        "print(\"Nonzero number = {0}, zero number = {1}\".format(bool(1), bool(0)))\n",
        "print(\"String with value = {0}, empty string = {1}\".format(bool('some string'), bool('')))\n",
        "list1 = []; list2 = [1,2]\n",
        "print(\"List with value = {0}, empty list = {1}\".format(bool(list2), bool(list1)))\n",
        "tuple1 =(); tuple2 = 1,2,3\n",
        "print(\"Tuple with value = {0}, empty tuple = {1}\".format(bool(tuple2), bool(tuple1)))\n",
        "print(\"Null value = {0}\".format(bool(None)))\n",
        "\n"
      ],
      "execution_count": null,
      "outputs": [
        {
          "output_type": "stream",
          "text": [
            "Nonzero number = True, zero number = False\n",
            "String with value = True, empty string = False\n",
            "List with value = True, empty list = False\n",
            "Tuple with value = True, empty tuple = False\n",
            "Null value = False\n"
          ],
          "name": "stdout"
        }
      ]
    },
    {
      "cell_type": "markdown",
      "metadata": {
        "id": "B76hCJaNQ2J_"
      },
      "source": [
        "##Testing operators"
      ]
    },
    {
      "cell_type": "code",
      "metadata": {
        "id": "d_5qiaUBMd3z"
      },
      "source": [
        "print()"
      ],
      "execution_count": null,
      "outputs": []
    },
    {
      "cell_type": "markdown",
      "metadata": {
        "id": "B3XLKO2NevQa"
      },
      "source": [
        "##Combining logic statement"
      ]
    },
    {
      "cell_type": "code",
      "metadata": {
        "id": "MKDK3kgley27",
        "colab": {
          "base_uri": "https://localhost:8080/",
          "height": 108
        },
        "outputId": "de8bee91-0317-4539-b151-8a79a7b10de2"
      },
      "source": [
        "stat1 = True\n",
        "stat2 = False\n",
        "stat3 = 247\n",
        "stat4 = []\n",
        "\n",
        "print(\"[1,2,3] != [3,2,1] = {0}\".format([1,2,3] != [3,2,1]))\n",
        "#print(\"{1,2,3\\} != \\{3,2,1\\} = {0}\".format({1,2,3} != {3,2,1}))\n",
        "print(\"True and False = {0}\".format(stat1 and stat2))\n",
        "print(\"True and 247 = {0}\".format(stat3 and stat1))\n",
        "print(\"True and empty list = {0}\".format(stat4 and stat1))\n",
        "\n",
        "print(100 and True and 200)"
      ],
      "execution_count": null,
      "outputs": [
        {
          "output_type": "stream",
          "text": [
            "[1,2,3] != [3,2,1] = True\n",
            "True and False = False\n",
            "True and 247 = True\n",
            "True and empty list = []\n",
            "200\n"
          ],
          "name": "stdout"
        }
      ]
    },
    {
      "cell_type": "markdown",
      "metadata": {
        "id": "4WtPKrzklDY9"
      },
      "source": [
        "##Simple `if` statement"
      ]
    },
    {
      "cell_type": "code",
      "metadata": {
        "id": "aoJWlyHglGBs",
        "colab": {
          "base_uri": "https://localhost:8080/",
          "height": 35
        },
        "outputId": "a7f54675-b476-4027-cbca-6cd62691a81a"
      },
      "source": [
        "statement = True\n",
        "if statement:\n",
        "    print('statement is True')\n",
        "    \n",
        "if not statement:\n",
        "    print('statement is not True')"
      ],
      "execution_count": null,
      "outputs": [
        {
          "output_type": "stream",
          "text": [
            "statement is True\n"
          ],
          "name": "stdout"
        }
      ]
    },
    {
      "cell_type": "code",
      "metadata": {
        "id": "3rOV3QUez_DC",
        "colab": {
          "base_uri": "https://localhost:8080/",
          "height": 35
        },
        "outputId": "dbcb5af3-0bf8-4b21-ff40-b59f692c19ff"
      },
      "source": [
        "empty_list = []\n",
        "if empty_list:\n",
        "    print('empty list is considered True')\n",
        "    \n",
        "if not empty_list:\n",
        "    print('empty list is considered False')"
      ],
      "execution_count": null,
      "outputs": [
        {
          "output_type": "stream",
          "text": [
            "empty list is considered False\n"
          ],
          "name": "stdout"
        }
      ]
    },
    {
      "cell_type": "markdown",
      "metadata": {
        "id": "pXPi49MilGgT"
      },
      "source": [
        "##`if-else` statement"
      ]
    },
    {
      "cell_type": "code",
      "metadata": {
        "id": "AQJyfpoIlJV0",
        "colab": {
          "base_uri": "https://localhost:8080/",
          "height": 35
        },
        "outputId": "57cf1c89-27f2-49dc-b56a-e21fb3dfc6d5"
      },
      "source": [
        "statement = True\n",
        "if statement:\n",
        "    print('statement is True')\n",
        "else:\n",
        "    print('statement is not True')"
      ],
      "execution_count": null,
      "outputs": [
        {
          "output_type": "stream",
          "text": [
            "statement is True\n"
          ],
          "name": "stdout"
        }
      ]
    },
    {
      "cell_type": "code",
      "metadata": {
        "id": "PKA1OnrQz93y",
        "colab": {
          "base_uri": "https://localhost:8080/",
          "height": 35
        },
        "outputId": "27192934-3c1e-455a-cf64-ca0af70745db"
      },
      "source": [
        "zero_num = 0\n",
        "if zero_num:\n",
        "    print('zero is considered True')\n",
        "else:\n",
        "    print('zero is considered False')"
      ],
      "execution_count": null,
      "outputs": [
        {
          "output_type": "stream",
          "text": [
            "zero is considered False\n"
          ],
          "name": "stdout"
        }
      ]
    },
    {
      "cell_type": "code",
      "metadata": {
        "id": "NqNOXIZPz9wD"
      },
      "source": [
        ""
      ],
      "execution_count": null,
      "outputs": []
    },
    {
      "cell_type": "markdown",
      "metadata": {
        "id": "b2UzZkdSlKII"
      },
      "source": [
        "##nested `if` statement"
      ]
    },
    {
      "cell_type": "code",
      "metadata": {
        "id": "Y3u08mlqlPMk",
        "colab": {
          "base_uri": "https://localhost:8080/",
          "height": 72
        },
        "outputId": "be3dc31d-a4cc-475d-a846-566048b87491"
      },
      "source": [
        "mynum = 6\n",
        "if mynum <= 10:\n",
        "  print(\"Less than or equal to 10\")\n",
        "  if mynum != 5:\n",
        "    if mynum < 5:\n",
        "      print(\"Less than 5\")\n",
        "    else:\n",
        "      print(\"It's either 6, 7, 8, 9 or 10\")\n",
        "  else:\n",
        "    print(\"5\")\n",
        "else:\n",
        "  print(\"Greater than 10\")\n",
        "  if (mynum <= 1000):\n",
        "    print(\"Less than 1000\")\n",
        "  else:\n",
        "    print(\"Pretty big number\")\n",
        "\n",
        "print(\"print anyway\")"
      ],
      "execution_count": null,
      "outputs": [
        {
          "output_type": "stream",
          "text": [
            "Less than or equal to 10\n",
            "It's either 6, 7, 8, 9 or 10\n",
            "print anyway\n"
          ],
          "name": "stdout"
        }
      ]
    },
    {
      "cell_type": "markdown",
      "metadata": {
        "id": "tXSSbwemlPxD"
      },
      "source": [
        "##`elif` statement"
      ]
    },
    {
      "cell_type": "code",
      "metadata": {
        "id": "_3nIi6h_lTF5",
        "colab": {
          "base_uri": "https://localhost:8080/",
          "height": 35
        },
        "outputId": "4e5f9006-044b-492d-9da8-4ae9d24bdd6c"
      },
      "source": [
        "mynum = 60\n",
        "if mynum <= 5:\n",
        "  print(\"Less than or equal to 5\")\n",
        "elif mynum <= 10:\n",
        "  print(\"It's either 6, 7, 8, 9 or 10\")\n",
        "elif mynum <= 100:\n",
        "  print(\"Between 11 and 1000\")\n",
        "else:\n",
        "  print(\"Pretty big number\")\n"
      ],
      "execution_count": null,
      "outputs": [
        {
          "output_type": "stream",
          "text": [
            "Between 11 and 1000\n"
          ],
          "name": "stdout"
        }
      ]
    },
    {
      "cell_type": "markdown",
      "metadata": {
        "id": "GwgDYwJaSqgB"
      },
      "source": [
        "#7. Looping and Iteration\n",
        "##`while` loop"
      ]
    },
    {
      "cell_type": "code",
      "metadata": {
        "id": "kIfyUPPySstj",
        "colab": {
          "base_uri": "https://localhost:8080/",
          "height": 217
        },
        "outputId": "78fb51c5-db2a-4459-a657-d9e77aaf1916"
      },
      "source": [
        "a = 0\n",
        "while a <= 10:\n",
        "  print(\"current a : %d\" % a)\n",
        "  a = a + 1"
      ],
      "execution_count": null,
      "outputs": [
        {
          "output_type": "stream",
          "text": [
            "current a : 0\n",
            "current a : 1\n",
            "current a : 2\n",
            "current a : 3\n",
            "current a : 4\n",
            "current a : 5\n",
            "current a : 6\n",
            "current a : 7\n",
            "current a : 8\n",
            "current a : 9\n",
            "current a : 10\n"
          ],
          "name": "stdout"
        }
      ]
    },
    {
      "cell_type": "markdown",
      "metadata": {
        "id": "7ecKUm6jStP5"
      },
      "source": [
        "##`for` loop"
      ]
    },
    {
      "cell_type": "code",
      "metadata": {
        "id": "5r2hpqGhSyhZ",
        "colab": {
          "base_uri": "https://localhost:8080/",
          "height": 108
        },
        "outputId": "22f68ea2-cef7-4da4-9b13-a9ff24173f6a"
      },
      "source": [
        "my_fruit = ['apple', 'banana', 'strawberry', 'cherry', 'grape']\n",
        "for i in my_fruit:\n",
        "  print(\"Let's eat %s!\" % i) "
      ],
      "execution_count": null,
      "outputs": [
        {
          "output_type": "stream",
          "text": [
            "Let's eat apple!\n",
            "Let's eat banana!\n",
            "Let's eat strawberry!\n",
            "Let's eat cherry!\n",
            "Let's eat grape!\n"
          ],
          "name": "stdout"
        }
      ]
    },
    {
      "cell_type": "code",
      "metadata": {
        "id": "wE84cnf4S48R"
      },
      "source": [
        ""
      ],
      "execution_count": null,
      "outputs": []
    },
    {
      "cell_type": "markdown",
      "metadata": {
        "id": "P76HWbY7S6C6"
      },
      "source": [
        "Nested loop for handling list of lists"
      ]
    },
    {
      "cell_type": "code",
      "metadata": {
        "id": "DhBcZ25oTA2h",
        "colab": {
          "base_uri": "https://localhost:8080/",
          "height": 271
        },
        "outputId": "f2d12a82-68a0-4a0a-b511-e1995a4d0720"
      },
      "source": [
        "transportations = [['plane', 'helicopter', 'hot air balloon'], \n",
        "         ['bus', 'train', 'truck', 'car'],\n",
        "         ['ship', 'boat', 'canoe', 'raft']]\n",
        "\n",
        "for i in transportations:\n",
        "  print('these are belong in the same group:')\n",
        "  for y in i:\n",
        "    print('\\t- %s' % y)"
      ],
      "execution_count": null,
      "outputs": [
        {
          "output_type": "stream",
          "text": [
            "these are belong in the same group:\n",
            "\t- plane\n",
            "\t- helicopter\n",
            "\t- hot air balloon\n",
            "these are belong in the same group:\n",
            "\t- bus\n",
            "\t- train\n",
            "\t- truck\n",
            "\t- car\n",
            "these are belong in the same group:\n",
            "\t- ship\n",
            "\t- boat\n",
            "\t- canoe\n",
            "\t- raft\n"
          ],
          "name": "stdout"
        }
      ]
    },
    {
      "cell_type": "code",
      "metadata": {
        "id": "P1cBRyg-2xd_"
      },
      "source": [
        ""
      ],
      "execution_count": null,
      "outputs": []
    },
    {
      "cell_type": "markdown",
      "metadata": {
        "id": "g60kptSf2x-f"
      },
      "source": [
        "##Truth value testing"
      ]
    },
    {
      "cell_type": "code",
      "metadata": {
        "colab": {
          "base_uri": "https://localhost:8080/",
          "height": 108
        },
        "id": "IzlFbkw12x-g",
        "outputId": "768e4fdd-fca9-4419-8949-c3df043d68bd"
      },
      "source": [
        "#python consider Null, empty sequence and 0 as False and other as True\n",
        "\n",
        "print(\"Nonzero number = {0}, zero number = {1}\".format(bool(1), bool(0)))\n",
        "print(\"String with value = {0}, empty string = {1}\".format(bool('some string'), bool('')))\n",
        "list1 = []; list2 = [1,2]\n",
        "print(\"List with value = {0}, empty list = {1}\".format(bool(list2), bool(list1)))\n",
        "tuple1 =(); tuple2 = 1,2,3\n",
        "print(\"Tuple with value = {0}, empty tuple = {1}\".format(bool(tuple2), bool(tuple1)))\n",
        "print(\"Null value = {0}\".format(bool(None)))\n",
        "\n"
      ],
      "execution_count": null,
      "outputs": [
        {
          "output_type": "stream",
          "text": [
            "Nonzero number = True, zero number = False\n",
            "String with value = True, empty string = False\n",
            "List with value = True, empty list = False\n",
            "Tuple with value = True, empty tuple = False\n",
            "Null value = False\n"
          ],
          "name": "stdout"
        }
      ]
    },
    {
      "cell_type": "markdown",
      "metadata": {
        "id": "OFt36ocZ2x-i"
      },
      "source": [
        "##Testing operators"
      ]
    },
    {
      "cell_type": "code",
      "metadata": {
        "id": "uHEF4KPl2x-j"
      },
      "source": [
        "print()"
      ],
      "execution_count": null,
      "outputs": []
    },
    {
      "cell_type": "code",
      "metadata": {
        "id": "jTnHkSbh2zE7"
      },
      "source": [
        ""
      ],
      "execution_count": null,
      "outputs": []
    },
    {
      "cell_type": "markdown",
      "metadata": {
        "id": "12U731Cn2-E4"
      },
      "source": [
        "#8. Function\n",
        "##Simple Function"
      ]
    },
    {
      "cell_type": "code",
      "metadata": {
        "id": "qjecDnUODm3k",
        "colab": {
          "base_uri": "https://localhost:8080/",
          "height": 35
        },
        "outputId": "bf8855e7-96bf-4659-d4c6-4828823325ec"
      },
      "source": [
        "#simple function\n",
        "def hello_world():\n",
        "  print(\"Hello World!\")\n",
        "\n",
        "#call the function\n",
        "hello_world()"
      ],
      "execution_count": null,
      "outputs": [
        {
          "output_type": "stream",
          "text": [
            "Hello World!\n"
          ],
          "name": "stdout"
        }
      ]
    },
    {
      "cell_type": "code",
      "metadata": {
        "id": "2msf7rrj4vnN",
        "colab": {
          "base_uri": "https://localhost:8080/",
          "height": 53
        },
        "outputId": "8ca703d3-a93e-4248-fc98-d15e5538015c"
      },
      "source": [
        "#function with 1 parameter\n",
        "def hello(name):\n",
        "  \"\"\"This function prints out greeting. \n",
        "  It received 1 parameter\"\"\"\n",
        "  print(\"Hello %s!\" % name)\n",
        "\n",
        "#call the function\n",
        "hello(\"World\")\n",
        "hello(\"there\")"
      ],
      "execution_count": null,
      "outputs": [
        {
          "output_type": "stream",
          "text": [
            "Hello World!\n",
            "Hello there!\n"
          ],
          "name": "stdout"
        }
      ]
    },
    {
      "cell_type": "code",
      "metadata": {
        "id": "0Xd9mpw3CSN6",
        "colab": {
          "base_uri": "https://localhost:8080/",
          "height": 53
        },
        "outputId": "d17e89bb-e20d-4546-a372-f57584fdc8f6"
      },
      "source": [
        "#function return value\n",
        "def plus(num1, num2):\n",
        "  result = num1 + num2\n",
        "  print(\"{0} + {1} = {2}\".format(num1,num2,result))\n",
        "  return result\n",
        "\n",
        "#call the function\n",
        "plus(10,3)"
      ],
      "execution_count": null,
      "outputs": [
        {
          "output_type": "stream",
          "text": [
            "10 + 3 = 13\n"
          ],
          "name": "stdout"
        },
        {
          "output_type": "execute_result",
          "data": {
            "text/plain": [
              "13"
            ]
          },
          "metadata": {
            "tags": []
          },
          "execution_count": 6
        }
      ]
    },
    {
      "cell_type": "code",
      "metadata": {
        "id": "53Hb9F9aDVpX",
        "colab": {
          "base_uri": "https://localhost:8080/"
        },
        "outputId": "af9cbced-c87d-4928-e9d9-9a183cb6a066"
      },
      "source": [
        "#lambda function\r\n",
        "def adds(a,b): \r\n",
        "    return a+b\r\n",
        "\r\n",
        "lambda_adds = lambda a,b: a+b\r\n",
        "\r\n",
        "print(adds(4,5)) # using def function\r\n",
        "print(lambda_adds(4,5)) # using lambda function\r\n",
        "print((lambda a,b: a+b)(4,5)) # using anonymous lambda function\r\n",
        "\r\n"
      ],
      "execution_count": null,
      "outputs": [
        {
          "output_type": "stream",
          "text": [
            "9\n",
            "9\n",
            "9\n"
          ],
          "name": "stdout"
        }
      ]
    },
    {
      "cell_type": "markdown",
      "metadata": {
        "id": "SP5_HgSB3Kt5"
      },
      "source": [
        "#9. File Handling"
      ]
    },
    {
      "cell_type": "code",
      "metadata": {
        "colab": {
          "base_uri": "https://localhost:8080/"
        },
        "id": "tZgUyu2h3k53",
        "outputId": "6a0d2ca8-8c4d-415b-ffbe-503dad305bc2"
      },
      "source": [
        "import os\n",
        "os.getcwd()\n",
        "os.listdir('sample_data')"
      ],
      "execution_count": null,
      "outputs": [
        {
          "output_type": "execute_result",
          "data": {
            "text/plain": [
              "['README.md',\n",
              " 'anscombe.json',\n",
              " 'california_housing_test.csv',\n",
              " 'mnist_train_small.csv',\n",
              " 'california_housing_train.csv',\n",
              " 'mnist_test.csv']"
            ]
          },
          "metadata": {
            "tags": []
          },
          "execution_count": 42
        }
      ]
    },
    {
      "cell_type": "code",
      "metadata": {
        "colab": {
          "base_uri": "https://localhost:8080/"
        },
        "id": "xHgeZUTK3k55",
        "outputId": "9bf8fe03-13ff-4987-b01d-3d00511cdd21"
      },
      "source": [
        "my_file = open('sample_data/README.md')\n",
        "my_file"
      ],
      "execution_count": null,
      "outputs": [
        {
          "output_type": "execute_result",
          "data": {
            "text/plain": [
              "<_io.TextIOWrapper name='sample_data/README.md' mode='r' encoding='UTF-8'>"
            ]
          },
          "metadata": {
            "tags": []
          },
          "execution_count": 43
        }
      ]
    },
    {
      "cell_type": "code",
      "metadata": {
        "colab": {
          "base_uri": "https://localhost:8080/"
        },
        "id": "tapCVwaz3k56",
        "outputId": "52521a99-a9a2-4ee8-a168-2aea3826e123"
      },
      "source": [
        "try:\n",
        "  my_file=open('sample_data/README.md')\n",
        "finally:\n",
        "  my_file.close()\n",
        "  print(\"close\")"
      ],
      "execution_count": null,
      "outputs": [
        {
          "output_type": "stream",
          "text": [
            "close\n"
          ],
          "name": "stdout"
        }
      ]
    },
    {
      "cell_type": "code",
      "metadata": {
        "id": "oxKZiiA_Ybdf",
        "colab": {
          "base_uri": "https://localhost:8080/",
          "height": 471
        },
        "outputId": "3e980352-1e3f-4228-d2cb-3bb0bfb4d4aa"
      },
      "source": [
        "with open('sample_data/README.md') as my_file:  #use 'with' statement to make sure file handle closed after finish\n",
        "  print(my_file.read(30)) #read 30 bytes from the last position\n",
        "  print(my_file.tell()) #show position in file\n",
        "  print(my_file.seek(30)) #go to position 30 \n",
        "  print(my_file.read(35)) #read 35 bytes from the last position\n",
        "  print(my_file.tell())\n",
        "\n",
        "  print(my_file.readline()) #read a line (read until finding newline)\n",
        "\n",
        "  #my_file.seek(0) #go to the beginning of the file\n",
        "  lines = my_file.readlines()\n",
        "  for line in lines:\n",
        "    print(line, end='')"
      ],
      "execution_count": null,
      "outputs": [
        {
          "output_type": "stream",
          "text": [
            "This directory includes a few \n",
            "30\n",
            "30\n",
            "sample datasets to get you started.\n",
            "65\n",
            "\n",
            "\n",
            "\n",
            "*   `california_housing_data*.csv` is California housing data from the 1990 US\n",
            "    Census; more information is available at:\n",
            "    https://developers.google.com/machine-learning/crash-course/california-housing-data-description\n",
            "\n",
            "*   `mnist_*.csv` is a small sample of the\n",
            "    [MNIST database](https://en.wikipedia.org/wiki/MNIST_database), which is\n",
            "    described at: http://yann.lecun.com/exdb/mnist/\n",
            "\n",
            "*   `anscombe.json` contains a copy of\n",
            "    [Anscombe's quartet](https://en.wikipedia.org/wiki/Anscombe%27s_quartet); it\n",
            "    was originally described in\n",
            "\n",
            "    Anscombe, F. J. (1973). 'Graphs in Statistical Analysis'. American\n",
            "    Statistician. 27 (1): 17-21. JSTOR 2682899.\n",
            "\n",
            "    and our copy was prepared by the\n",
            "    [vega_datasets library](https://github.com/altair-viz/vega_datasets/blob/4f67bdaad10f45e3549984e17e1b3088c731503d/vega_datasets/_data/anscombe.json).\n"
          ],
          "name": "stdout"
        }
      ]
    }
  ]
}