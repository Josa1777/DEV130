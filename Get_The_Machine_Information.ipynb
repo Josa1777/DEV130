{
  "nbformat": 4,
  "nbformat_minor": 0,
  "metadata": {
    "colab": {
      "name": "Get The Machine Information.ipynb",
      "provenance": []
    },
    "kernelspec": {
      "name": "python3",
      "display_name": "Python 3"
    },
    "language_info": {
      "name": "python"
    }
  },
  "cells": [
    {
      "cell_type": "markdown",
      "metadata": {
        "id": "WdENJPfj497v"
      },
      "source": [
        "## OS Information"
      ]
    },
    {
      "cell_type": "markdown",
      "metadata": {
        "id": "qSayGhKb5o8M"
      },
      "source": [
        "Perintah **lsb_release** menampilkan LSB (Linux Standard Base) tertentu dan informasi khusus distribusi"
      ]
    },
    {
      "cell_type": "code",
      "metadata": {
        "id": "EpUezZVfDUi_"
      },
      "source": [
        "! lsb_release -a"
      ],
      "execution_count": null,
      "outputs": []
    },
    {
      "cell_type": "markdown",
      "metadata": {
        "id": "LxafUd9p5_BL"
      },
      "source": [
        "Untuk memperoleh informasi kernel yang digunakan"
      ]
    },
    {
      "cell_type": "code",
      "metadata": {
        "id": "QDyY4T8qDkgp"
      },
      "source": [
        "! uname -mrs"
      ],
      "execution_count": null,
      "outputs": []
    },
    {
      "cell_type": "markdown",
      "metadata": {
        "id": "9_uVY78Q7bnc"
      },
      "source": [
        "Untuk memperoleh informasi lengkap (tidak berjalan pada google colab)"
      ]
    },
    {
      "cell_type": "code",
      "metadata": {
        "id": "wZz-9qmbDbvv"
      },
      "source": [
        "! hostnamectl"
      ],
      "execution_count": null,
      "outputs": []
    },
    {
      "cell_type": "markdown",
      "metadata": {
        "id": "0jWwK5ti74pf"
      },
      "source": [
        "Untuk memperoleh informasi sistem operasi yang digunakan"
      ]
    },
    {
      "cell_type": "code",
      "metadata": {
        "id": "eqGxeIQKDOZ8"
      },
      "source": [
        "! cat /etc/os-release"
      ],
      "execution_count": null,
      "outputs": []
    },
    {
      "cell_type": "markdown",
      "metadata": {
        "id": "SlyWFBaf8ZUP"
      },
      "source": [
        "## Hardware Information"
      ]
    },
    {
      "cell_type": "markdown",
      "metadata": {
        "id": "oHjCTE9z8hI9"
      },
      "source": [
        "Untuk mengetahui jumlah prosesor (CPU Core) yang digunakan"
      ]
    },
    {
      "cell_type": "code",
      "metadata": {
        "id": "ubHOesn88eDm"
      },
      "source": [
        "! nproc"
      ],
      "execution_count": null,
      "outputs": []
    },
    {
      "cell_type": "markdown",
      "metadata": {
        "id": "bsg9Mvmu8wcy"
      },
      "source": [
        "Menampilkan informasi memory, dapat menggunakan perintah **free -h**"
      ]
    },
    {
      "cell_type": "code",
      "metadata": {
        "id": "hsrzHJXO8sPU"
      },
      "source": [
        ""
      ],
      "execution_count": null,
      "outputs": []
    },
    {
      "cell_type": "markdown",
      "metadata": {
        "id": "8-SZADaK9EmX"
      },
      "source": [
        "Perintah **lscpu** digunakan untuk menampilkan informasi detail mengenai prosesor yang digunakan"
      ]
    },
    {
      "cell_type": "code",
      "metadata": {
        "id": "DUnEscEm8-kB"
      },
      "source": [
        ""
      ],
      "execution_count": null,
      "outputs": []
    },
    {
      "cell_type": "markdown",
      "metadata": {
        "id": "Rrtj7Q_V9tbM"
      },
      "source": [
        "## IP Address and Hostname"
      ]
    },
    {
      "cell_type": "markdown",
      "metadata": {
        "id": "QqaVQcCm-RjH"
      },
      "source": [
        "Untuk menampilkan alamat ip yang digunakan, menggunakan perintah **ip addr**"
      ]
    },
    {
      "cell_type": "code",
      "metadata": {
        "id": "CyGdd1k_-NzZ"
      },
      "source": [
        "! ip addr"
      ],
      "execution_count": null,
      "outputs": []
    },
    {
      "cell_type": "markdown",
      "metadata": {
        "id": "HboTkaGb-pwe"
      },
      "source": [
        "Perintah **hostname** digunakan untuk menampilkan nama server"
      ]
    },
    {
      "cell_type": "code",
      "metadata": {
        "id": "wr2lQ_af-kD5"
      },
      "source": [
        ""
      ],
      "execution_count": null,
      "outputs": []
    },
    {
      "cell_type": "code",
      "metadata": {
        "id": "-ETr65AL_Gs7"
      },
      "source": [
        "! uname -n"
      ],
      "execution_count": null,
      "outputs": []
    },
    {
      "cell_type": "markdown",
      "metadata": {
        "id": "iRl8BrqF_OtQ"
      },
      "source": [
        "## Disk Information"
      ]
    },
    {
      "cell_type": "markdown",
      "metadata": {
        "id": "FXE9RnyT_RfM"
      },
      "source": [
        "Perintah **df** digunakan untuk menampilkan informasi kapasitas disk"
      ]
    },
    {
      "cell_type": "code",
      "metadata": {
        "id": "XGv2klfND2NE"
      },
      "source": [
        "! df"
      ],
      "execution_count": null,
      "outputs": []
    },
    {
      "cell_type": "markdown",
      "metadata": {
        "id": "Iml7Bigf_2xm"
      },
      "source": [
        "Opsi -h digunakan untuk menampilkan satuan dari kapasitas menjadi lebih mudah dimengerti"
      ]
    },
    {
      "cell_type": "code",
      "metadata": {
        "id": "gFmh9tt7D51o"
      },
      "source": [
        "! df -h"
      ],
      "execution_count": null,
      "outputs": []
    },
    {
      "cell_type": "markdown",
      "metadata": {
        "id": "yhkbO8LmACw5"
      },
      "source": [
        "Untuk menampilkan informasi kapasitas disk pada folder tertentu"
      ]
    },
    {
      "cell_type": "code",
      "metadata": {
        "id": "NKfp7OnTD_E2"
      },
      "source": [
        "! df -hT /content"
      ],
      "execution_count": null,
      "outputs": []
    },
    {
      "cell_type": "code",
      "metadata": {
        "id": "p9YArkURECg8"
      },
      "source": [
        "! du /content"
      ],
      "execution_count": null,
      "outputs": []
    },
    {
      "cell_type": "markdown",
      "metadata": {
        "id": "APvfY1ZHAO9P"
      },
      "source": [
        "## Disk Usage"
      ]
    },
    {
      "cell_type": "markdown",
      "metadata": {
        "id": "_OOz1p0AAatm"
      },
      "source": [
        "Untuk mengetahui ringkasan penggunaan disk pada direktori dan masing-masing subdirektorinya"
      ]
    },
    {
      "cell_type": "code",
      "metadata": {
        "id": "APdG34OmEP9C"
      },
      "source": [
        "! du -h /content"
      ],
      "execution_count": null,
      "outputs": []
    },
    {
      "cell_type": "markdown",
      "metadata": {
        "id": "5XTIt3uJArsB"
      },
      "source": [
        "Untuk mendapatkan penggunaan disk total dari suatu folder, gunakan opsi **-s**"
      ]
    },
    {
      "cell_type": "code",
      "metadata": {
        "id": "F17j-pxSEUn3"
      },
      "source": [
        "! du -sh /content"
      ],
      "execution_count": null,
      "outputs": []
    },
    {
      "cell_type": "code",
      "metadata": {
        "id": "cqgpBpKfEZSh"
      },
      "source": [
        "! du -sh /content/sample_data/"
      ],
      "execution_count": null,
      "outputs": []
    },
    {
      "cell_type": "code",
      "metadata": {
        "id": "w7e_jFoKEexa"
      },
      "source": [
        "! du -ch /content"
      ],
      "execution_count": null,
      "outputs": []
    },
    {
      "cell_type": "markdown",
      "metadata": {
        "id": "ZJ__3w62A983"
      },
      "source": [
        "Untuk menampilkan informasi penggunaan disk sampai level tertentu dapat menggunakan opsi **-d**"
      ]
    },
    {
      "cell_type": "code",
      "metadata": {
        "id": "Cs51IefwEi1u"
      },
      "source": [
        "! du -h -d 1 /content"
      ],
      "execution_count": null,
      "outputs": []
    }
  ]
}