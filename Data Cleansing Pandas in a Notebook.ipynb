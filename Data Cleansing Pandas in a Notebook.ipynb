{
  "nbformat": 4,
  "nbformat_minor": 0,
  "metadata": {
    "colab": {
      "name": "Data Cleansing - Pandas in a Notebook - 1.2109.1901.ipynb",
      "provenance": [],
      "collapsed_sections": [
        "ZFzBj6aT_hoS",
        "Plt9i9KXOrWH",
        "RXH29j9__vC3",
        "1EFs0huZawxP",
        "bslaYOoCCuhe"
      ]
    },
    "kernelspec": {
      "name": "python3",
      "display_name": "Python 3"
    },
    "language_info": {
      "name": "python"
    }
  },
  "cells": [
    {
      "cell_type": "markdown",
      "metadata": {
        "id": "ZFzBj6aT_hoS"
      },
      "source": [
        "#Data Cleansing - Pandas in a Notebook"
      ]
    },
    {
      "cell_type": "code",
      "metadata": {
        "id": "k7FC9JkJAoC3"
      },
      "source": [
        "#Release: 1.2109.1901"
      ],
      "execution_count": null,
      "outputs": []
    },
    {
      "cell_type": "code",
      "metadata": {
        "id": "L2X_GI91OcDz"
      },
      "source": [
        "import pandas as pd\n",
        "import numpy as np"
      ],
      "execution_count": null,
      "outputs": []
    },
    {
      "cell_type": "markdown",
      "metadata": {
        "id": "Plt9i9KXOrWH"
      },
      "source": [
        "# Create Dataframe"
      ]
    },
    {
      "cell_type": "code",
      "metadata": {
        "id": "KOjeB2c6ONvB"
      },
      "source": [
        "#Dataframe from dictionary\n",
        "f = {'name':[\"apples\", \"bananas\", \"cherries\", \"pears\", \"pears\"],\n",
        "    'quantity':[20, 20, 50, 30, 40],\n",
        "    'price':[1000,500,750,900,950]}\n",
        "df = pd.DataFrame(f)\n",
        "\n",
        "#Add new rows\n",
        "fnew = {'name':[\"grapes\", \"apples\", \"grapes\", \"oranges\"],\n",
        "        'quantity':[30,25,30,20],\n",
        "        'price':[1200,800,1200,700]}\n",
        "\n",
        "dfnew = pd.DataFrame(fnew,index=[5, 6, 7, 8])\n",
        "df2 = df.append(dfnew)\n",
        "\n",
        "#combine dataframes\n",
        "colors = pd.DataFrame({'name':[\"apples\", \"bananas\", \"pears\", \"grapes\", \"cherries\", \"plum\"], \n",
        "                       'color':['red', 'yellow', 'green', 'purple', 'red', 'purple']})\n",
        "df3 = pd.merge(df2, colors, on='name', how='outer')\n",
        "df3"
      ],
      "execution_count": null,
      "outputs": []
    },
    {
      "cell_type": "markdown",
      "metadata": {
        "id": "CKu-og2mABX2"
      },
      "source": [
        "###Add some rows to create 'dirty' data"
      ]
    },
    {
      "cell_type": "code",
      "metadata": {
        "id": "KYJ23psSAHx8"
      },
      "source": [
        "dirty = {'name':['Apples?', 'grapes', 'Lemons 2'],\n",
        "        'quantity':['?', '?', np.nan],\n",
        "        'price':[800,'?',700],\n",
        "        'color':['green','?','yellow']}\n",
        "\n",
        "df_dirty = pd.DataFrame(dirty,index=[10, 11, 12])\n",
        "df_fruit = df3.append(df_dirty)\n",
        "df_fruit"
      ],
      "execution_count": null,
      "outputs": []
    },
    {
      "cell_type": "markdown",
      "metadata": {
        "id": "dh7XbC8mAQrG"
      },
      "source": [
        "###Quick check the dataframe"
      ]
    },
    {
      "cell_type": "code",
      "metadata": {
        "id": "MAt7JWBN-hHx"
      },
      "source": [
        "df_fruit.info()"
      ],
      "execution_count": null,
      "outputs": []
    },
    {
      "cell_type": "code",
      "metadata": {
        "id": "Y7ImE8x0-k2I"
      },
      "source": [
        "df_fruit.describe().transpose()"
      ],
      "execution_count": null,
      "outputs": []
    },
    {
      "cell_type": "markdown",
      "metadata": {
        "id": "RXH29j9__vC3"
      },
      "source": [
        "#Missing values - Select"
      ]
    },
    {
      "cell_type": "markdown",
      "metadata": {
        "id": "z9rRMl0sQhjC"
      },
      "source": [
        "Missing values can cause to biased or even failure in training, because scikit-learn cannot process missing values.\n",
        "What we need to do : \n",
        "1. Identify the missing values representations (`UNK`, `NaN`, `NULL`, `-9999`, `?`, etc.)\n",
        "2. Decide on what to do with the missing values \n",
        "\t- Remove all rows with any missing values (must be careful, since some columns may have too many missing values while other columns do not)\n",
        "\t- Remove the column with too many missing values\n",
        "\t- Impute values : can be done with simple method (impute with mean or mean value), with statistical methods, or other methods such as nearest neighbors value\n",
        "\n"
      ]
    },
    {
      "cell_type": "markdown",
      "metadata": {
        "id": "ej0_ZeU-BLim"
      },
      "source": [
        "Fungsi isna dapat digunakan untuk memeriksa apakah terdapat missing value, atau nilai NULL"
      ]
    },
    {
      "cell_type": "code",
      "metadata": {
        "id": "p7DbFCJrE0vx"
      },
      "source": [
        "# isna\n",
        "df_fruit.isna().any()"
      ],
      "execution_count": null,
      "outputs": []
    },
    {
      "cell_type": "code",
      "metadata": {
        "id": "zjKmezy3BxjX"
      },
      "source": [
        "df_fruit.isna()"
      ],
      "execution_count": null,
      "outputs": []
    },
    {
      "cell_type": "code",
      "metadata": {
        "id": "PnFUrUmvHTDP"
      },
      "source": [
        "#Select the columns with NaN\n",
        "df_fruit[df_fruit.columns[df_fruit.isna().any()]]"
      ],
      "execution_count": null,
      "outputs": []
    },
    {
      "cell_type": "markdown",
      "metadata": {
        "id": "p1QBZkPrE3av"
      },
      "source": [
        "###Invalid Values - Clean\n",
        "\n",
        "Clean `name` column value, remove all non alphabet character."
      ]
    },
    {
      "cell_type": "code",
      "metadata": {
        "id": "X_fycpO5PvXX"
      },
      "source": [
        "#select and print unique values to see if there's any invalid values\n",
        "print(df_fruit['name'].unique()) "
      ],
      "execution_count": null,
      "outputs": []
    },
    {
      "cell_type": "code",
      "metadata": {
        "id": "bY6_jdpNE7NJ"
      },
      "source": [
        "#remove all non-alphabetical character \n",
        "df_fruit['name'] = df_fruit.name.str.replace(r'[^a-zA-Z]\\s?',r'')\n",
        "print(df_fruit['name'].unique()) "
      ],
      "execution_count": null,
      "outputs": []
    },
    {
      "cell_type": "code",
      "metadata": {
        "id": "GDy9gqK2gP3V"
      },
      "source": [
        "#change all to lowercase\n",
        "df_fruit['name'] = df_fruit.name.str.lower()\n",
        "df_fruit"
      ],
      "execution_count": null,
      "outputs": []
    },
    {
      "cell_type": "markdown",
      "metadata": {
        "id": "1EFs0huZawxP"
      },
      "source": [
        "###Convert column type"
      ]
    },
    {
      "cell_type": "markdown",
      "metadata": {
        "id": "Xtt3EolRKxXC"
      },
      "source": [
        "Set column with value = '?' as missing value (NaN, i.e. `np.nan`)"
      ]
    },
    {
      "cell_type": "code",
      "metadata": {
        "id": "grWAg81wLkMh"
      },
      "source": [
        "for colname in ['quantity', 'price', 'color']:\n",
        "  df_fruit.loc[df_fruit[colname] == '?', colname] = np.nan\n",
        "\n",
        "df_fruit"
      ],
      "execution_count": null,
      "outputs": []
    },
    {
      "cell_type": "code",
      "metadata": {
        "id": "8KDJnZ4OKxse"
      },
      "source": [
        "df_fruit[\"quantity\"] = df_fruit[\"quantity\"].astype(str).astype(float)\n",
        "df_fruit[\"price\"] = df_fruit[\"price\"].astype(str).astype(float)\n",
        "df_fruit.info()\n",
        "df_fruit"
      ],
      "execution_count": null,
      "outputs": []
    },
    {
      "cell_type": "markdown",
      "metadata": {
        "id": "f4s_5WkyHtWE"
      },
      "source": [
        "###Missing values - Remove"
      ]
    },
    {
      "cell_type": "code",
      "metadata": {
        "id": "4ndxqrikIeaN"
      },
      "source": [
        "df_fruit.dropna() #drop all rows with NaN in any column  "
      ],
      "execution_count": null,
      "outputs": []
    },
    {
      "cell_type": "code",
      "metadata": {
        "id": "qWMr7dYnHuqM"
      },
      "source": [
        "df_fruit.dropna(subset = ['price', 'color'])"
      ],
      "execution_count": null,
      "outputs": []
    },
    {
      "cell_type": "code",
      "metadata": {
        "id": "AOygOMdRbC0u"
      },
      "source": [
        "#let's update the dataframe\n",
        "df_fruit.dropna(inplace=True)\n",
        "df_fruit"
      ],
      "execution_count": null,
      "outputs": []
    },
    {
      "cell_type": "markdown",
      "metadata": {
        "id": "XUMiQuez_dbu"
      },
      "source": [
        "###Duplicate rows "
      ]
    },
    {
      "cell_type": "code",
      "metadata": {
        "id": "nU_XiD6Y-v6w"
      },
      "source": [
        "#dropping identical rows, keep the first occurence\n",
        "df_fruit.drop_duplicates(inplace = True) #set inplace = True for in place modification\n",
        "df_fruit"
      ],
      "execution_count": null,
      "outputs": []
    },
    {
      "cell_type": "code",
      "metadata": {
        "id": "yFiVTFvwDKDG"
      },
      "source": [
        "#We can also remove duplicate based on column\n",
        "df_fruit.drop_duplicates(\"name\")"
      ],
      "execution_count": null,
      "outputs": []
    },
    {
      "cell_type": "markdown",
      "metadata": {
        "id": "JP5PBCH_fllL"
      },
      "source": [
        "Save to csv format"
      ]
    },
    {
      "cell_type": "code",
      "metadata": {
        "id": "I2nhLoyh_ukS"
      },
      "source": [
        "df_fruit.to_csv('cleaned_data.csv', index=False)"
      ],
      "execution_count": null,
      "outputs": []
    },
    {
      "cell_type": "markdown",
      "metadata": {
        "id": "bslaYOoCCuhe"
      },
      "source": [
        "# Revision History"
      ]
    },
    {
      "cell_type": "markdown",
      "metadata": {
        "id": "7mmxBqZkCy3i"
      },
      "source": [
        "Release: 1.2109.1901\n",
        "\n",
        "* Code cleanup"
      ]
    }
  ]
}