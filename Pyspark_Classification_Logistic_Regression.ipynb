{
  "nbformat": 4,
  "nbformat_minor": 0,
  "metadata": {
    "kernelspec": {
      "display_name": "Python 3",
      "language": "python",
      "name": "python3"
    },
    "language_info": {
      "codemirror_mode": {
        "name": "ipython",
        "version": 3
      },
      "file_extension": ".py",
      "mimetype": "text/x-python",
      "name": "python",
      "nbconvert_exporter": "python",
      "pygments_lexer": "ipython3",
      "version": "3.6.3"
    },
    "colab": {
      "name": "Pyspark Classification - Logistic Regression.ipynb",
      "provenance": []
    }
  },
  "cells": [
    {
      "cell_type": "markdown",
      "metadata": {
        "id": "K6pVeqt2mwKF"
      },
      "source": [
        "# Logistic Regression with PySpark"
      ]
    },
    {
      "cell_type": "markdown",
      "metadata": {
        "id": "OSpTdIXRorvF"
      },
      "source": [
        "## Download dataset"
      ]
    },
    {
      "cell_type": "code",
      "metadata": {
        "id": "fu7apUDvoZb-"
      },
      "source": [
        "! wget -P dataset https://www.dropbox.com/s/d0t4lgw1gsq9t2r/pima-indians-diabetes.csv"
      ],
      "execution_count": null,
      "outputs": []
    },
    {
      "cell_type": "code",
      "metadata": {
        "id": "EcwuTt6to2EO",
        "colab": {
          "base_uri": "https://localhost:8080/"
        },
        "outputId": "11a77940-9e2a-4c99-996a-328fa043d9d4"
      },
      "source": [
        "! ls -lah dataset"
      ],
      "execution_count": 1,
      "outputs": [
        {
          "output_type": "stream",
          "text": [
            "total 32K\n",
            "drwxr-xr-x 2 root root 4.0K Feb 10 01:50 .\n",
            "drwxr-xr-x 1 root root 4.0K Feb 10 02:10 ..\n",
            "-rw-r--r-- 1 root root  24K Feb 10 01:50 pima-indians-diabetes.csv\n"
          ],
          "name": "stdout"
        }
      ]
    },
    {
      "cell_type": "code",
      "metadata": {
        "id": "2IdIRxtto6EP",
        "colab": {
          "base_uri": "https://localhost:8080/"
        },
        "outputId": "9f24c997-21c5-48eb-e03f-0797d588ed50"
      },
      "source": [
        "! wc -l dataset/pima-indians-diabetes.csv"
      ],
      "execution_count": 2,
      "outputs": [
        {
          "output_type": "stream",
          "text": [
            "768 dataset/pima-indians-diabetes.csv\n"
          ],
          "name": "stdout"
        }
      ]
    },
    {
      "cell_type": "code",
      "metadata": {
        "id": "x8A9KUYFo_bi",
        "colab": {
          "base_uri": "https://localhost:8080/"
        },
        "outputId": "de176fb1-681f-459b-a555-a918b73c03eb"
      },
      "source": [
        "! head dataset/pima-indians-diabetes.csv"
      ],
      "execution_count": 3,
      "outputs": [
        {
          "output_type": "stream",
          "text": [
            "Pregnancies,Glucose,BloodPressure,SkinThickness,Insulin,BMI,DiabetesPedigreeFunction,Age,Outcome\r\n",
            "6,148,72,35,0,33.6,0.627,50,1\r\n",
            "1,85,66,29,0,26.6,0.351,31,0\r\n",
            "8,183,64,0,0,23.3,0.672,32,1\r\n",
            "1,89,66,23,94,28.1,0.167,21,0\r\n",
            "0,137,40,35,168,43.1,2.288,33,1\r\n",
            "5,116,74,0,0,25.6,0.201,30,0\r\n",
            "3,78,50,32,88,31,0.248,26,1\r\n",
            "10,115,0,0,0,35.3,0.134,29,0\r\n",
            "2,197,70,45,543,30.5,0.158,53,1\r\n"
          ],
          "name": "stdout"
        }
      ]
    },
    {
      "cell_type": "markdown",
      "metadata": {
        "id": "8z9WtAgS3zv9"
      },
      "source": [
        "Dataset description\r\n",
        "\r\n",
        "*   Pregnancies: Number of times pregnant\r\n",
        "*   Glucose: Plasma glucose concentration a 2 hours in an oral glucose tolerance test\r\n",
        "*   BloodPressure: Diastolic blood pressure (mm Hg)\r\n",
        "*   SkinThickness: Triceps skin fold thickness (mm)\r\n",
        "*   Insulin: 2-Hour serum insulin (mu U/ml)\r\n",
        "*   BMI: Body mass index (weight in kg/(height in m)^2)\r\n",
        "*   DiabetesPedigreeFunction: Diabetes pedigree function\r\n",
        "*   Age: Age (years)\r\n",
        "*   Outcome: Class variable --> 0 : no diabetes, 1: diabetes\r\n",
        "\r\n",
        "https://www.kaggle.com/uciml/pima-indians-diabetes-database\r\n"
      ]
    },
    {
      "cell_type": "markdown",
      "metadata": {
        "id": "_sS1503_pPfH"
      },
      "source": [
        "## Apache Spark Installation"
      ]
    },
    {
      "cell_type": "code",
      "metadata": {
        "id": "OSh14OeKsthk"
      },
      "source": [
        "!apt-get install openjdk-8-jdk-headless -qq > /dev/null\r\n",
        "!wget -q https://www-us.apache.org/dist/spark/spark-2.4.7/spark-2.4.7-bin-hadoop2.7.tgz \r\n",
        "!tar xf spark-2.4.7-bin-hadoop2.7.tgz\r\n",
        "!pip install -q findspark"
      ],
      "execution_count": null,
      "outputs": []
    },
    {
      "cell_type": "code",
      "metadata": {
        "id": "hXyyAxArtNIB"
      },
      "source": [
        "import os\r\n",
        "os.environ[\"JAVA_HOME\"] = \"/usr/lib/jvm/java-8-openjdk-amd64\"\r\n",
        "os.environ[\"SPARK_HOME\"] = \"/content/spark-2.4.7-bin-hadoop2.7\""
      ],
      "execution_count": 4,
      "outputs": []
    },
    {
      "cell_type": "code",
      "metadata": {
        "id": "Wbv3ffTctU2A"
      },
      "source": [
        "import findspark\r\n",
        "findspark.init()\r\n",
        "from pyspark.sql import SparkSession\r\n",
        "spark = SparkSession.builder.master(\"local[*]\").getOrCreate()"
      ],
      "execution_count": 5,
      "outputs": []
    },
    {
      "cell_type": "code",
      "metadata": {
        "id": "wzqKqEqdtZu-",
        "colab": {
          "base_uri": "https://localhost:8080/"
        },
        "outputId": "5d71b276-4ce8-419c-8451-16e0fdef578a"
      },
      "source": [
        "print(\"Spark version : \" + spark.version)"
      ],
      "execution_count": 6,
      "outputs": [
        {
          "output_type": "stream",
          "text": [
            "Spark version : 2.4.7\n"
          ],
          "name": "stdout"
        }
      ]
    },
    {
      "cell_type": "code",
      "metadata": {
        "id": "HQYaGVtQteVC",
        "colab": {
          "base_uri": "https://localhost:8080/"
        },
        "outputId": "0ef92bf2-c9c9-45f4-f309-b938207b6423"
      },
      "source": [
        "import sys\r\n",
        "print(\"Python version : \" + sys.version)"
      ],
      "execution_count": 7,
      "outputs": [
        {
          "output_type": "stream",
          "text": [
            "Python version : 3.6.9 (default, Oct  8 2020, 12:12:24) \n",
            "[GCC 8.4.0]\n"
          ],
          "name": "stdout"
        }
      ]
    },
    {
      "cell_type": "code",
      "metadata": {
        "collapsed": true,
        "id": "NjA_2nSJmwKR",
        "colab": {
          "base_uri": "https://localhost:8080/",
          "height": 191
        },
        "outputId": "f5306841-8153-4e31-ba7a-92fc5d164ebd"
      },
      "source": [
        "#sc=spark.sparkContext\n",
        "#sqlContext=SQLContext(sc)"
      ],
      "execution_count": 8,
      "outputs": [
        {
          "output_type": "error",
          "ename": "NameError",
          "evalue": "ignored",
          "traceback": [
            "\u001b[0;31m---------------------------------------------------------------------------\u001b[0m",
            "\u001b[0;31mNameError\u001b[0m                                 Traceback (most recent call last)",
            "\u001b[0;32m<ipython-input-8-e9910694b204>\u001b[0m in \u001b[0;36m<module>\u001b[0;34m()\u001b[0m\n\u001b[1;32m      1\u001b[0m \u001b[0msc\u001b[0m\u001b[0;34m=\u001b[0m\u001b[0mspark\u001b[0m\u001b[0;34m.\u001b[0m\u001b[0msparkContext\u001b[0m\u001b[0;34m\u001b[0m\u001b[0;34m\u001b[0m\u001b[0m\n\u001b[0;32m----> 2\u001b[0;31m \u001b[0msqlContext\u001b[0m\u001b[0;34m=\u001b[0m\u001b[0mSQLContext\u001b[0m\u001b[0;34m(\u001b[0m\u001b[0msc\u001b[0m\u001b[0;34m)\u001b[0m\u001b[0;34m\u001b[0m\u001b[0;34m\u001b[0m\u001b[0m\n\u001b[0m",
            "\u001b[0;31mNameError\u001b[0m: name 'SQLContext' is not defined"
          ]
        }
      ]
    },
    {
      "cell_type": "markdown",
      "metadata": {
        "id": "WkoobQWEmwKS"
      },
      "source": [
        "## Read File"
      ]
    },
    {
      "cell_type": "code",
      "metadata": {
        "id": "B1yT2Folu1rm"
      },
      "source": [
        "df_diabetes = spark.read.csv(path='dataset/pima-indians-diabetes.csv', \r\n",
        "                            sep=',', \r\n",
        "                            header = True, \r\n",
        "                            inferSchema = True)"
      ],
      "execution_count": 9,
      "outputs": []
    },
    {
      "cell_type": "code",
      "metadata": {
        "id": "ZprYlWx0v-E4",
        "colab": {
          "base_uri": "https://localhost:8080/"
        },
        "outputId": "48e8ed95-9f17-4f34-9b6a-485af9a7ced1"
      },
      "source": [
        "df_diabetes.count()"
      ],
      "execution_count": 10,
      "outputs": [
        {
          "output_type": "execute_result",
          "data": {
            "text/plain": [
              "768"
            ]
          },
          "metadata": {
            "tags": []
          },
          "execution_count": 10
        }
      ]
    },
    {
      "cell_type": "code",
      "metadata": {
        "id": "f57HhGW2wJAN",
        "colab": {
          "base_uri": "https://localhost:8080/"
        },
        "outputId": "e5f5c663-9565-4a5a-a45a-5433c32e8d69"
      },
      "source": [
        "df_diabetes.show(4)"
      ],
      "execution_count": 11,
      "outputs": [
        {
          "output_type": "stream",
          "text": [
            "+-----------+-------+-------------+-------------+-------+----+------------------------+---+-------+\n",
            "|Pregnancies|Glucose|BloodPressure|SkinThickness|Insulin| BMI|DiabetesPedigreeFunction|Age|Outcome|\n",
            "+-----------+-------+-------------+-------------+-------+----+------------------------+---+-------+\n",
            "|          6|    148|           72|           35|      0|33.6|                   0.627| 50|      1|\n",
            "|          1|     85|           66|           29|      0|26.6|                   0.351| 31|      0|\n",
            "|          8|    183|           64|            0|      0|23.3|                   0.672| 32|      1|\n",
            "|          1|     89|           66|           23|     94|28.1|                   0.167| 21|      0|\n",
            "+-----------+-------+-------------+-------------+-------+----+------------------------+---+-------+\n",
            "only showing top 4 rows\n",
            "\n"
          ],
          "name": "stdout"
        }
      ]
    },
    {
      "cell_type": "code",
      "metadata": {
        "id": "nVzqZyMVwfqq",
        "colab": {
          "base_uri": "https://localhost:8080/"
        },
        "outputId": "45c1e704-1de4-42a2-f9da-1ad864c9416b"
      },
      "source": [
        "df_diabetes.printSchema()"
      ],
      "execution_count": 12,
      "outputs": [
        {
          "output_type": "stream",
          "text": [
            "root\n",
            " |-- Pregnancies: integer (nullable = true)\n",
            " |-- Glucose: integer (nullable = true)\n",
            " |-- BloodPressure: integer (nullable = true)\n",
            " |-- SkinThickness: integer (nullable = true)\n",
            " |-- Insulin: integer (nullable = true)\n",
            " |-- BMI: double (nullable = true)\n",
            " |-- DiabetesPedigreeFunction: double (nullable = true)\n",
            " |-- Age: integer (nullable = true)\n",
            " |-- Outcome: integer (nullable = true)\n",
            "\n"
          ],
          "name": "stdout"
        }
      ]
    },
    {
      "cell_type": "markdown",
      "metadata": {
        "id": "jg7k-ymdwaDo"
      },
      "source": [
        "## Statistics"
      ]
    },
    {
      "cell_type": "code",
      "metadata": {
        "id": "2oYU-Dkywapy",
        "colab": {
          "base_uri": "https://localhost:8080/"
        },
        "outputId": "a42f2a50-50e2-4f49-f496-732739b2e093"
      },
      "source": [
        "df_diabetes.describe().show()"
      ],
      "execution_count": 13,
      "outputs": [
        {
          "output_type": "stream",
          "text": [
            "+-------+------------------+-----------------+------------------+------------------+------------------+------------------+------------------------+------------------+------------------+\n",
            "|summary|       Pregnancies|          Glucose|     BloodPressure|     SkinThickness|           Insulin|               BMI|DiabetesPedigreeFunction|               Age|           Outcome|\n",
            "+-------+------------------+-----------------+------------------+------------------+------------------+------------------+------------------------+------------------+------------------+\n",
            "|  count|               768|              768|               768|               768|               768|               768|                     768|               768|               768|\n",
            "|   mean|3.8450520833333335|     120.89453125|       69.10546875|20.536458333333332| 79.79947916666667|31.992578124999977|      0.4718763020833327|33.240885416666664|0.3489583333333333|\n",
            "| stddev|  3.36957806269887|31.97261819513622|19.355807170644777|15.952217567727642|115.24400235133803| 7.884160320375441|       0.331328595012775|11.760231540678689| 0.476951377242799|\n",
            "|    min|                 0|                0|                 0|                 0|                 0|               0.0|                   0.078|                21|                 0|\n",
            "|    max|                17|              199|               122|                99|               846|              67.1|                    2.42|                81|                 1|\n",
            "+-------+------------------+-----------------+------------------+------------------+------------------+------------------+------------------------+------------------+------------------+\n",
            "\n"
          ],
          "name": "stdout"
        }
      ]
    },
    {
      "cell_type": "code",
      "metadata": {
        "id": "UQBjXpNZwber",
        "colab": {
          "base_uri": "https://localhost:8080/",
          "height": 206
        },
        "outputId": "4b140640-600f-443b-f9ec-637592956ff7"
      },
      "source": [
        "numeric_features = [t[0] for t in df_diabetes.dtypes if t[1] == 'int']\r\n",
        "df_diabetes.select(numeric_features).describe().toPandas()"
      ],
      "execution_count": 14,
      "outputs": [
        {
          "output_type": "execute_result",
          "data": {
            "text/html": [
              "<div>\n",
              "<style scoped>\n",
              "    .dataframe tbody tr th:only-of-type {\n",
              "        vertical-align: middle;\n",
              "    }\n",
              "\n",
              "    .dataframe tbody tr th {\n",
              "        vertical-align: top;\n",
              "    }\n",
              "\n",
              "    .dataframe thead th {\n",
              "        text-align: right;\n",
              "    }\n",
              "</style>\n",
              "<table border=\"1\" class=\"dataframe\">\n",
              "  <thead>\n",
              "    <tr style=\"text-align: right;\">\n",
              "      <th></th>\n",
              "      <th>summary</th>\n",
              "      <th>Pregnancies</th>\n",
              "      <th>Glucose</th>\n",
              "      <th>BloodPressure</th>\n",
              "      <th>SkinThickness</th>\n",
              "      <th>Insulin</th>\n",
              "      <th>Age</th>\n",
              "      <th>Outcome</th>\n",
              "    </tr>\n",
              "  </thead>\n",
              "  <tbody>\n",
              "    <tr>\n",
              "      <th>0</th>\n",
              "      <td>count</td>\n",
              "      <td>768</td>\n",
              "      <td>768</td>\n",
              "      <td>768</td>\n",
              "      <td>768</td>\n",
              "      <td>768</td>\n",
              "      <td>768</td>\n",
              "      <td>768</td>\n",
              "    </tr>\n",
              "    <tr>\n",
              "      <th>1</th>\n",
              "      <td>mean</td>\n",
              "      <td>3.8450520833333335</td>\n",
              "      <td>120.89453125</td>\n",
              "      <td>69.10546875</td>\n",
              "      <td>20.536458333333332</td>\n",
              "      <td>79.79947916666667</td>\n",
              "      <td>33.240885416666664</td>\n",
              "      <td>0.3489583333333333</td>\n",
              "    </tr>\n",
              "    <tr>\n",
              "      <th>2</th>\n",
              "      <td>stddev</td>\n",
              "      <td>3.36957806269887</td>\n",
              "      <td>31.97261819513622</td>\n",
              "      <td>19.355807170644777</td>\n",
              "      <td>15.952217567727642</td>\n",
              "      <td>115.24400235133803</td>\n",
              "      <td>11.760231540678689</td>\n",
              "      <td>0.476951377242799</td>\n",
              "    </tr>\n",
              "    <tr>\n",
              "      <th>3</th>\n",
              "      <td>min</td>\n",
              "      <td>0</td>\n",
              "      <td>0</td>\n",
              "      <td>0</td>\n",
              "      <td>0</td>\n",
              "      <td>0</td>\n",
              "      <td>21</td>\n",
              "      <td>0</td>\n",
              "    </tr>\n",
              "    <tr>\n",
              "      <th>4</th>\n",
              "      <td>max</td>\n",
              "      <td>17</td>\n",
              "      <td>199</td>\n",
              "      <td>122</td>\n",
              "      <td>99</td>\n",
              "      <td>846</td>\n",
              "      <td>81</td>\n",
              "      <td>1</td>\n",
              "    </tr>\n",
              "  </tbody>\n",
              "</table>\n",
              "</div>"
            ],
            "text/plain": [
              "  summary         Pregnancies  ...                 Age             Outcome\n",
              "0   count                 768  ...                 768                 768\n",
              "1    mean  3.8450520833333335  ...  33.240885416666664  0.3489583333333333\n",
              "2  stddev    3.36957806269887  ...  11.760231540678689   0.476951377242799\n",
              "3     min                   0  ...                  21                   0\n",
              "4     max                  17  ...                  81                   1\n",
              "\n",
              "[5 rows x 8 columns]"
            ]
          },
          "metadata": {
            "tags": []
          },
          "execution_count": 14
        }
      ]
    },
    {
      "cell_type": "markdown",
      "metadata": {
        "id": "74EJBZety4Fz"
      },
      "source": [
        "## Distribution of Target/Outcome"
      ]
    },
    {
      "cell_type": "code",
      "metadata": {
        "id": "LDvR9m07wbUU",
        "colab": {
          "base_uri": "https://localhost:8080/"
        },
        "outputId": "60f086d1-eac6-4156-860f-fa41ae9b9a90"
      },
      "source": [
        "df_diabetes.groupby(\"Outcome\").count().show()"
      ],
      "execution_count": 15,
      "outputs": [
        {
          "output_type": "stream",
          "text": [
            "+-------+-----+\n",
            "|Outcome|count|\n",
            "+-------+-----+\n",
            "|      1|  268|\n",
            "|      0|  500|\n",
            "+-------+-----+\n",
            "\n"
          ],
          "name": "stdout"
        }
      ]
    },
    {
      "cell_type": "code",
      "metadata": {
        "id": "-lT7S7TN1DAK"
      },
      "source": [
        "import pandas as pd\r\n",
        "import matplotlib.pyplot as plt\r\n",
        "import seaborn as sns\r\n",
        "import numpy as np\r\n",
        "\r\n",
        "sns.set_context('notebook')"
      ],
      "execution_count": 16,
      "outputs": []
    },
    {
      "cell_type": "code",
      "metadata": {
        "id": "MkDzQnB-1KSK"
      },
      "source": [
        "data = df_diabetes.groupby(\"Outcome\").count().toPandas()"
      ],
      "execution_count": 17,
      "outputs": []
    },
    {
      "cell_type": "code",
      "metadata": {
        "id": "hXCpSaB31SOD",
        "colab": {
          "base_uri": "https://localhost:8080/",
          "height": 112
        },
        "outputId": "b0b0992b-046e-4b27-9bb9-5998d0222ba3"
      },
      "source": [
        "data.head()"
      ],
      "execution_count": 18,
      "outputs": [
        {
          "output_type": "execute_result",
          "data": {
            "text/html": [
              "<div>\n",
              "<style scoped>\n",
              "    .dataframe tbody tr th:only-of-type {\n",
              "        vertical-align: middle;\n",
              "    }\n",
              "\n",
              "    .dataframe tbody tr th {\n",
              "        vertical-align: top;\n",
              "    }\n",
              "\n",
              "    .dataframe thead th {\n",
              "        text-align: right;\n",
              "    }\n",
              "</style>\n",
              "<table border=\"1\" class=\"dataframe\">\n",
              "  <thead>\n",
              "    <tr style=\"text-align: right;\">\n",
              "      <th></th>\n",
              "      <th>Outcome</th>\n",
              "      <th>count</th>\n",
              "    </tr>\n",
              "  </thead>\n",
              "  <tbody>\n",
              "    <tr>\n",
              "      <th>0</th>\n",
              "      <td>1</td>\n",
              "      <td>268</td>\n",
              "    </tr>\n",
              "    <tr>\n",
              "      <th>1</th>\n",
              "      <td>0</td>\n",
              "      <td>500</td>\n",
              "    </tr>\n",
              "  </tbody>\n",
              "</table>\n",
              "</div>"
            ],
            "text/plain": [
              "   Outcome  count\n",
              "0        1    268\n",
              "1        0    500"
            ]
          },
          "metadata": {
            "tags": []
          },
          "execution_count": 18
        }
      ]
    },
    {
      "cell_type": "code",
      "metadata": {
        "id": "ha0azVOgy84w",
        "colab": {
          "base_uri": "https://localhost:8080/",
          "height": 303
        },
        "outputId": "7d159914-f1d4-4b45-d474-24cd3f46aaa1"
      },
      "source": [
        "sns.barplot(x='Outcome', y='count', data=data)"
      ],
      "execution_count": 19,
      "outputs": [
        {
          "output_type": "execute_result",
          "data": {
            "text/plain": [
              "<matplotlib.axes._subplots.AxesSubplot at 0x7f96b9096c50>"
            ]
          },
          "metadata": {
            "tags": []
          },
          "execution_count": 19
        },
        {
          "output_type": "display_data",
          "data": {
            "image/png": "[encoded data removed]",
            "text/plain": [
              "<Figure size 432x288 with 1 Axes>"
            ]
          },
          "metadata": {
            "tags": [],
            "needs_background": "light"
          }
        }
      ]
    },
    {
      "cell_type": "markdown",
      "metadata": {
        "id": "XQ-tTtBJmwKc"
      },
      "source": [
        "## Distribution of Features"
      ]
    },
    {
      "cell_type": "code",
      "metadata": {
        "id": "gCAcq4Ic2ehO",
        "colab": {
          "base_uri": "https://localhost:8080/"
        },
        "outputId": "86d54c20-207e-476d-e5ea-0da786e3df5e"
      },
      "source": [
        "df_diabetes.groupby(\"Pregnancies\").count().show()"
      ],
      "execution_count": 20,
      "outputs": [
        {
          "output_type": "stream",
          "text": [
            "+-----------+-----+\n",
            "|Pregnancies|count|\n",
            "+-----------+-----+\n",
            "|         12|    9|\n",
            "|          1|  135|\n",
            "|         13|   10|\n",
            "|          6|   50|\n",
            "|          3|   75|\n",
            "|          5|   57|\n",
            "|         15|    1|\n",
            "|          9|   28|\n",
            "|         17|    1|\n",
            "|          4|   68|\n",
            "|          8|   38|\n",
            "|          7|   45|\n",
            "|         10|   24|\n",
            "|         11|   11|\n",
            "|         14|    2|\n",
            "|          2|  103|\n",
            "|          0|  111|\n",
            "+-----------+-----+\n",
            "\n"
          ],
          "name": "stdout"
        }
      ]
    },
    {
      "cell_type": "code",
      "metadata": {
        "id": "GiuAD5tD3Ja3",
        "colab": {
          "base_uri": "https://localhost:8080/",
          "height": 520
        },
        "outputId": "c52b59bc-c53c-4f56-9dfe-720108c6d66e"
      },
      "source": [
        "plt.figure(figsize=(15,8))\r\n",
        "sns.barplot(x='Pregnancies', y='count', data=df_diabetes.groupby(\"Pregnancies\").count().toPandas())"
      ],
      "execution_count": 21,
      "outputs": [
        {
          "output_type": "execute_result",
          "data": {
            "text/plain": [
              "<matplotlib.axes._subplots.AxesSubplot at 0x7f96b8fe5630>"
            ]
          },
          "metadata": {
            "tags": []
          },
          "execution_count": 21
        },
        {
          "output_type": "display_data",
          "data": {
            "image/png": "[encoded data removed]",
            "text/plain": [
              "<Figure size 1080x576 with 1 Axes>"
            ]
          },
          "metadata": {
            "tags": [],
            "needs_background": "light"
          }
        }
      ]
    },
    {
      "cell_type": "code",
      "metadata": {
        "id": "gRTQHuUF5hGa",
        "colab": {
          "base_uri": "https://localhost:8080/",
          "height": 520
        },
        "outputId": "8fd48de0-4062-41cd-c9b1-6f8f2bb6f97e"
      },
      "source": [
        "plt.figure(figsize=(15,8))\r\n",
        "sns.barplot(x='Glucose', y='count', data=df_diabetes.groupby(\"Glucose\").count().toPandas())"
      ],
      "execution_count": 22,
      "outputs": [
        {
          "output_type": "execute_result",
          "data": {
            "text/plain": [
              "<matplotlib.axes._subplots.AxesSubplot at 0x7f96b8a986a0>"
            ]
          },
          "metadata": {
            "tags": []
          },
          "execution_count": 22
        },
        {
          "output_type": "display_data",
          "data": {
            "image/png": "[encoded data removed]",
            "text/plain": [
              "<Figure size 1080x576 with 1 Axes>"
            ]
          },
          "metadata": {
            "tags": [],
            "needs_background": "light"
          }
        }
      ]
    },
    {
      "cell_type": "markdown",
      "metadata": {
        "id": "OJDY-1bV89Sp"
      },
      "source": [
        "## Correlation"
      ]
    },
    {
      "cell_type": "code",
      "metadata": {
        "id": "fbR1_OBn880e",
        "colab": {
          "base_uri": "https://localhost:8080/",
          "height": 206
        },
        "outputId": "a4b4df62-fe11-46ed-c0fc-b4fa7777d922"
      },
      "source": [
        "numeric_features = [t[0] for t in df_diabetes.dtypes if t[1] != 'string']\r\n",
        "numeric_features_df=df_diabetes.select(numeric_features)\r\n",
        "numeric_features_df.toPandas().head()"
      ],
      "execution_count": 23,
      "outputs": [
        {
          "output_type": "execute_result",
          "data": {
            "text/html": [
              "<div>\n",
              "<style scoped>\n",
              "    .dataframe tbody tr th:only-of-type {\n",
              "        vertical-align: middle;\n",
              "    }\n",
              "\n",
              "    .dataframe tbody tr th {\n",
              "        vertical-align: top;\n",
              "    }\n",
              "\n",
              "    .dataframe thead th {\n",
              "        text-align: right;\n",
              "    }\n",
              "</style>\n",
              "<table border=\"1\" class=\"dataframe\">\n",
              "  <thead>\n",
              "    <tr style=\"text-align: right;\">\n",
              "      <th></th>\n",
              "      <th>Pregnancies</th>\n",
              "      <th>Glucose</th>\n",
              "      <th>BloodPressure</th>\n",
              "      <th>SkinThickness</th>\n",
              "      <th>Insulin</th>\n",
              "      <th>BMI</th>\n",
              "      <th>DiabetesPedigreeFunction</th>\n",
              "      <th>Age</th>\n",
              "      <th>Outcome</th>\n",
              "    </tr>\n",
              "  </thead>\n",
              "  <tbody>\n",
              "    <tr>\n",
              "      <th>0</th>\n",
              "      <td>6</td>\n",
              "      <td>148</td>\n",
              "      <td>72</td>\n",
              "      <td>35</td>\n",
              "      <td>0</td>\n",
              "      <td>33.6</td>\n",
              "      <td>0.627</td>\n",
              "      <td>50</td>\n",
              "      <td>1</td>\n",
              "    </tr>\n",
              "    <tr>\n",
              "      <th>1</th>\n",
              "      <td>1</td>\n",
              "      <td>85</td>\n",
              "      <td>66</td>\n",
              "      <td>29</td>\n",
              "      <td>0</td>\n",
              "      <td>26.6</td>\n",
              "      <td>0.351</td>\n",
              "      <td>31</td>\n",
              "      <td>0</td>\n",
              "    </tr>\n",
              "    <tr>\n",
              "      <th>2</th>\n",
              "      <td>8</td>\n",
              "      <td>183</td>\n",
              "      <td>64</td>\n",
              "      <td>0</td>\n",
              "      <td>0</td>\n",
              "      <td>23.3</td>\n",
              "      <td>0.672</td>\n",
              "      <td>32</td>\n",
              "      <td>1</td>\n",
              "    </tr>\n",
              "    <tr>\n",
              "      <th>3</th>\n",
              "      <td>1</td>\n",
              "      <td>89</td>\n",
              "      <td>66</td>\n",
              "      <td>23</td>\n",
              "      <td>94</td>\n",
              "      <td>28.1</td>\n",
              "      <td>0.167</td>\n",
              "      <td>21</td>\n",
              "      <td>0</td>\n",
              "    </tr>\n",
              "    <tr>\n",
              "      <th>4</th>\n",
              "      <td>0</td>\n",
              "      <td>137</td>\n",
              "      <td>40</td>\n",
              "      <td>35</td>\n",
              "      <td>168</td>\n",
              "      <td>43.1</td>\n",
              "      <td>2.288</td>\n",
              "      <td>33</td>\n",
              "      <td>1</td>\n",
              "    </tr>\n",
              "  </tbody>\n",
              "</table>\n",
              "</div>"
            ],
            "text/plain": [
              "   Pregnancies  Glucose  BloodPressure  ...  DiabetesPedigreeFunction  Age  Outcome\n",
              "0            6      148             72  ...                     0.627   50        1\n",
              "1            1       85             66  ...                     0.351   31        0\n",
              "2            8      183             64  ...                     0.672   32        1\n",
              "3            1       89             66  ...                     0.167   21        0\n",
              "4            0      137             40  ...                     2.288   33        1\n",
              "\n",
              "[5 rows x 9 columns]"
            ]
          },
          "metadata": {
            "tags": []
          },
          "execution_count": 23
        }
      ]
    },
    {
      "cell_type": "code",
      "metadata": {
        "id": "3dTPFkdM9ION",
        "colab": {
          "base_uri": "https://localhost:8080/"
        },
        "outputId": "1698281f-a798-4f10-c986-184dc51b9b2c"
      },
      "source": [
        "from pyspark.mllib.stat import Statistics\r\n",
        "\r\n",
        "col_names =numeric_features_df.columns\r\n",
        "features = numeric_features_df.rdd.map(lambda row: row[0:])\r\n",
        "corr_mat=Statistics.corr(features, method=\"pearson\")\r\n",
        "\r\n",
        "corr_mat"
      ],
      "execution_count": 24,
      "outputs": [
        {
          "output_type": "execute_result",
          "data": {
            "text/plain": [
              "array([[ 1.        ,  0.12945867,  0.14128198, -0.08167177, -0.07353461,\n",
              "         0.01768309, -0.03352267,  0.54434123,  0.22189815],\n",
              "       [ 0.12945867,  1.        ,  0.15258959,  0.05732789,  0.33135711,\n",
              "         0.22107107,  0.1373373 ,  0.26351432,  0.4665814 ],\n",
              "       [ 0.14128198,  0.15258959,  1.        ,  0.20737054,  0.08893338,\n",
              "         0.28180529,  0.04126495,  0.23952795,  0.06506836],\n",
              "       [-0.08167177,  0.05732789,  0.20737054,  1.        ,  0.43678257,\n",
              "         0.3925732 ,  0.18392757, -0.11397026,  0.07475223],\n",
              "       [-0.07353461,  0.33135711,  0.08893338,  0.43678257,  1.        ,\n",
              "         0.19785906,  0.18507093, -0.04216295,  0.13054795],\n",
              "       [ 0.01768309,  0.22107107,  0.28180529,  0.3925732 ,  0.19785906,\n",
              "         1.        ,  0.14064695,  0.03624187,  0.29269466],\n",
              "       [-0.03352267,  0.1373373 ,  0.04126495,  0.18392757,  0.18507093,\n",
              "         0.14064695,  1.        ,  0.03356131,  0.17384407],\n",
              "       [ 0.54434123,  0.26351432,  0.23952795, -0.11397026, -0.04216295,\n",
              "         0.03624187,  0.03356131,  1.        ,  0.23835598],\n",
              "       [ 0.22189815,  0.4665814 ,  0.06506836,  0.07475223,  0.13054795,\n",
              "         0.29269466,  0.17384407,  0.23835598,  1.        ]])"
            ]
          },
          "metadata": {
            "tags": []
          },
          "execution_count": 24
        }
      ]
    },
    {
      "cell_type": "code",
      "metadata": {
        "id": "_POC84Jr9tUS",
        "colab": {
          "base_uri": "https://localhost:8080/",
          "height": 331
        },
        "outputId": "303ed633-8af5-4537-88c2-ae06c0cf8f82"
      },
      "source": [
        "corr_df = pd.DataFrame(corr_mat)\r\n",
        "corr_df.index, corr_df.columns = col_names, col_names\r\n",
        "\r\n",
        "corr_df"
      ],
      "execution_count": 25,
      "outputs": [
        {
          "output_type": "execute_result",
          "data": {
            "text/html": [
              "<div>\n",
              "<style scoped>\n",
              "    .dataframe tbody tr th:only-of-type {\n",
              "        vertical-align: middle;\n",
              "    }\n",
              "\n",
              "    .dataframe tbody tr th {\n",
              "        vertical-align: top;\n",
              "    }\n",
              "\n",
              "    .dataframe thead th {\n",
              "        text-align: right;\n",
              "    }\n",
              "</style>\n",
              "<table border=\"1\" class=\"dataframe\">\n",
              "  <thead>\n",
              "    <tr style=\"text-align: right;\">\n",
              "      <th></th>\n",
              "      <th>Pregnancies</th>\n",
              "      <th>Glucose</th>\n",
              "      <th>BloodPressure</th>\n",
              "      <th>SkinThickness</th>\n",
              "      <th>Insulin</th>\n",
              "      <th>BMI</th>\n",
              "      <th>DiabetesPedigreeFunction</th>\n",
              "      <th>Age</th>\n",
              "      <th>Outcome</th>\n",
              "    </tr>\n",
              "  </thead>\n",
              "  <tbody>\n",
              "    <tr>\n",
              "      <th>Pregnancies</th>\n",
              "      <td>1.000000</td>\n",
              "      <td>0.129459</td>\n",
              "      <td>0.141282</td>\n",
              "      <td>-0.081672</td>\n",
              "      <td>-0.073535</td>\n",
              "      <td>0.017683</td>\n",
              "      <td>-0.033523</td>\n",
              "      <td>0.544341</td>\n",
              "      <td>0.221898</td>\n",
              "    </tr>\n",
              "    <tr>\n",
              "      <th>Glucose</th>\n",
              "      <td>0.129459</td>\n",
              "      <td>1.000000</td>\n",
              "      <td>0.152590</td>\n",
              "      <td>0.057328</td>\n",
              "      <td>0.331357</td>\n",
              "      <td>0.221071</td>\n",
              "      <td>0.137337</td>\n",
              "      <td>0.263514</td>\n",
              "      <td>0.466581</td>\n",
              "    </tr>\n",
              "    <tr>\n",
              "      <th>BloodPressure</th>\n",
              "      <td>0.141282</td>\n",
              "      <td>0.152590</td>\n",
              "      <td>1.000000</td>\n",
              "      <td>0.207371</td>\n",
              "      <td>0.088933</td>\n",
              "      <td>0.281805</td>\n",
              "      <td>0.041265</td>\n",
              "      <td>0.239528</td>\n",
              "      <td>0.065068</td>\n",
              "    </tr>\n",
              "    <tr>\n",
              "      <th>SkinThickness</th>\n",
              "      <td>-0.081672</td>\n",
              "      <td>0.057328</td>\n",
              "      <td>0.207371</td>\n",
              "      <td>1.000000</td>\n",
              "      <td>0.436783</td>\n",
              "      <td>0.392573</td>\n",
              "      <td>0.183928</td>\n",
              "      <td>-0.113970</td>\n",
              "      <td>0.074752</td>\n",
              "    </tr>\n",
              "    <tr>\n",
              "      <th>Insulin</th>\n",
              "      <td>-0.073535</td>\n",
              "      <td>0.331357</td>\n",
              "      <td>0.088933</td>\n",
              "      <td>0.436783</td>\n",
              "      <td>1.000000</td>\n",
              "      <td>0.197859</td>\n",
              "      <td>0.185071</td>\n",
              "      <td>-0.042163</td>\n",
              "      <td>0.130548</td>\n",
              "    </tr>\n",
              "    <tr>\n",
              "      <th>BMI</th>\n",
              "      <td>0.017683</td>\n",
              "      <td>0.221071</td>\n",
              "      <td>0.281805</td>\n",
              "      <td>0.392573</td>\n",
              "      <td>0.197859</td>\n",
              "      <td>1.000000</td>\n",
              "      <td>0.140647</td>\n",
              "      <td>0.036242</td>\n",
              "      <td>0.292695</td>\n",
              "    </tr>\n",
              "    <tr>\n",
              "      <th>DiabetesPedigreeFunction</th>\n",
              "      <td>-0.033523</td>\n",
              "      <td>0.137337</td>\n",
              "      <td>0.041265</td>\n",
              "      <td>0.183928</td>\n",
              "      <td>0.185071</td>\n",
              "      <td>0.140647</td>\n",
              "      <td>1.000000</td>\n",
              "      <td>0.033561</td>\n",
              "      <td>0.173844</td>\n",
              "    </tr>\n",
              "    <tr>\n",
              "      <th>Age</th>\n",
              "      <td>0.544341</td>\n",
              "      <td>0.263514</td>\n",
              "      <td>0.239528</td>\n",
              "      <td>-0.113970</td>\n",
              "      <td>-0.042163</td>\n",
              "      <td>0.036242</td>\n",
              "      <td>0.033561</td>\n",
              "      <td>1.000000</td>\n",
              "      <td>0.238356</td>\n",
              "    </tr>\n",
              "    <tr>\n",
              "      <th>Outcome</th>\n",
              "      <td>0.221898</td>\n",
              "      <td>0.466581</td>\n",
              "      <td>0.065068</td>\n",
              "      <td>0.074752</td>\n",
              "      <td>0.130548</td>\n",
              "      <td>0.292695</td>\n",
              "      <td>0.173844</td>\n",
              "      <td>0.238356</td>\n",
              "      <td>1.000000</td>\n",
              "    </tr>\n",
              "  </tbody>\n",
              "</table>\n",
              "</div>"
            ],
            "text/plain": [
              "                          Pregnancies   Glucose  ...       Age   Outcome\n",
              "Pregnancies                  1.000000  0.129459  ...  0.544341  0.221898\n",
              "Glucose                      0.129459  1.000000  ...  0.263514  0.466581\n",
              "BloodPressure                0.141282  0.152590  ...  0.239528  0.065068\n",
              "SkinThickness               -0.081672  0.057328  ... -0.113970  0.074752\n",
              "Insulin                     -0.073535  0.331357  ... -0.042163  0.130548\n",
              "BMI                          0.017683  0.221071  ...  0.036242  0.292695\n",
              "DiabetesPedigreeFunction    -0.033523  0.137337  ...  0.033561  0.173844\n",
              "Age                          0.544341  0.263514  ...  1.000000  0.238356\n",
              "Outcome                      0.221898  0.466581  ...  0.238356  1.000000\n",
              "\n",
              "[9 rows x 9 columns]"
            ]
          },
          "metadata": {
            "tags": []
          },
          "execution_count": 25
        }
      ]
    },
    {
      "cell_type": "code",
      "metadata": {
        "id": "TSsBS_RS9OeV",
        "colab": {
          "base_uri": "https://localhost:8080/",
          "height": 424
        },
        "outputId": "ccbd0b61-5908-4f77-ef70-9cb05160aaac"
      },
      "source": [
        "sns.heatmap(corr_df, \r\n",
        "        xticklabels=corr_df.columns,\r\n",
        "        yticklabels=corr_df.columns)"
      ],
      "execution_count": 26,
      "outputs": [
        {
          "output_type": "execute_result",
          "data": {
            "text/plain": [
              "<matplotlib.axes._subplots.AxesSubplot at 0x7f96b832fe48>"
            ]
          },
          "metadata": {
            "tags": []
          },
          "execution_count": 26
        },
        {
          "output_type": "display_data",
          "data": {
            "image/png": "[encoded data removed]",
            "text/plain": [
              "<Figure size 432x288 with 2 Axes>"
            ]
          },
          "metadata": {
            "tags": [],
            "needs_background": "light"
          }
        }
      ]
    },
    {
      "cell_type": "code",
      "metadata": {
        "id": "0WY7vvWz-1Yj"
      },
      "source": [
        ""
      ],
      "execution_count": null,
      "outputs": []
    },
    {
      "cell_type": "markdown",
      "metadata": {
        "id": "Tk_aTl8wBG77"
      },
      "source": [
        "## Feature Extraction"
      ]
    },
    {
      "cell_type": "code",
      "metadata": {
        "id": "cdLZC_wGAEk0"
      },
      "source": [
        "from pyspark.ml.feature import VectorAssembler\r\n",
        "\r\n",
        "inputCols = [\r\n",
        " 'Glucose',\r\n",
        " 'Insulin',\r\n",
        " 'BMI'\r\n",
        "]\r\n",
        "outputCol = \"features\"\r\n",
        "\r\n",
        "df_va = VectorAssembler(inputCols = inputCols, outputCol = outputCol)\r\n",
        "\r\n",
        "df_diabetes = df_va.transform(df_diabetes)\r\n",
        "#df.select(['features']).toPandas().head(5)"
      ],
      "execution_count": 27,
      "outputs": []
    },
    {
      "cell_type": "code",
      "metadata": {
        "id": "1jXCX7qTAEZi",
        "colab": {
          "base_uri": "https://localhost:8080/"
        },
        "outputId": "711b1f14-969f-4957-fdaa-85e27838cd61"
      },
      "source": [
        "df_diabetes.show(5)"
      ],
      "execution_count": 28,
      "outputs": [
        {
          "output_type": "stream",
          "text": [
            "+-----------+-------+-------------+-------------+-------+----+------------------------+---+-------+------------------+\n",
            "|Pregnancies|Glucose|BloodPressure|SkinThickness|Insulin| BMI|DiabetesPedigreeFunction|Age|Outcome|          features|\n",
            "+-----------+-------+-------------+-------------+-------+----+------------------------+---+-------+------------------+\n",
            "|          6|    148|           72|           35|      0|33.6|                   0.627| 50|      1|  [148.0,0.0,33.6]|\n",
            "|          1|     85|           66|           29|      0|26.6|                   0.351| 31|      0|   [85.0,0.0,26.6]|\n",
            "|          8|    183|           64|            0|      0|23.3|                   0.672| 32|      1|  [183.0,0.0,23.3]|\n",
            "|          1|     89|           66|           23|     94|28.1|                   0.167| 21|      0|  [89.0,94.0,28.1]|\n",
            "|          0|    137|           40|           35|    168|43.1|                   2.288| 33|      1|[137.0,168.0,43.1]|\n",
            "+-----------+-------+-------------+-------------+-------+----+------------------------+---+-------+------------------+\n",
            "only showing top 5 rows\n",
            "\n"
          ],
          "name": "stdout"
        }
      ]
    },
    {
      "cell_type": "code",
      "metadata": {
        "id": "ooaybeS4BKbY"
      },
      "source": [
        ""
      ],
      "execution_count": null,
      "outputs": []
    },
    {
      "cell_type": "markdown",
      "metadata": {
        "id": "zrN3GHFjBVQr"
      },
      "source": [
        "## Model Training"
      ]
    },
    {
      "cell_type": "code",
      "metadata": {
        "id": "3KfhD8v1BKPx",
        "colab": {
          "base_uri": "https://localhost:8080/"
        },
        "outputId": "0303d8bd-31f0-494b-a6a1-51824b727362"
      },
      "source": [
        "train, test = df_diabetes.randomSplit([0.8, 0.2], seed = 2018)\r\n",
        "print(\"Training Dataset Count: \" + str(train.count()))\r\n",
        "print(\"Test Dataset Count: \" + str(test.count()))"
      ],
      "execution_count": 29,
      "outputs": [
        {
          "output_type": "stream",
          "text": [
            "Training Dataset Count: 627\n",
            "Test Dataset Count: 141\n"
          ],
          "name": "stdout"
        }
      ]
    },
    {
      "cell_type": "code",
      "metadata": {
        "id": "747sTMf0CN9J",
        "colab": {
          "base_uri": "https://localhost:8080/"
        },
        "outputId": "7829bce2-280a-4c57-f815-e59da99bc5b7"
      },
      "source": [
        "train.show(5)"
      ],
      "execution_count": 30,
      "outputs": [
        {
          "output_type": "stream",
          "text": [
            "+-----------+-------+-------------+-------------+-------+----+------------------------+---+-------+----------------+\n",
            "|Pregnancies|Glucose|BloodPressure|SkinThickness|Insulin| BMI|DiabetesPedigreeFunction|Age|Outcome|        features|\n",
            "+-----------+-------+-------------+-------------+-------+----+------------------------+---+-------+----------------+\n",
            "|          0|     57|           60|            0|      0|21.7|                   0.735| 67|      0| [57.0,0.0,21.7]|\n",
            "|          0|     67|           76|            0|      0|45.3|                   0.194| 46|      0| [67.0,0.0,45.3]|\n",
            "|          0|     73|            0|            0|      0|21.1|                   0.342| 25|      0| [73.0,0.0,21.1]|\n",
            "|          0|     74|           52|           10|     36|27.8|                   0.269| 22|      0|[74.0,36.0,27.8]|\n",
            "|          0|     78|           88|           29|     40|36.9|                   0.434| 21|      0|[78.0,40.0,36.9]|\n",
            "+-----------+-------+-------------+-------------+-------+----+------------------------+---+-------+----------------+\n",
            "only showing top 5 rows\n",
            "\n"
          ],
          "name": "stdout"
        }
      ]
    },
    {
      "cell_type": "code",
      "metadata": {
        "id": "xAxL4tBiBbrO"
      },
      "source": [
        "from pyspark.ml.classification import LogisticRegression\r\n",
        "\r\n",
        "lr = LogisticRegression(featuresCol = 'features', labelCol = 'Outcome', maxIter=5)\r\n",
        "lrModel = lr.fit(train)"
      ],
      "execution_count": 31,
      "outputs": []
    },
    {
      "cell_type": "code",
      "metadata": {
        "id": "3-o0s5DPFZNa",
        "colab": {
          "base_uri": "https://localhost:8080/",
          "height": 319
        },
        "outputId": "25a8dff2-88fa-4a10-a6e2-23252d995867"
      },
      "source": [
        "trainingSummary = lrModel.summary\r\n",
        "roc = trainingSummary.roc.toPandas()\r\n",
        "plt.plot(roc['FPR'],roc['TPR'])\r\n",
        "plt.ylabel('False Positive Rate')\r\n",
        "plt.xlabel('True Positive Rate')\r\n",
        "plt.title('ROC Curve')\r\n",
        "plt.show()\r\n",
        "print('Training set areaUnderROC: ' + str(trainingSummary.areaUnderROC))"
      ],
      "execution_count": 32,
      "outputs": [
        {
          "output_type": "display_data",
          "data": {
            "image/png": "[encoded data removed]",
            "text/plain": [
              "<Figure size 432x288 with 1 Axes>"
            ]
          },
          "metadata": {
            "tags": [],
            "needs_background": "light"
          }
        },
        {
          "output_type": "stream",
          "text": [
            "Training set areaUnderROC: 0.7642470230101175\n"
          ],
          "name": "stdout"
        }
      ]
    },
    {
      "cell_type": "markdown",
      "metadata": {
        "id": "IKR_-7M5FhOs"
      },
      "source": [
        "## Evaluate Model"
      ]
    },
    {
      "cell_type": "code",
      "metadata": {
        "id": "9vGcl0RxFe2i",
        "colab": {
          "base_uri": "https://localhost:8080/",
          "height": 206
        },
        "outputId": "8fcacaac-dc3c-4e46-b4e1-0f4e564068cd"
      },
      "source": [
        "predictions = lrModel.transform(test)\r\n",
        "predictions.select('Outcome', 'features',  'rawPrediction', 'prediction', 'probability').toPandas().head(5)"
      ],
      "execution_count": 33,
      "outputs": [
        {
          "output_type": "execute_result",
          "data": {
            "text/html": [
              "<div>\n",
              "<style scoped>\n",
              "    .dataframe tbody tr th:only-of-type {\n",
              "        vertical-align: middle;\n",
              "    }\n",
              "\n",
              "    .dataframe tbody tr th {\n",
              "        vertical-align: top;\n",
              "    }\n",
              "\n",
              "    .dataframe thead th {\n",
              "        text-align: right;\n",
              "    }\n",
              "</style>\n",
              "<table border=\"1\" class=\"dataframe\">\n",
              "  <thead>\n",
              "    <tr style=\"text-align: right;\">\n",
              "      <th></th>\n",
              "      <th>Outcome</th>\n",
              "      <th>features</th>\n",
              "      <th>rawPrediction</th>\n",
              "      <th>prediction</th>\n",
              "      <th>probability</th>\n",
              "    </tr>\n",
              "  </thead>\n",
              "  <tbody>\n",
              "    <tr>\n",
              "      <th>0</th>\n",
              "      <td>0</td>\n",
              "      <td>[93.0, 72.0, 43.4]</td>\n",
              "      <td>[1.9513884609502188, -1.9513884609502188]</td>\n",
              "      <td>0.0</td>\n",
              "      <td>[0.8755979604378447, 0.12440203956215536]</td>\n",
              "    </tr>\n",
              "    <tr>\n",
              "      <th>1</th>\n",
              "      <td>0</td>\n",
              "      <td>[100.0, 110.0, 46.8]</td>\n",
              "      <td>[1.83765499102173, -1.83765499102173]</td>\n",
              "      <td>0.0</td>\n",
              "      <td>[0.8626711312269036, 0.13732886877309636]</td>\n",
              "    </tr>\n",
              "    <tr>\n",
              "      <th>2</th>\n",
              "      <td>0</td>\n",
              "      <td>[102.0, 0.0, 25.1]</td>\n",
              "      <td>[1.034657754147693, -1.034657754147693]</td>\n",
              "      <td>0.0</td>\n",
              "      <td>[0.737817901637271, 0.26218209836272893]</td>\n",
              "    </tr>\n",
              "    <tr>\n",
              "      <th>3</th>\n",
              "      <td>1</td>\n",
              "      <td>[105.0, 0.0, 27.9]</td>\n",
              "      <td>[1.0299693295798837, -1.0299693295798837]</td>\n",
              "      <td>0.0</td>\n",
              "      <td>[0.7369099496895418, 0.26309005031045823]</td>\n",
              "    </tr>\n",
              "    <tr>\n",
              "      <th>4</th>\n",
              "      <td>0</td>\n",
              "      <td>[106.0, 148.0, 39.4]</td>\n",
              "      <td>[1.3937119666069586, -1.3937119666069586]</td>\n",
              "      <td>0.0</td>\n",
              "      <td>[0.801184176322565, 0.19881582367743492]</td>\n",
              "    </tr>\n",
              "  </tbody>\n",
              "</table>\n",
              "</div>"
            ],
            "text/plain": [
              "   Outcome  ...                                probability\n",
              "0        0  ...  [0.8755979604378447, 0.12440203956215536]\n",
              "1        0  ...  [0.8626711312269036, 0.13732886877309636]\n",
              "2        0  ...   [0.737817901637271, 0.26218209836272893]\n",
              "3        1  ...  [0.7369099496895418, 0.26309005031045823]\n",
              "4        0  ...   [0.801184176322565, 0.19881582367743492]\n",
              "\n",
              "[5 rows x 5 columns]"
            ]
          },
          "metadata": {
            "tags": []
          },
          "execution_count": 33
        }
      ]
    },
    {
      "cell_type": "code",
      "metadata": {
        "id": "gqX55hw0BoJg",
        "colab": {
          "base_uri": "https://localhost:8080/"
        },
        "outputId": "6f237b1c-fd6a-423a-a437-a560ed33de32"
      },
      "source": [
        "accuracy = predictions.filter(predictions.Outcome == predictions.prediction).count() / float(predictions.count())\r\n",
        "print(\"Accuracy : \",accuracy)"
      ],
      "execution_count": 34,
      "outputs": [
        {
          "output_type": "stream",
          "text": [
            "Accuracy :  0.6879432624113475\n"
          ],
          "name": "stdout"
        }
      ]
    },
    {
      "cell_type": "code",
      "metadata": {
        "id": "IS5ejeMpDxC0"
      },
      "source": [
        "from sklearn.metrics import confusion_matrix\r\n",
        "class_names=[1.0,0.0]\r\n",
        "import itertools\r\n",
        "def plot_confusion_matrix(cm, classes,\r\n",
        "                          normalize=False,\r\n",
        "                          title='Confusion matrix',\r\n",
        "                          cmap=plt.cm.Blues):\r\n",
        "    \"\"\"\r\n",
        "    This function prints and plots the confusion matrix.\r\n",
        "    Normalization can be applied by setting `normalize=True`.\r\n",
        "    \"\"\"\r\n",
        "    if normalize:\r\n",
        "        cm = cm.astype('float') / cm.sum(axis=1)[:, np.newaxis]\r\n",
        "        print(\"Normalized confusion matrix\")\r\n",
        "    else:\r\n",
        "        print('Confusion matrix, without normalization')\r\n",
        "\r\n",
        "    print(cm)\r\n",
        "\r\n",
        "    plt.imshow(cm, interpolation='nearest', cmap=cmap)\r\n",
        "    plt.title(title)\r\n",
        "    plt.colorbar()\r\n",
        "    tick_marks = np.arange(len(classes))\r\n",
        "    plt.xticks(tick_marks, classes, rotation=45)\r\n",
        "    plt.yticks(tick_marks, classes)\r\n",
        "\r\n",
        "    fmt = '.2f' if normalize else 'd'\r\n",
        "    thresh = cm.max() / 2.\r\n",
        "    for i, j in itertools.product(range(cm.shape[0]), range(cm.shape[1])):\r\n",
        "        plt.text(j, i, format(cm[i, j], fmt),\r\n",
        "                 horizontalalignment=\"center\",\r\n",
        "                 color=\"white\" if cm[i, j] > thresh else \"black\")\r\n",
        "\r\n",
        "    plt.tight_layout()\r\n",
        "    plt.ylabel('Outcome label')\r\n",
        "    plt.xlabel('Predicted label')"
      ],
      "execution_count": 35,
      "outputs": []
    },
    {
      "cell_type": "code",
      "metadata": {
        "id": "8An-mcwPDw7P",
        "colab": {
          "base_uri": "https://localhost:8080/",
          "height": 365
        },
        "outputId": "06957f81-274e-491b-a990-9e360f5a21fb"
      },
      "source": [
        "y_true = predictions.select(\"Outcome\")\r\n",
        "y_true = y_true.toPandas()\r\n",
        "\r\n",
        "y_pred = predictions.select(\"prediction\")\r\n",
        "y_pred = y_pred.toPandas()\r\n",
        "\r\n",
        "cnf_matrix = confusion_matrix(y_true, y_pred,labels=class_names)\r\n",
        "#cnf_matrix\r\n",
        "plt.figure()\r\n",
        "plot_confusion_matrix(cnf_matrix, classes=class_names,\r\n",
        "                      title='Confusion matrix')\r\n",
        "plt.show()"
      ],
      "execution_count": 36,
      "outputs": [
        {
          "output_type": "stream",
          "text": [
            "Confusion matrix, without normalization\n",
            "[[20 29]\n",
            " [15 77]]\n"
          ],
          "name": "stdout"
        },
        {
          "output_type": "display_data",
          "data": {
            "image/png": "[encoded data removed]",
            "text/plain": [
              "<Figure size 432x288 with 2 Axes>"
            ]
          },
          "metadata": {
            "tags": [],
            "needs_background": "light"
          }
        }
      ]
    },
    {
      "cell_type": "code",
      "metadata": {
        "id": "-XMs1S0kDwvQ"
      },
      "source": [
        ""
      ],
      "execution_count": null,
      "outputs": []
    }
  ]
}